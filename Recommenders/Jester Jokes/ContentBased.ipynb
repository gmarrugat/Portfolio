{
 "cells": [
  {
   "cell_type": "markdown",
   "metadata": {
    "colab_type": "text",
    "id": "XJJ7fx2Cwqdy"
   },
   "source": [
    "# Jester Recommendations System - Content Based\n",
    "\n",
    "https://www.kaggle.com/c/jesterdsub2019\n",
    "\n",
    "*Alex Castrelo, Gerard Marrugat, Eduard Ribas, Pilar Santolaria*"
   ]
  },
  {
   "cell_type": "markdown",
   "metadata": {
    "colab_type": "text",
    "id": "C1dVRI6owqdz"
   },
   "source": [
    "## Imports and functions"
   ]
  },
  {
   "cell_type": "code",
   "execution_count": 1,
   "metadata": {
    "colab": {},
    "colab_type": "code",
    "id": "q4xaQg_Gwqd0"
   },
   "outputs": [],
   "source": [
    "%matplotlib inline\n",
    "import pandas as pd\n",
    "import numpy as np\n",
    "import datetime\n",
    "import os\n",
    "import sys\n",
    "import random\n",
    "from scipy.stats import pearsonr\n",
    "from scipy.spatial.distance import euclidean\n",
    "from sklearn.feature_extraction.text import TfidfVectorizer"
   ]
  },
  {
   "cell_type": "code",
   "execution_count": 2,
   "metadata": {
    "colab": {
     "base_uri": "https://localhost:8080/",
     "height": 54
    },
    "colab_type": "code",
    "executionInfo": {
     "elapsed": 537,
     "status": "ok",
     "timestamp": 1558784185266,
     "user": {
      "displayName": "Eduard Ribas Fernández",
      "photoUrl": "https://lh6.googleusercontent.com/-29k67AjnVSU/AAAAAAAAAAI/AAAAAAAAHFY/7-7CPx1LXpI/s64/photo.jpg",
      "userId": "09425714300820196971"
     },
     "user_tz": -120
    },
    "id": "Th92IJ2Owqd3",
    "outputId": "e277cf68-fd46-4f13-ce48-622a286581d5"
   },
   "outputs": [],
   "source": [
    "try: # if running on COLAB\n",
    "    \n",
    "    # mount google drive\n",
    "    from google.colab import drive\n",
    "    drive.mount('/content/drive')\n",
    "    PATH = '/content/drive/My Drive/MDS/jester_jokes/'\n",
    "    \n",
    "except:\n",
    "    PATH = os.getcwd() + '/'"
   ]
  },
  {
   "cell_type": "code",
   "execution_count": 3,
   "metadata": {
    "colab": {
     "base_uri": "https://localhost:8080/",
     "height": 139
    },
    "colab_type": "code",
    "executionInfo": {
     "elapsed": 580,
     "status": "ok",
     "timestamp": 1558784185541,
     "user": {
      "displayName": "Eduard Ribas Fernández",
      "photoUrl": "https://lh6.googleusercontent.com/-29k67AjnVSU/AAAAAAAAAAI/AAAAAAAAHFY/7-7CPx1LXpI/s64/photo.jpg",
      "userId": "09425714300820196971"
     },
     "user_tz": -120
    },
    "id": "tqlHL2Jpwqd5",
    "outputId": "390c66c6-b813-4c11-be5d-e436ab06168b"
   },
   "outputs": [
    {
     "name": "stdout",
     "output_type": "stream",
     "text": [
      "Folders content:\n",
      "PATH:\t\t ['.DS_Store', '.git', '.gitignore', '.ipynb_checkpoints', 'batches', 'ContentBased.ipynb', 'data', 'ItemBasedCollaborativeFiltering.ipynb', 'library', 'LICENSE', 'mess_around_edu.ipynb', 'mess_around_gerard.ipynb', 'notebooks', 'PersonalizedPageRank.ipynb', 'README.md', 'submissions']\n",
      "PATH LIBRARY:\t ['.DS_Store', '__init__.py', '__pycache__', 'functions.py']\n",
      "PATH DATA:\t ['.DS_Store', 'jokes', 'submision_sample.csv', 'target_user_items.csv', 'training.csv']\n",
      "PATH BATCHES:\t ['.DS_Store', 'train_1000', 'train_100000', 'train_500000', 'train_CBCF', 'train_full', 'train_IBCF', 'train_IBCF_pers']\n",
      "PATH SUBM.:\t ['.DS_Store', 'submission_2019.03.28_15.53.csv', 'submission_2019.05.22_20.51.csv', 'submission_2019.05.23_20.00.csv', 'submission_2019.05.23_20.05.csv', 'submission_2019.05.24_16.44.csv', 'submission_2019.05.24_21.06.csv', 'submission_2019.05.25_16.14.csv', 'submission_2019.05.25_21.31.csv', 'submission_2019.05.27_19.58.csv', 'submission_2019.05.29_18.28.csv', 'submission_2019.05.29_19.16.csv']\n"
     ]
    }
   ],
   "source": [
    "PATH_LIB = PATH + \"library/\"\n",
    "PATH_DATA = PATH + \"data/\"\n",
    "PATH_BATCHES = PATH + 'batches/'\n",
    "PATH_SUBMISSIONS = PATH + \"submissions/\"\n",
    "\n",
    "sys.path.append(PATH_LIB)\n",
    "\n",
    "print(\"Folders content:\")\n",
    "print(\"PATH:\\t\\t\", os.listdir(PATH))\n",
    "print(\"PATH LIBRARY:\\t\", os.listdir(PATH_LIB))\n",
    "print(\"PATH DATA:\\t\", os.listdir(PATH_DATA))\n",
    "print(\"PATH BATCHES:\\t\", os.listdir(PATH_BATCHES))\n",
    "print(\"PATH SUBM.:\\t\", os.listdir(PATH_SUBMISSIONS))"
   ]
  },
  {
   "cell_type": "code",
   "execution_count": 4,
   "metadata": {
    "colab": {
     "base_uri": "https://localhost:8080/",
     "height": 51
    },
    "colab_type": "code",
    "executionInfo": {
     "elapsed": 463,
     "status": "ok",
     "timestamp": 1558784409256,
     "user": {
      "displayName": "Eduard Ribas Fernández",
      "photoUrl": "https://lh6.googleusercontent.com/-29k67AjnVSU/AAAAAAAAAAI/AAAAAAAAHFY/7-7CPx1LXpI/s64/photo.jpg",
      "userId": "09425714300820196971"
     },
     "user_tz": -120
    },
    "id": "ZPyU0Q3zwqd-",
    "outputId": "13d6452d-3778-45ba-8a68-0fbaf50b4f83"
   },
   "outputs": [],
   "source": [
    "%load_ext autoreload\n",
    "%autoreload 2\n",
    "from functions import *"
   ]
  },
  {
   "cell_type": "markdown",
   "metadata": {},
   "source": [
    "## Train"
   ]
  },
  {
   "cell_type": "markdown",
   "metadata": {
    "colab_type": "text",
    "id": "XroVIpfrwqeF"
   },
   "source": [
    "### Load train data"
   ]
  },
  {
   "cell_type": "code",
   "execution_count": 5,
   "metadata": {
    "colab": {
     "base_uri": "https://localhost:8080/",
     "height": 51
    },
    "colab_type": "code",
    "executionInfo": {
     "elapsed": 938,
     "status": "ok",
     "timestamp": 1558784189002,
     "user": {
      "displayName": "Eduard Ribas Fernández",
      "photoUrl": "https://lh6.googleusercontent.com/-29k67AjnVSU/AAAAAAAAAAI/AAAAAAAAHFY/7-7CPx1LXpI/s64/photo.jpg",
      "userId": "09425714300820196971"
     },
     "user_tz": -120
    },
    "id": "o39uOJJTwqeG",
    "outputId": "35119302-cdcf-4213-8dd2-25168e6015d9"
   },
   "outputs": [
    {
     "name": "stdout",
     "output_type": "stream",
     "text": [
      "CPU times: user 549 ms, sys: 79.9 ms, total: 629 ms\n",
      "Wall time: 637 ms\n"
     ]
    }
   ],
   "source": [
    "%%time\n",
    "data_train = load_df(\n",
    "    PATH_DATA + \"training.csv\",\n",
    "    item_shift=True\n",
    ")"
   ]
  },
  {
   "cell_type": "code",
   "execution_count": 6,
   "metadata": {},
   "outputs": [
    {
     "data": {
      "text/html": [
       "<div>\n",
       "<style scoped>\n",
       "    .dataframe tbody tr th:only-of-type {\n",
       "        vertical-align: middle;\n",
       "    }\n",
       "\n",
       "    .dataframe tbody tr th {\n",
       "        vertical-align: top;\n",
       "    }\n",
       "\n",
       "    .dataframe thead th {\n",
       "        text-align: right;\n",
       "    }\n",
       "</style>\n",
       "<table border=\"1\" class=\"dataframe\">\n",
       "  <thead>\n",
       "    <tr style=\"text-align: right;\">\n",
       "      <th></th>\n",
       "      <th>user_id</th>\n",
       "      <th>item_id</th>\n",
       "      <th>rating</th>\n",
       "    </tr>\n",
       "  </thead>\n",
       "  <tbody>\n",
       "    <tr>\n",
       "      <th>0</th>\n",
       "      <td>13291</td>\n",
       "      <td>97</td>\n",
       "      <td>-0.670408</td>\n",
       "    </tr>\n",
       "    <tr>\n",
       "      <th>1</th>\n",
       "      <td>19559</td>\n",
       "      <td>7</td>\n",
       "      <td>1.436404</td>\n",
       "    </tr>\n",
       "    <tr>\n",
       "      <th>2</th>\n",
       "      <td>32928</td>\n",
       "      <td>49</td>\n",
       "      <td>1.711739</td>\n",
       "    </tr>\n",
       "    <tr>\n",
       "      <th>3</th>\n",
       "      <td>34459</td>\n",
       "      <td>28</td>\n",
       "      <td>-10.000000</td>\n",
       "    </tr>\n",
       "    <tr>\n",
       "      <th>4</th>\n",
       "      <td>68339</td>\n",
       "      <td>18</td>\n",
       "      <td>4.277970</td>\n",
       "    </tr>\n",
       "  </tbody>\n",
       "</table>\n",
       "</div>"
      ],
      "text/plain": [
       "   user_id  item_id     rating\n",
       "0    13291       97  -0.670408\n",
       "1    19559        7   1.436404\n",
       "2    32928       49   1.711739\n",
       "3    34459       28 -10.000000\n",
       "4    68339       18   4.277970"
      ]
     },
     "execution_count": 6,
     "metadata": {},
     "output_type": "execute_result"
    }
   ],
   "source": [
    "data_train.head()"
   ]
  },
  {
   "cell_type": "code",
   "execution_count": 7,
   "metadata": {},
   "outputs": [],
   "source": [
    "# from:\n",
    "# http://blog.untrod.com/2016/06/simple-similar-products-recommendation-engine-in-python.html\n",
    "\n",
    "import html2text\n",
    "from sklearn.feature_extraction.text import TfidfVectorizer\n",
    "from sklearn.metrics.pairwise import linear_kernel\n",
    "\n",
    "def get_jokes_test():\n",
    "    jokes = pd.DataFrame({'joke' : [],'id' : []})\n",
    "\n",
    "    jokes = jokes.append({'joke' : '', 'id': 0}, ignore_index=True)\n",
    "    for i in range(1, 101):\n",
    "        with open(\"data/jokes/init\"+str(i)+\".html\") as f:\n",
    "            jokes = jokes.append({'joke' : html2text.html2text(f.read()), 'id': i},\n",
    "                                 ignore_index=True)\n",
    "    jokes.drop(0, axis=0, inplace=True)\n",
    "    return jokes\n",
    "\n",
    "jokes = get_jokes_test()"
   ]
  },
  {
   "cell_type": "code",
   "execution_count": 8,
   "metadata": {},
   "outputs": [],
   "source": [
    "def similarity_matrix_content_base(jokes_df, min_df = 0.05, ngram_range=(1, 3)):\n",
    "    \"\"\" This function takes a set of sentence and computes the similarity between them \"\"\"\n",
    "    tf = TfidfVectorizer(analyzer='word', ngram_range = ngram_range, min_df = min_df, stop_words='english')\n",
    "    \n",
    "    # get the representation of our data in the new space from raw text\n",
    "    tfidf_matrix = tf.fit_transform(jokes_df['joke'])\n",
    "    \n",
    "    # compute the similaities between the senteces\n",
    "    sim = linear_kernel(tfidf_matrix, tfidf_matrix)\n",
    "    return sim\n",
    "\n",
    "#compute simiarlity between jokes\n",
    "S_CB = similarity_matrix_content_base(jokes)"
   ]
  },
  {
   "cell_type": "code",
   "execution_count": 9,
   "metadata": {},
   "outputs": [
    {
     "data": {
      "text/plain": [
       "array([1.        , 0.        , 0.        , 0.4799554 , 0.        ,\n",
       "       0.06234866, 0.        , 0.        , 0.11783031, 0.17741477,\n",
       "       0.        , 0.35705838, 0.        , 0.04797216, 0.        ,\n",
       "       0.        , 0.        , 0.13343466, 0.        , 0.31339494,\n",
       "       0.        , 0.16514902, 0.        , 0.        , 0.        ,\n",
       "       0.        , 0.28184029, 0.07069321, 0.17914217, 0.        ,\n",
       "       0.20235803, 0.3653596 , 0.73379049, 0.        , 0.15905642,\n",
       "       0.16017581, 0.4632751 , 0.        , 0.42725184, 0.        ,\n",
       "       0.        , 0.21156796, 0.17799653, 0.09080381, 0.        ,\n",
       "       0.28449808, 0.        , 0.        , 0.        , 0.07125142,\n",
       "       0.        , 0.        , 0.15624135, 0.        , 0.        ,\n",
       "       0.61604962, 0.        , 0.        , 0.        , 0.        ,\n",
       "       0.        , 0.        , 0.        , 0.        , 0.        ,\n",
       "       0.        , 0.        , 0.74372572, 0.18619918, 0.        ,\n",
       "       0.        , 0.        , 0.        , 0.        , 0.        ,\n",
       "       0.33866878, 0.        , 0.        , 0.        , 0.1525603 ,\n",
       "       0.57522455, 0.12088459, 0.5276306 , 0.        , 0.        ,\n",
       "       0.17803249, 0.8009873 , 0.32342535, 0.        , 0.        ,\n",
       "       0.        , 0.23361179, 0.        , 0.3623821 , 0.        ,\n",
       "       0.        , 0.11535663, 0.        , 0.        , 0.        ])"
      ]
     },
     "execution_count": 9,
     "metadata": {},
     "output_type": "execute_result"
    }
   ],
   "source": [
    "S_CB[0]"
   ]
  },
  {
   "cell_type": "code",
   "execution_count": 10,
   "metadata": {},
   "outputs": [],
   "source": [
    "#def content_sim(df, item1, item2):  \n",
    "#    return S_CB[item1-1,item2-1]"
   ]
  },
  {
   "cell_type": "code",
   "execution_count": 12,
   "metadata": {},
   "outputs": [],
   "source": [
    "class CBCollaborativeFiltering:\n",
    "    \n",
    "    def __init__(self,df):#, similarity=content_sim):\n",
    "        \"\"\" Constructor \"\"\"\n",
    "        #self.sim_method=similarity# Gets recommendations for a person by using a weighted average\n",
    "        self.df=df\n",
    "        #self.sim={}   \n",
    "        \n",
    "    #def get_sim(self):\n",
    "    #    \"\"\" Return similarity for debugging reasons \"\"\" \n",
    "    #    return self.sim    \n",
    "    #    \n",
    "    #def train(self):\n",
    "    #    \"\"\" Prepare data structures for estimation. Similarity matrix for items \"\"\"\n",
    "    #    all_items = set(self.df['item_id'])\n",
    "    #    for item1 in all_items:\n",
    "    #        self.sim.setdefault(item1, {})\n",
    "    #        a=data_train[data_train['item_id']==item1][['user_id']]\n",
    "    #        data_reduced=pd.merge(data_train,a,on='user_id')\n",
    "    #        for item2 in all_items:\n",
    "    #            \n",
    "    #            if item1==item2: continue\n",
    "    #            self.sim.setdefault(item2, {})\n",
    "    #            if(item1 in self.sim[item2]):continue\n",
    "    #            sim=self.sim_method(data_reduced,item1,item2)\n",
    "    #            if(sim<0):\n",
    "    #                self.sim[item1][item2]=0\n",
    "    #                self.sim[item2][item1]=0\n",
    "    #            else:\n",
    "    #                self.sim[item1][item2]=sim\n",
    "    #                self.sim[item2][item1]=sim\n",
    "\n",
    "    \n",
    "    def predict(self, user_id, item_id):\n",
    "        \n",
    "        totals={}\n",
    "        user_items=self.df[self.df['user_id'] == user_id]\n",
    "        rating_num=0.0\n",
    "        rating_den=0.0\n",
    "        all_items=set(user_items['item_id'])\n",
    "        \n",
    "        for other in all_items:\n",
    "            if item_id==other: continue \n",
    "            #rating_num += self.sim[item_id][other] * float(user_items[user_items['item_id']==other]['rating'])\n",
    "            #rating_den += self.sim[item_id][other]\n",
    "            rating_num += S_CB[item_id-1][other-1] * float(user_items[user_items['item_id']==other]['rating'])\n",
    "            rating_den += S_CB[item_id-1][other-1]\n",
    "\n",
    "        if rating_den==0: \n",
    "            if self.df.rating[self.df['user_id']==user_id].mean()>0:\n",
    "                # return the mean user rating if there is no similar for the computation\n",
    "                return self.df.rating[self.df['user_id']==user_id].mean()\n",
    "            else:\n",
    "                # else return mean item rating \n",
    "                return self.df.rating[self.df['item_id']==item_id].mean()\n",
    "        \n",
    "        return rating_num/rating_den"
   ]
  },
  {
   "cell_type": "code",
   "execution_count": 14,
   "metadata": {},
   "outputs": [
    {
     "name": "stdout",
     "output_type": "stream",
     "text": [
      "CPU times: user 6 µs, sys: 1 µs, total: 7 µs\n",
      "Wall time: 9.06 µs\n"
     ]
    }
   ],
   "source": [
    "%%time\n",
    "rec = CBCollaborativeFiltering(data_train)#, similarity=content_sim)\n",
    "#rec.train()"
   ]
  },
  {
   "cell_type": "code",
   "execution_count": 15,
   "metadata": {},
   "outputs": [
    {
     "data": {
      "text/plain": [
       "4.446564545642433"
      ]
     },
     "execution_count": 15,
     "metadata": {},
     "output_type": "execute_result"
    }
   ],
   "source": [
    "rec.predict(19559,8)"
   ]
  },
  {
   "cell_type": "code",
   "execution_count": 16,
   "metadata": {},
   "outputs": [
    {
     "data": {
      "text/plain": [
       "-1.0817106889157686"
      ]
     },
     "execution_count": 16,
     "metadata": {},
     "output_type": "execute_result"
    }
   ],
   "source": [
    "rec.predict(1,8)"
   ]
  },
  {
   "cell_type": "markdown",
   "metadata": {},
   "source": [
    "## Predict test set"
   ]
  },
  {
   "cell_type": "markdown",
   "metadata": {},
   "source": [
    "### Load Test data"
   ]
  },
  {
   "cell_type": "code",
   "execution_count": 17,
   "metadata": {},
   "outputs": [
    {
     "name": "stdout",
     "output_type": "stream",
     "text": [
      "(50000, 3)\n"
     ]
    },
    {
     "data": {
      "text/html": [
       "<div>\n",
       "<style scoped>\n",
       "    .dataframe tbody tr th:only-of-type {\n",
       "        vertical-align: middle;\n",
       "    }\n",
       "\n",
       "    .dataframe tbody tr th {\n",
       "        vertical-align: top;\n",
       "    }\n",
       "\n",
       "    .dataframe thead th {\n",
       "        text-align: right;\n",
       "    }\n",
       "</style>\n",
       "<table border=\"1\" class=\"dataframe\">\n",
       "  <thead>\n",
       "    <tr style=\"text-align: right;\">\n",
       "      <th></th>\n",
       "      <th>id</th>\n",
       "      <th>user_id</th>\n",
       "      <th>item_id</th>\n",
       "    </tr>\n",
       "  </thead>\n",
       "  <tbody>\n",
       "    <tr>\n",
       "      <th>0</th>\n",
       "      <td>0</td>\n",
       "      <td>52841</td>\n",
       "      <td>68</td>\n",
       "    </tr>\n",
       "    <tr>\n",
       "      <th>1</th>\n",
       "      <td>1</td>\n",
       "      <td>51916</td>\n",
       "      <td>84</td>\n",
       "    </tr>\n",
       "    <tr>\n",
       "      <th>2</th>\n",
       "      <td>2</td>\n",
       "      <td>46765</td>\n",
       "      <td>65</td>\n",
       "    </tr>\n",
       "    <tr>\n",
       "      <th>3</th>\n",
       "      <td>3</td>\n",
       "      <td>9882</td>\n",
       "      <td>35</td>\n",
       "    </tr>\n",
       "    <tr>\n",
       "      <th>4</th>\n",
       "      <td>4</td>\n",
       "      <td>22323</td>\n",
       "      <td>24</td>\n",
       "    </tr>\n",
       "    <tr>\n",
       "      <th>5</th>\n",
       "      <td>5</td>\n",
       "      <td>40625</td>\n",
       "      <td>87</td>\n",
       "    </tr>\n",
       "    <tr>\n",
       "      <th>6</th>\n",
       "      <td>6</td>\n",
       "      <td>6051</td>\n",
       "      <td>34</td>\n",
       "    </tr>\n",
       "    <tr>\n",
       "      <th>7</th>\n",
       "      <td>7</td>\n",
       "      <td>40625</td>\n",
       "      <td>52</td>\n",
       "    </tr>\n",
       "    <tr>\n",
       "      <th>8</th>\n",
       "      <td>8</td>\n",
       "      <td>23789</td>\n",
       "      <td>38</td>\n",
       "    </tr>\n",
       "    <tr>\n",
       "      <th>9</th>\n",
       "      <td>9</td>\n",
       "      <td>19286</td>\n",
       "      <td>83</td>\n",
       "    </tr>\n",
       "  </tbody>\n",
       "</table>\n",
       "</div>"
      ],
      "text/plain": [
       "   id  user_id  item_id\n",
       "0   0    52841       68\n",
       "1   1    51916       84\n",
       "2   2    46765       65\n",
       "3   3     9882       35\n",
       "4   4    22323       24\n",
       "5   5    40625       87\n",
       "6   6     6051       34\n",
       "7   7    40625       52\n",
       "8   8    23789       38\n",
       "9   9    19286       83"
      ]
     },
     "execution_count": 17,
     "metadata": {},
     "output_type": "execute_result"
    }
   ],
   "source": [
    "df_test = load_df(PATH_DATA + \"target_user_items.csv\")\n",
    "df_test.rename(index=str, columns={\"Unnamed: 0\": \"id\"}, inplace=True)\n",
    "print(df_test.shape)\n",
    "df_test.head(10)"
   ]
  },
  {
   "cell_type": "code",
   "execution_count": 18,
   "metadata": {},
   "outputs": [],
   "source": [
    "def predict_CBCF(row):\n",
    "    if row[\"id\"] % 500 == 0:\n",
    "        print_time(\"\\tpredicting row \" + str(row[\"id\"]))\n",
    "    return rec.predict(row[\"user_id\"], row[\"item_id\"])"
   ]
  },
  {
   "cell_type": "markdown",
   "metadata": {
    "colab_type": "text",
    "id": "rny3bw9mwqfE"
   },
   "source": [
    "#### Batch predict"
   ]
  },
  {
   "cell_type": "code",
   "execution_count": 19,
   "metadata": {
    "colab": {
     "base_uri": "https://localhost:8080/",
     "height": 34
    },
    "colab_type": "code",
    "executionInfo": {
     "elapsed": 450,
     "status": "ok",
     "timestamp": 1558784495451,
     "user": {
      "displayName": "Eduard Ribas Fernández",
      "photoUrl": "https://lh6.googleusercontent.com/-29k67AjnVSU/AAAAAAAAAAI/AAAAAAAAHFY/7-7CPx1LXpI/s64/photo.jpg",
      "userId": "09425714300820196971"
     },
     "user_tz": -120
    },
    "id": "806EuPtzwqfF",
    "outputId": "ac24fd36-e892-4405-8b98-248ce5115b2c"
   },
   "outputs": [
    {
     "name": "stdout",
     "output_type": "stream",
     "text": [
      "[10000 20000 30000 40000 50000]\n"
     ]
    }
   ],
   "source": [
    "batch_size = 10000\n",
    "batches = np.arange(batch_size,df_test.shape[0]+1,batch_size)\n",
    "print(batches)"
   ]
  },
  {
   "cell_type": "code",
   "execution_count": 20,
   "metadata": {
    "colab": {
     "base_uri": "https://localhost:8080/",
     "height": 54
    },
    "colab_type": "code",
    "executionInfo": {
     "elapsed": 557,
     "status": "ok",
     "timestamp": 1558784496150,
     "user": {
      "displayName": "Eduard Ribas Fernández",
      "photoUrl": "https://lh6.googleusercontent.com/-29k67AjnVSU/AAAAAAAAAAI/AAAAAAAAHFY/7-7CPx1LXpI/s64/photo.jpg",
      "userId": "09425714300820196971"
     },
     "user_tz": -120
    },
    "id": "9wc4oYfnylcw",
    "outputId": "a0bc2b73-64ca-427f-c99c-a5f75365bfca"
   },
   "outputs": [
    {
     "name": "stdout",
     "output_type": "stream",
     "text": [
      "Directory /Users/edu/Documents/ACADÈMIC/2018-2019 - Master on Foundations of Data Science/S2/Recommenders/jester_jokes/batches/train_CBCF/ already exists!\n"
     ]
    }
   ],
   "source": [
    "BATCH_FOLDER = PATH_BATCHES + \"train_CBCF/\"\n",
    "create_directory(BATCH_FOLDER)"
   ]
  },
  {
   "cell_type": "markdown",
   "metadata": {},
   "source": [
    "##### Predict for each batch and save"
   ]
  },
  {
   "cell_type": "code",
   "execution_count": 21,
   "metadata": {
    "colab": {
     "base_uri": "https://localhost:8080/",
     "height": 1122
    },
    "colab_type": "code",
    "executionInfo": {
     "elapsed": 8603075,
     "status": "ok",
     "timestamp": 1558793099441,
     "user": {
      "displayName": "Eduard Ribas Fernández",
      "photoUrl": "https://lh6.googleusercontent.com/-29k67AjnVSU/AAAAAAAAAAI/AAAAAAAAHFY/7-7CPx1LXpI/s64/photo.jpg",
      "userId": "09425714300820196971"
     },
     "user_tz": -120
    },
    "id": "makp359OwqfH",
    "outputId": "0a350b46-1d9d-4737-f7ab-4923d8da00aa",
    "scrolled": false
   },
   "outputs": [
    {
     "name": "stdout",
     "output_type": "stream",
     "text": [
      " 2019-05-29 19:33:41.63 computing batch 10000: batch_10000.csv\n",
      " 2019-05-29 19:33:41.64 \tpredicting row 0\n",
      " 2019-05-29 19:33:48.13 \tpredicting row 500\n",
      " 2019-05-29 19:33:54.37 \tpredicting row 1000\n",
      " 2019-05-29 19:34:00.80 \tpredicting row 1500\n",
      " 2019-05-29 19:34:07.00 \tpredicting row 2000\n",
      " 2019-05-29 19:34:13.53 \tpredicting row 2500\n",
      " 2019-05-29 19:34:20.16 \tpredicting row 3000\n",
      " 2019-05-29 19:34:26.34 \tpredicting row 3500\n",
      " 2019-05-29 19:34:32.52 \tpredicting row 4000\n",
      " 2019-05-29 19:34:40.33 \tpredicting row 4500\n",
      " 2019-05-29 19:34:48.62 \tpredicting row 5000\n",
      " 2019-05-29 19:34:55.68 \tpredicting row 5500\n",
      " 2019-05-29 19:35:05.13 \tpredicting row 6000\n",
      " 2019-05-29 19:35:12.74 \tpredicting row 6500\n",
      " 2019-05-29 19:35:20.58 \tpredicting row 7000\n",
      " 2019-05-29 19:35:28.15 \tpredicting row 7500\n",
      " 2019-05-29 19:35:34.49 \tpredicting row 8000\n",
      " 2019-05-29 19:35:40.80 \tpredicting row 8500\n",
      " 2019-05-29 19:35:47.25 \tpredicting row 9000\n",
      " 2019-05-29 19:35:53.99 \tpredicting row 9500\n",
      " 2019-05-29 19:36:04.24 computing batch 20000: batch_20000.csv\n",
      " 2019-05-29 19:36:04.24 \tpredicting row 10000\n",
      " 2019-05-29 19:36:11.52 \tpredicting row 10500\n",
      " 2019-05-29 19:36:18.12 \tpredicting row 11000\n",
      " 2019-05-29 19:36:25.53 \tpredicting row 11500\n",
      " 2019-05-29 19:36:32.22 \tpredicting row 12000\n",
      " 2019-05-29 19:36:38.80 \tpredicting row 12500\n",
      " 2019-05-29 19:36:45.41 \tpredicting row 13000\n",
      " 2019-05-29 19:36:52.56 \tpredicting row 13500\n",
      " 2019-05-29 19:37:00.55 \tpredicting row 14000\n",
      " 2019-05-29 19:37:08.05 \tpredicting row 14500\n",
      " 2019-05-29 19:37:15.29 \tpredicting row 15000\n",
      " 2019-05-29 19:37:22.30 \tpredicting row 15500\n",
      " 2019-05-29 19:37:29.84 \tpredicting row 16000\n",
      " 2019-05-29 19:37:36.96 \tpredicting row 16500\n",
      " 2019-05-29 19:37:43.34 \tpredicting row 17000\n",
      " 2019-05-29 19:37:49.63 \tpredicting row 17500\n",
      " 2019-05-29 19:37:56.19 \tpredicting row 18000\n",
      " 2019-05-29 19:38:02.55 \tpredicting row 18500\n",
      " 2019-05-29 19:38:10.30 \tpredicting row 19000\n",
      " 2019-05-29 19:38:18.13 \tpredicting row 19500\n",
      " 2019-05-29 19:38:24.62 computing batch 30000: batch_30000.csv\n",
      " 2019-05-29 19:38:24.62 \tpredicting row 20000\n",
      " 2019-05-29 19:38:32.28 \tpredicting row 20500\n",
      " 2019-05-29 19:38:38.83 \tpredicting row 21000\n",
      " 2019-05-29 19:38:45.37 \tpredicting row 21500\n",
      " 2019-05-29 19:38:52.25 \tpredicting row 22000\n",
      " 2019-05-29 19:38:58.41 \tpredicting row 22500\n",
      " 2019-05-29 19:39:04.65 \tpredicting row 23000\n",
      " 2019-05-29 19:39:11.16 \tpredicting row 23500\n",
      " 2019-05-29 19:39:17.38 \tpredicting row 24000\n",
      " 2019-05-29 19:39:23.52 \tpredicting row 24500\n",
      " 2019-05-29 19:39:29.94 \tpredicting row 25000\n",
      " 2019-05-29 19:39:36.44 \tpredicting row 25500\n",
      " 2019-05-29 19:39:42.81 \tpredicting row 26000\n",
      " 2019-05-29 19:39:49.22 \tpredicting row 26500\n",
      " 2019-05-29 19:39:55.80 \tpredicting row 27000\n",
      " 2019-05-29 19:40:02.58 \tpredicting row 27500\n",
      " 2019-05-29 19:40:09.04 \tpredicting row 28000\n",
      " 2019-05-29 19:40:16.65 \tpredicting row 28500\n",
      " 2019-05-29 19:40:22.92 \tpredicting row 29000\n",
      " 2019-05-29 19:40:29.59 \tpredicting row 29500\n",
      " 2019-05-29 19:40:36.01 computing batch 40000: batch_40000.csv\n",
      " 2019-05-29 19:40:36.01 \tpredicting row 30000\n",
      " 2019-05-29 19:40:44.04 \tpredicting row 30500\n",
      " 2019-05-29 19:40:51.74 \tpredicting row 31000\n",
      " 2019-05-29 19:40:58.04 \tpredicting row 31500\n",
      " 2019-05-29 19:41:04.46 \tpredicting row 32000\n",
      " 2019-05-29 19:41:10.74 \tpredicting row 32500\n",
      " 2019-05-29 19:41:17.24 \tpredicting row 33000\n",
      " 2019-05-29 19:41:24.26 \tpredicting row 33500\n",
      " 2019-05-29 19:41:30.47 \tpredicting row 34000\n",
      " 2019-05-29 19:41:36.80 \tpredicting row 34500\n",
      " 2019-05-29 19:41:43.37 \tpredicting row 35000\n",
      " 2019-05-29 19:41:49.88 \tpredicting row 35500\n",
      " 2019-05-29 19:41:56.28 \tpredicting row 36000\n",
      " 2019-05-29 19:42:02.62 \tpredicting row 36500\n",
      " 2019-05-29 19:42:08.56 \tpredicting row 37000\n",
      " 2019-05-29 19:42:14.96 \tpredicting row 37500\n",
      " 2019-05-29 19:42:21.93 \tpredicting row 38000\n",
      " 2019-05-29 19:42:28.11 \tpredicting row 38500\n",
      " 2019-05-29 19:42:35.39 \tpredicting row 39000\n",
      " 2019-05-29 19:42:41.92 \tpredicting row 39500\n",
      " 2019-05-29 19:42:48.13 computing batch 50000: batch_50000.csv\n",
      " 2019-05-29 19:42:48.13 \tpredicting row 40000\n",
      " 2019-05-29 19:42:56.11 \tpredicting row 40500\n",
      " 2019-05-29 19:43:10.84 \tpredicting row 41000\n",
      " 2019-05-29 19:43:19.27 \tpredicting row 41500\n",
      " 2019-05-29 19:43:27.08 \tpredicting row 42000\n",
      " 2019-05-29 19:43:35.13 \tpredicting row 42500\n",
      " 2019-05-29 19:43:42.06 \tpredicting row 43000\n",
      " 2019-05-29 19:43:48.61 \tpredicting row 43500\n",
      " 2019-05-29 19:43:54.85 \tpredicting row 44000\n",
      " 2019-05-29 19:44:03.53 \tpredicting row 44500\n",
      " 2019-05-29 19:44:11.20 \tpredicting row 45000\n",
      " 2019-05-29 19:44:18.29 \tpredicting row 45500\n",
      " 2019-05-29 19:44:25.73 \tpredicting row 46000\n",
      " 2019-05-29 19:44:32.43 \tpredicting row 46500\n",
      " 2019-05-29 19:44:39.84 \tpredicting row 47000\n",
      " 2019-05-29 19:44:47.78 \tpredicting row 47500\n",
      " 2019-05-29 19:44:59.27 \tpredicting row 48000\n",
      " 2019-05-29 19:45:06.71 \tpredicting row 48500\n",
      " 2019-05-29 19:45:13.19 \tpredicting row 49000\n",
      " 2019-05-29 19:45:19.61 \tpredicting row 49500\n",
      "DONE\n"
     ]
    }
   ],
   "source": [
    "for batch in batches:\n",
    "    filename =  \"batch_\" + str(batch) + \".csv\"\n",
    "    if filename not in os.listdir(BATCH_FOLDER):\n",
    "        print_time(\"computing batch \" + str(batch) + \": \" + filename)\n",
    "        df_test_batch = df_test.iloc[batch-batch_size:batch].copy()\n",
    "        df_test_batch['rating'] = df_test_batch.apply(predict_CBCF, axis=1)\n",
    "        df_test_batch.to_csv(BATCH_FOLDER + filename, index=False)\n",
    "    else:\n",
    "        print_time(\"batch \" + str(batch) + \" already exists!\")\n",
    "print(\"DONE\")"
   ]
  },
  {
   "cell_type": "markdown",
   "metadata": {},
   "source": [
    "##### Load prediction files in a single DF"
   ]
  },
  {
   "cell_type": "code",
   "execution_count": 22,
   "metadata": {
    "colab": {},
    "colab_type": "code",
    "id": "qAjRRPhvwqfJ",
    "outputId": "03f78004-18d1-4699-8a6c-534dd8f9a3bb",
    "scrolled": true
   },
   "outputs": [
    {
     "name": "stdout",
     "output_type": "stream",
     "text": [
      " 2019-05-29 19:45:32.08 reading batch file batch_10000.csv\n",
      " 2019-05-29 19:45:32.09 reading batch file batch_20000.csv\n",
      " 2019-05-29 19:45:32.12 reading batch file batch_30000.csv\n",
      " 2019-05-29 19:45:32.14 reading batch file batch_40000.csv\n",
      " 2019-05-29 19:45:32.16 reading batch file batch_50000.csv\n"
     ]
    }
   ],
   "source": [
    "df_test = pd.DataFrame(columns = ['id','user_id','item_id','rating'])\n",
    "for batch in batches:\n",
    "    filename = \"batch_\" + str(batch) + \".csv\"\n",
    "    if filename in os.listdir(BATCH_FOLDER):\n",
    "        print_time(\"reading batch file \" + filename)\n",
    "        df_test_batch = pd.read_csv(BATCH_FOLDER + filename)\n",
    "        df_test = df_test.append(df_test_batch)\n",
    "    else:\n",
    "        print_time(\"batch file \" + filename + \" doesn't exist!\")"
   ]
  },
  {
   "cell_type": "code",
   "execution_count": 23,
   "metadata": {
    "colab": {},
    "colab_type": "code",
    "id": "9dCP-lP1wqfM",
    "outputId": "53024bea-1025-41ec-86b9-63281a2307ff"
   },
   "outputs": [
    {
     "name": "stdout",
     "output_type": "stream",
     "text": [
      "(50000, 4)\n"
     ]
    },
    {
     "data": {
      "text/html": [
       "<div>\n",
       "<style scoped>\n",
       "    .dataframe tbody tr th:only-of-type {\n",
       "        vertical-align: middle;\n",
       "    }\n",
       "\n",
       "    .dataframe tbody tr th {\n",
       "        vertical-align: top;\n",
       "    }\n",
       "\n",
       "    .dataframe thead th {\n",
       "        text-align: right;\n",
       "    }\n",
       "</style>\n",
       "<table border=\"1\" class=\"dataframe\">\n",
       "  <thead>\n",
       "    <tr style=\"text-align: right;\">\n",
       "      <th></th>\n",
       "      <th>id</th>\n",
       "      <th>user_id</th>\n",
       "      <th>item_id</th>\n",
       "      <th>rating</th>\n",
       "    </tr>\n",
       "  </thead>\n",
       "  <tbody>\n",
       "    <tr>\n",
       "      <th>0</th>\n",
       "      <td>0</td>\n",
       "      <td>52841</td>\n",
       "      <td>68</td>\n",
       "      <td>2.190280</td>\n",
       "    </tr>\n",
       "    <tr>\n",
       "      <th>1</th>\n",
       "      <td>1</td>\n",
       "      <td>51916</td>\n",
       "      <td>84</td>\n",
       "      <td>-8.904854</td>\n",
       "    </tr>\n",
       "    <tr>\n",
       "      <th>2</th>\n",
       "      <td>2</td>\n",
       "      <td>46765</td>\n",
       "      <td>65</td>\n",
       "      <td>2.001887</td>\n",
       "    </tr>\n",
       "    <tr>\n",
       "      <th>3</th>\n",
       "      <td>3</td>\n",
       "      <td>9882</td>\n",
       "      <td>35</td>\n",
       "      <td>-0.644786</td>\n",
       "    </tr>\n",
       "    <tr>\n",
       "      <th>4</th>\n",
       "      <td>4</td>\n",
       "      <td>22323</td>\n",
       "      <td>24</td>\n",
       "      <td>3.454618</td>\n",
       "    </tr>\n",
       "    <tr>\n",
       "      <th>5</th>\n",
       "      <td>5</td>\n",
       "      <td>40625</td>\n",
       "      <td>87</td>\n",
       "      <td>-4.272525</td>\n",
       "    </tr>\n",
       "    <tr>\n",
       "      <th>6</th>\n",
       "      <td>6</td>\n",
       "      <td>6051</td>\n",
       "      <td>34</td>\n",
       "      <td>6.406365</td>\n",
       "    </tr>\n",
       "    <tr>\n",
       "      <th>7</th>\n",
       "      <td>7</td>\n",
       "      <td>40625</td>\n",
       "      <td>52</td>\n",
       "      <td>2.553668</td>\n",
       "    </tr>\n",
       "    <tr>\n",
       "      <th>8</th>\n",
       "      <td>8</td>\n",
       "      <td>23789</td>\n",
       "      <td>38</td>\n",
       "      <td>-2.634561</td>\n",
       "    </tr>\n",
       "    <tr>\n",
       "      <th>9</th>\n",
       "      <td>9</td>\n",
       "      <td>19286</td>\n",
       "      <td>83</td>\n",
       "      <td>-2.203059</td>\n",
       "    </tr>\n",
       "  </tbody>\n",
       "</table>\n",
       "</div>"
      ],
      "text/plain": [
       "  id user_id item_id    rating\n",
       "0  0   52841      68  2.190280\n",
       "1  1   51916      84 -8.904854\n",
       "2  2   46765      65  2.001887\n",
       "3  3    9882      35 -0.644786\n",
       "4  4   22323      24  3.454618\n",
       "5  5   40625      87 -4.272525\n",
       "6  6    6051      34  6.406365\n",
       "7  7   40625      52  2.553668\n",
       "8  8   23789      38 -2.634561\n",
       "9  9   19286      83 -2.203059"
      ]
     },
     "execution_count": 23,
     "metadata": {},
     "output_type": "execute_result"
    }
   ],
   "source": [
    "print(df_test.shape)\n",
    "df_test.head(10)"
   ]
  },
  {
   "cell_type": "code",
   "execution_count": 29,
   "metadata": {},
   "outputs": [],
   "source": [
    "df_test.fillna(0, inplace=True)"
   ]
  },
  {
   "cell_type": "code",
   "execution_count": 30,
   "metadata": {},
   "outputs": [
    {
     "data": {
      "text/html": [
       "<div>\n",
       "<style scoped>\n",
       "    .dataframe tbody tr th:only-of-type {\n",
       "        vertical-align: middle;\n",
       "    }\n",
       "\n",
       "    .dataframe tbody tr th {\n",
       "        vertical-align: top;\n",
       "    }\n",
       "\n",
       "    .dataframe thead th {\n",
       "        text-align: right;\n",
       "    }\n",
       "</style>\n",
       "<table border=\"1\" class=\"dataframe\">\n",
       "  <thead>\n",
       "    <tr style=\"text-align: right;\">\n",
       "      <th></th>\n",
       "      <th>id</th>\n",
       "      <th>user_id</th>\n",
       "      <th>item_id</th>\n",
       "      <th>rating</th>\n",
       "    </tr>\n",
       "  </thead>\n",
       "  <tbody>\n",
       "    <tr>\n",
       "      <th>1037</th>\n",
       "      <td>1037</td>\n",
       "      <td>29807</td>\n",
       "      <td>100</td>\n",
       "      <td>0.0</td>\n",
       "    </tr>\n",
       "  </tbody>\n",
       "</table>\n",
       "</div>"
      ],
      "text/plain": [
       "        id  user_id  item_id  rating\n",
       "1037  1037    29807      100     0.0"
      ]
     },
     "execution_count": 30,
     "metadata": {},
     "output_type": "execute_result"
    }
   ],
   "source": [
    "df_test[df_test.id==1037]"
   ]
  },
  {
   "cell_type": "markdown",
   "metadata": {
    "colab_type": "text",
    "id": "a9iX5mMJwqfh"
   },
   "source": [
    "## Submission"
   ]
  },
  {
   "cell_type": "code",
   "execution_count": 31,
   "metadata": {
    "colab": {},
    "colab_type": "code",
    "id": "KItzBARmwqfh",
    "outputId": "bd1e1178-2d11-472e-deb2-05c4f65640f6"
   },
   "outputs": [
    {
     "name": "stdout",
     "output_type": "stream",
     "text": [
      "Dataframe saved: submission_2019.05.29_19.50.csv\n",
      "\n"
     ]
    }
   ],
   "source": [
    "subm_file = save_submission_file(df_test, PATH_SUBMISSIONS)"
   ]
  },
  {
   "cell_type": "markdown",
   "metadata": {
    "colab_type": "text",
    "id": "ML-iDrHUwqfo"
   },
   "source": [
    "https://www.kaggle.com/c/jesterdsub2019/submissions"
   ]
  },
  {
   "cell_type": "code",
   "execution_count": null,
   "metadata": {},
   "outputs": [],
   "source": []
  },
  {
   "cell_type": "code",
   "execution_count": null,
   "metadata": {},
   "outputs": [],
   "source": []
  },
  {
   "cell_type": "code",
   "execution_count": null,
   "metadata": {},
   "outputs": [],
   "source": []
  },
  {
   "cell_type": "code",
   "execution_count": null,
   "metadata": {},
   "outputs": [],
   "source": []
  },
  {
   "cell_type": "code",
   "execution_count": null,
   "metadata": {},
   "outputs": [],
   "source": [
    "def predict_ratings_on_test_set_item_item_class(test):\n",
    "    rating_pred = []\n",
    "    counter = 0\n",
    "    for user_id, item_id in zip(test.user_id, test.item_id):\n",
    "        counter += 1\n",
    "        rating_pred.append(reco_item_adjcos.predict(user_id, item_id))\n",
    "        if float(counter % 1000) == 0.0:\n",
    "            print_time(counter)\n",
    "    return(rating_pred)\n",
    "\n",
    "def correct_for_NaNs(rating_pred):\n",
    "    rating_pred_ = pd.Series(test.rating_pred)\n",
    "    print(rating_pred_.isnull().sum(), \"NaNs encountered!\")\n",
    "    \n",
    "    rating_pred_[rating_pred_.isnull()] = 0\n",
    "    \n",
    "    return(rating_pred_)"
   ]
  },
  {
   "cell_type": "code",
   "execution_count": null,
   "metadata": {},
   "outputs": [],
   "source": [
    "compute_rmse(data_test.rating, test_ratings)"
   ]
  },
  {
   "cell_type": "code",
   "execution_count": null,
   "metadata": {},
   "outputs": [],
   "source": [
    "target_user_items = pd.read_csv(PATH_DATA+'target_user_items.csv')\n",
    "target_user_items.shape\n",
    "\n",
    "target_user_items.head()\n",
    "\n",
    "target_users = target_user_items.user_id.values\n"
   ]
  },
  {
   "cell_type": "code",
   "execution_count": null,
   "metadata": {},
   "outputs": [],
   "source": [
    "submission_ratings = predict_ratings_on_test_set_item_item_class(target_user_items)"
   ]
  },
  {
   "cell_type": "code",
   "execution_count": null,
   "metadata": {},
   "outputs": [],
   "source": [
    "submission = pd.DataFrame({\n",
    "    'id': np.arange(target_user_items.shape[0]),\n",
    "    'rating': submission_ratings\n",
    "})"
   ]
  },
  {
   "cell_type": "code",
   "execution_count": null,
   "metadata": {},
   "outputs": [],
   "source": [
    "submission.to_csv(PATH_SUBMISSIONS+'submission.csv', index = False)"
   ]
  }
 ],
 "metadata": {
  "accelerator": "GPU",
  "colab": {
   "collapsed_sections": [
    "cvZtEPn3wqfQ",
    "NiLpjh-gwqfU",
    "EWUdPFr0wqfc",
    "a9iX5mMJwqfh",
    "Hcr4Zg11wqgH",
    "AwnX5r_QwqgH",
    "q_PrlKR8wqgI",
    "cL_O316ewqg4"
   ],
   "name": "mess_around_edu.ipynb",
   "provenance": [],
   "version": "0.3.2"
  },
  "kernelspec": {
   "display_name": "Python 3",
   "language": "python",
   "name": "python3"
  },
  "language_info": {
   "codemirror_mode": {
    "name": "ipython",
    "version": 3
   },
   "file_extension": ".py",
   "mimetype": "text/x-python",
   "name": "python",
   "nbconvert_exporter": "python",
   "pygments_lexer": "ipython3",
   "version": "3.6.5"
  }
 },
 "nbformat": 4,
 "nbformat_minor": 1
}
