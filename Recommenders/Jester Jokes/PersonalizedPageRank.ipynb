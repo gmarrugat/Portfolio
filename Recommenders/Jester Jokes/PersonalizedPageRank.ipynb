{
 "cells": [
  {
   "cell_type": "markdown",
   "metadata": {
    "colab_type": "text",
    "id": "XJJ7fx2Cwqdy"
   },
   "source": [
    "# Jester Recommendations System - Personalized Page Rank\n",
    "\n",
    "https://www.kaggle.com/c/jesterdsub2019\n",
    "\n",
    "*Alex Castrelo, Gerard Marrugat, Eduard Ribas, Pilar Santolaria*"
   ]
  },
  {
   "cell_type": "markdown",
   "metadata": {
    "colab_type": "text",
    "id": "C1dVRI6owqdz"
   },
   "source": [
    "## Imports and functions"
   ]
  },
  {
   "cell_type": "code",
   "execution_count": 1,
   "metadata": {
    "colab": {},
    "colab_type": "code",
    "id": "q4xaQg_Gwqd0"
   },
   "outputs": [],
   "source": [
    "%matplotlib inline\n",
    "import pandas as pd\n",
    "import numpy as np\n",
    "import scipy\n",
    "import datetime\n",
    "import os\n",
    "import sys\n",
    "import random"
   ]
  },
  {
   "cell_type": "code",
   "execution_count": 2,
   "metadata": {
    "colab": {
     "base_uri": "https://localhost:8080/",
     "height": 54
    },
    "colab_type": "code",
    "executionInfo": {
     "elapsed": 537,
     "status": "ok",
     "timestamp": 1558784185266,
     "user": {
      "displayName": "Eduard Ribas Fernández",
      "photoUrl": "https://lh6.googleusercontent.com/-29k67AjnVSU/AAAAAAAAAAI/AAAAAAAAHFY/7-7CPx1LXpI/s64/photo.jpg",
      "userId": "09425714300820196971"
     },
     "user_tz": -120
    },
    "id": "Th92IJ2Owqd3",
    "outputId": "e277cf68-fd46-4f13-ce48-622a286581d5"
   },
   "outputs": [],
   "source": [
    "try: # if running on COLAB\n",
    "    \n",
    "    # mount google drive\n",
    "    from google.colab import drive\n",
    "    drive.mount('/content/drive')\n",
    "    PATH = '/content/drive/My Drive/MDS/jester_jokes/'\n",
    "    \n",
    "except:\n",
    "    PATH = os.getcwd() + '/'"
   ]
  },
  {
   "cell_type": "code",
   "execution_count": 4,
   "metadata": {
    "colab": {
     "base_uri": "https://localhost:8080/",
     "height": 139
    },
    "colab_type": "code",
    "executionInfo": {
     "elapsed": 580,
     "status": "ok",
     "timestamp": 1558784185541,
     "user": {
      "displayName": "Eduard Ribas Fernández",
      "photoUrl": "https://lh6.googleusercontent.com/-29k67AjnVSU/AAAAAAAAAAI/AAAAAAAAHFY/7-7CPx1LXpI/s64/photo.jpg",
      "userId": "09425714300820196971"
     },
     "user_tz": -120
    },
    "id": "tqlHL2Jpwqd5",
    "outputId": "390c66c6-b813-4c11-be5d-e436ab06168b"
   },
   "outputs": [
    {
     "name": "stdout",
     "output_type": "stream",
     "text": [
      "Folders content:\n",
      "PATH:\t\t ['.DS_Store', '.git', '.gitignore', '.ipynb_checkpoints', 'batches', 'data', 'ItemBasedCollaborativeFiltering.ipynb', 'library', 'LICENSE', 'mess_around_alex.ipynb', 'mess_around_edu.ipynb', 'mess_around_gerard.ipynb', 'mess_around_pilar.ipynb', 'notebooks', 'PersonalizedPageRank.ipynb', 'README.md', 'submissions']\n",
      "PATH LIBRARY:\t ['.DS_Store', '__init__.py', '__pycache__', 'functions.py']\n",
      "PATH DATA:\t ['.DS_Store', 'jokes', 'submision_sample.csv', 'target_user_items.csv', 'training.csv']\n",
      "PATH BATCHES:\t ['.DS_Store', 'train_1000', 'train_100000', 'train_500000', 'train_full', 'train_IBCF']\n",
      "PATH SUBM.:\t ['.DS_Store', 'submission_2019.03.28_15.53.csv', 'submission_2019.05.22_20.51.csv', 'submission_2019.05.23_20.00.csv', 'submission_2019.05.23_20.05.csv', 'submission_2019.05.24_16.44.csv', 'submission_2019.05.24_21.06.csv', 'submission_2019.05.25_16.14.csv', 'submission_2019.05.25_21.31.csv', 'submission_2019.05.27_19.58.csv', 'submission_2019.05.29_18.28.csv']\n"
     ]
    }
   ],
   "source": [
    "PATH_LIB = PATH + \"library/\"\n",
    "PATH_DATA = PATH + \"data/\"\n",
    "PATH_BATCHES = PATH + 'batches/'\n",
    "PATH_SUBMISSIONS = PATH + \"submissions/\"\n",
    "\n",
    "sys.path.append(PATH_LIB)\n",
    "\n",
    "print(\"Folders content:\")\n",
    "print(\"PATH:\\t\\t\", os.listdir(PATH))\n",
    "print(\"PATH LIBRARY:\\t\", os.listdir(PATH_LIB))\n",
    "print(\"PATH DATA:\\t\", os.listdir(PATH_DATA))\n",
    "print(\"PATH BATCHES:\\t\", os.listdir(PATH_BATCHES))\n",
    "print(\"PATH SUBM.:\\t\", os.listdir(PATH_SUBMISSIONS))"
   ]
  },
  {
   "cell_type": "code",
   "execution_count": 4,
   "metadata": {
    "colab": {
     "base_uri": "https://localhost:8080/",
     "height": 51
    },
    "colab_type": "code",
    "executionInfo": {
     "elapsed": 463,
     "status": "ok",
     "timestamp": 1558784409256,
     "user": {
      "displayName": "Eduard Ribas Fernández",
      "photoUrl": "https://lh6.googleusercontent.com/-29k67AjnVSU/AAAAAAAAAAI/AAAAAAAAHFY/7-7CPx1LXpI/s64/photo.jpg",
      "userId": "09425714300820196971"
     },
     "user_tz": -120
    },
    "id": "ZPyU0Q3zwqd-",
    "outputId": "13d6452d-3778-45ba-8a68-0fbaf50b4f83"
   },
   "outputs": [],
   "source": [
    "%load_ext autoreload\n",
    "%autoreload 2\n",
    "from functions import *"
   ]
  },
  {
   "cell_type": "code",
   "execution_count": 5,
   "metadata": {
    "colab": {
     "base_uri": "https://localhost:8080/",
     "height": 34
    },
    "colab_type": "code",
    "executionInfo": {
     "elapsed": 658,
     "status": "ok",
     "timestamp": 1558784186983,
     "user": {
      "displayName": "Eduard Ribas Fernández",
      "photoUrl": "https://lh6.googleusercontent.com/-29k67AjnVSU/AAAAAAAAAAI/AAAAAAAAHFY/7-7CPx1LXpI/s64/photo.jpg",
      "userId": "09425714300820196971"
     },
     "user_tz": -120
    },
    "id": "LEg5XfcSwqeA",
    "outputId": "fd402f0a-8e69-42fe-87ab-e29fa0ce99c3"
   },
   "outputs": [
    {
     "name": "stdout",
     "output_type": "stream",
     "text": [
      " 2019-05-29 17:29:04.01 hi\n"
     ]
    }
   ],
   "source": [
    "print_time(\"hi\")"
   ]
  },
  {
   "cell_type": "markdown",
   "metadata": {
    "colab_type": "text",
    "id": "8I8jMxUwwqeE"
   },
   "source": [
    "## Parameters"
   ]
  },
  {
   "cell_type": "code",
   "execution_count": 5,
   "metadata": {},
   "outputs": [],
   "source": [
    "TRAIN_SIZE = 5000000"
   ]
  },
  {
   "cell_type": "markdown",
   "metadata": {},
   "source": [
    "## Train"
   ]
  },
  {
   "cell_type": "markdown",
   "metadata": {
    "colab_type": "text",
    "id": "XroVIpfrwqeF"
   },
   "source": [
    "### Load train data"
   ]
  },
  {
   "cell_type": "code",
   "execution_count": 7,
   "metadata": {
    "colab": {
     "base_uri": "https://localhost:8080/",
     "height": 51
    },
    "colab_type": "code",
    "executionInfo": {
     "elapsed": 938,
     "status": "ok",
     "timestamp": 1558784189002,
     "user": {
      "displayName": "Eduard Ribas Fernández",
      "photoUrl": "https://lh6.googleusercontent.com/-29k67AjnVSU/AAAAAAAAAAI/AAAAAAAAHFY/7-7CPx1LXpI/s64/photo.jpg",
      "userId": "09425714300820196971"
     },
     "user_tz": -120
    },
    "id": "o39uOJJTwqeG",
    "outputId": "35119302-cdcf-4213-8dd2-25168e6015d9"
   },
   "outputs": [
    {
     "name": "stdout",
     "output_type": "stream",
     "text": [
      "CPU times: user 607 ms, sys: 106 ms, total: 713 ms\n",
      "Wall time: 734 ms\n"
     ]
    }
   ],
   "source": [
    "%%time\n",
    "df_train_full = load_df(PATH_DATA + \"training.csv\", \n",
    "                        #sort=True,\n",
    "                        item_shift=True, \n",
    "                        rating_shift=True, \n",
    "                        #rating_normalize=True\n",
    ")"
   ]
  },
  {
   "cell_type": "markdown",
   "metadata": {},
   "source": [
    "### Prepare train set"
   ]
  },
  {
   "cell_type": "code",
   "execution_count": 8,
   "metadata": {},
   "outputs": [
    {
     "name": "stdout",
     "output_type": "stream",
     "text": [
      " 2019-05-29 17:29:15.04 training with FULL train set\n",
      "CPU times: user 7.61 ms, sys: 6.03 ms, total: 13.6 ms\n",
      "Wall time: 11.1 ms\n"
     ]
    }
   ],
   "source": [
    "%%time\n",
    "if TRAIN_SIZE < df_train_full.shape[0]:\n",
    "    print_time(\"training with \" + str(TRAIN_SIZE) + \" samples\")\n",
    "    train_idx = random.sample(range(df_train_full.shape[0]), TRAIN_SIZE)\n",
    "    df_train = df_train_full.iloc[train_idx].copy()\n",
    "else:\n",
    "    TRAIN_SIZE = 'full'\n",
    "    print_time(\"training with FULL train set\")\n",
    "    df_train = df_train_full.copy()"
   ]
  },
  {
   "cell_type": "code",
   "execution_count": 9,
   "metadata": {
    "colab": {
     "base_uri": "https://localhost:8080/",
     "height": 34
    },
    "colab_type": "code",
    "executionInfo": {
     "elapsed": 357,
     "status": "ok",
     "timestamp": 1558784206489,
     "user": {
      "displayName": "Eduard Ribas Fernández",
      "photoUrl": "https://lh6.googleusercontent.com/-29k67AjnVSU/AAAAAAAAAAI/AAAAAAAAHFY/7-7CPx1LXpI/s64/photo.jpg",
      "userId": "09425714300820196971"
     },
     "user_tz": -120
    },
    "id": "J4D9uGhFwqeN",
    "outputId": "d1683927-9dd0-4a0c-d7e7-e734bf70d44c"
   },
   "outputs": [
    {
     "name": "stdout",
     "output_type": "stream",
     "text": [
      "There are 73339 users with max id 73420 ( shift of 81 )\n"
     ]
    }
   ],
   "source": [
    "n_users = len(df_train.user_id.unique())\n",
    "max_user_id = df_train.user_id.max()\n",
    "print(\"There are\", n_users, \"users with max id\", max_user_id, \"( shift of\", max_user_id-n_users, \")\")"
   ]
  },
  {
   "cell_type": "code",
   "execution_count": 10,
   "metadata": {
    "colab": {
     "base_uri": "https://localhost:8080/",
     "height": 376
    },
    "colab_type": "code",
    "executionInfo": {
     "elapsed": 465,
     "status": "ok",
     "timestamp": 1558784206791,
     "user": {
      "displayName": "Eduard Ribas Fernández",
      "photoUrl": "https://lh6.googleusercontent.com/-29k67AjnVSU/AAAAAAAAAAI/AAAAAAAAHFY/7-7CPx1LXpI/s64/photo.jpg",
      "userId": "09425714300820196971"
     },
     "user_tz": -120
    },
    "id": "FLTST81AwqeQ",
    "outputId": "7ceab3ee-0a3c-4d2a-9b4a-52bbd3e0b1c1"
   },
   "outputs": [
    {
     "name": "stdout",
     "output_type": "stream",
     "text": [
      "(950000, 3)\n"
     ]
    },
    {
     "data": {
      "text/html": [
       "<div>\n",
       "<style scoped>\n",
       "    .dataframe tbody tr th:only-of-type {\n",
       "        vertical-align: middle;\n",
       "    }\n",
       "\n",
       "    .dataframe tbody tr th {\n",
       "        vertical-align: top;\n",
       "    }\n",
       "\n",
       "    .dataframe thead th {\n",
       "        text-align: right;\n",
       "    }\n",
       "</style>\n",
       "<table border=\"1\" class=\"dataframe\">\n",
       "  <thead>\n",
       "    <tr style=\"text-align: right;\">\n",
       "      <th></th>\n",
       "      <th>user_id</th>\n",
       "      <th>item_id</th>\n",
       "      <th>rating</th>\n",
       "    </tr>\n",
       "  </thead>\n",
       "  <tbody>\n",
       "    <tr>\n",
       "      <th>0</th>\n",
       "      <td>13291</td>\n",
       "      <td>97</td>\n",
       "      <td>0.471480</td>\n",
       "    </tr>\n",
       "    <tr>\n",
       "      <th>1</th>\n",
       "      <td>19559</td>\n",
       "      <td>7</td>\n",
       "      <td>0.576820</td>\n",
       "    </tr>\n",
       "    <tr>\n",
       "      <th>2</th>\n",
       "      <td>32928</td>\n",
       "      <td>49</td>\n",
       "      <td>0.590587</td>\n",
       "    </tr>\n",
       "    <tr>\n",
       "      <th>3</th>\n",
       "      <td>34459</td>\n",
       "      <td>28</td>\n",
       "      <td>0.005000</td>\n",
       "    </tr>\n",
       "    <tr>\n",
       "      <th>4</th>\n",
       "      <td>68339</td>\n",
       "      <td>18</td>\n",
       "      <td>0.718899</td>\n",
       "    </tr>\n",
       "    <tr>\n",
       "      <th>5</th>\n",
       "      <td>7685</td>\n",
       "      <td>10</td>\n",
       "      <td>0.877087</td>\n",
       "    </tr>\n",
       "    <tr>\n",
       "      <th>6</th>\n",
       "      <td>28723</td>\n",
       "      <td>51</td>\n",
       "      <td>0.558831</td>\n",
       "    </tr>\n",
       "    <tr>\n",
       "      <th>7</th>\n",
       "      <td>31302</td>\n",
       "      <td>10</td>\n",
       "      <td>0.686949</td>\n",
       "    </tr>\n",
       "    <tr>\n",
       "      <th>8</th>\n",
       "      <td>39332</td>\n",
       "      <td>67</td>\n",
       "      <td>0.595812</td>\n",
       "    </tr>\n",
       "    <tr>\n",
       "      <th>9</th>\n",
       "      <td>8700</td>\n",
       "      <td>53</td>\n",
       "      <td>0.852941</td>\n",
       "    </tr>\n",
       "  </tbody>\n",
       "</table>\n",
       "</div>"
      ],
      "text/plain": [
       "   user_id  item_id    rating\n",
       "0    13291       97  0.471480\n",
       "1    19559        7  0.576820\n",
       "2    32928       49  0.590587\n",
       "3    34459       28  0.005000\n",
       "4    68339       18  0.718899\n",
       "5     7685       10  0.877087\n",
       "6    28723       51  0.558831\n",
       "7    31302       10  0.686949\n",
       "8    39332       67  0.595812\n",
       "9     8700       53  0.852941"
      ]
     },
     "execution_count": 10,
     "metadata": {},
     "output_type": "execute_result"
    }
   ],
   "source": [
    "print(df_train.shape)\n",
    "df_train.head(10)"
   ]
  },
  {
   "cell_type": "code",
   "execution_count": 11,
   "metadata": {
    "colab": {
     "base_uri": "https://localhost:8080/",
     "height": 286
    },
    "colab_type": "code",
    "executionInfo": {
     "elapsed": 553,
     "status": "ok",
     "timestamp": 1558784207182,
     "user": {
      "displayName": "Eduard Ribas Fernández",
      "photoUrl": "https://lh6.googleusercontent.com/-29k67AjnVSU/AAAAAAAAAAI/AAAAAAAAHFY/7-7CPx1LXpI/s64/photo.jpg",
      "userId": "09425714300820196971"
     },
     "user_tz": -120
    },
    "id": "aAHDUXUywqeT",
    "outputId": "bc2b6144-d01c-4ede-bc26-eb29e6320b62"
   },
   "outputs": [
    {
     "data": {
      "text/plain": [
       "<matplotlib.axes._subplots.AxesSubplot at 0xa166b3a58>"
      ]
     },
     "execution_count": 11,
     "metadata": {},
     "output_type": "execute_result"
    },
    {
     "data": {
      "image/png": "[encoded data removed]",
      "text/plain": [
       "<Figure size 432x288 with 1 Axes>"
      ]
     },
     "metadata": {},
     "output_type": "display_data"
    }
   ],
   "source": [
    "df_train[\"rating\"].hist(\n",
    "    bins = 20\n",
    ")"
   ]
  },
  {
   "cell_type": "code",
   "execution_count": 12,
   "metadata": {
    "colab": {
     "base_uri": "https://localhost:8080/",
     "height": 111
    },
    "colab_type": "code",
    "executionInfo": {
     "elapsed": 1153,
     "status": "ok",
     "timestamp": 1558784208665,
     "user": {
      "displayName": "Eduard Ribas Fernández",
      "photoUrl": "https://lh6.googleusercontent.com/-29k67AjnVSU/AAAAAAAAAAI/AAAAAAAAHFY/7-7CPx1LXpI/s64/photo.jpg",
      "userId": "09425714300820196971"
     },
     "user_tz": -120
    },
    "id": "vWiBybMnwqeV",
    "outputId": "9d478bc5-ece2-4fe3-faab-1d044f3c86d7"
   },
   "outputs": [
    {
     "data": {
      "text/html": [
       "<div>\n",
       "<style scoped>\n",
       "    .dataframe tbody tr th:only-of-type {\n",
       "        vertical-align: middle;\n",
       "    }\n",
       "\n",
       "    .dataframe tbody tr th {\n",
       "        vertical-align: top;\n",
       "    }\n",
       "\n",
       "    .dataframe thead th {\n",
       "        text-align: right;\n",
       "    }\n",
       "</style>\n",
       "<table border=\"1\" class=\"dataframe\">\n",
       "  <thead>\n",
       "    <tr style=\"text-align: right;\">\n",
       "      <th></th>\n",
       "      <th>user_id</th>\n",
       "      <th>item_id</th>\n",
       "      <th>rating</th>\n",
       "    </tr>\n",
       "  </thead>\n",
       "  <tbody>\n",
       "    <tr>\n",
       "      <th>264577</th>\n",
       "      <td>2</td>\n",
       "      <td>49</td>\n",
       "      <td>0.851516</td>\n",
       "    </tr>\n",
       "    <tr>\n",
       "      <th>378334</th>\n",
       "      <td>2</td>\n",
       "      <td>65</td>\n",
       "      <td>0.879987</td>\n",
       "    </tr>\n",
       "    <tr>\n",
       "      <th>572914</th>\n",
       "      <td>2</td>\n",
       "      <td>89</td>\n",
       "      <td>0.901157</td>\n",
       "    </tr>\n",
       "    <tr>\n",
       "      <th>586432</th>\n",
       "      <td>2</td>\n",
       "      <td>13</td>\n",
       "      <td>0.790793</td>\n",
       "    </tr>\n",
       "    <tr>\n",
       "      <th>835017</th>\n",
       "      <td>2</td>\n",
       "      <td>64</td>\n",
       "      <td>0.823997</td>\n",
       "    </tr>\n",
       "    <tr>\n",
       "      <th>864083</th>\n",
       "      <td>2</td>\n",
       "      <td>10</td>\n",
       "      <td>0.863753</td>\n",
       "    </tr>\n",
       "  </tbody>\n",
       "</table>\n",
       "</div>"
      ],
      "text/plain": [
       "        user_id  item_id    rating\n",
       "264577        2       49  0.851516\n",
       "378334        2       65  0.879987\n",
       "572914        2       89  0.901157\n",
       "586432        2       13  0.790793\n",
       "835017        2       64  0.823997\n",
       "864083        2       10  0.863753"
      ]
     },
     "execution_count": 12,
     "metadata": {},
     "output_type": "execute_result"
    }
   ],
   "source": [
    "mask = df_train[\"user_id\"] == 2\n",
    "df_train[mask]"
   ]
  },
  {
   "cell_type": "markdown",
   "metadata": {},
   "source": [
    "## PPR approach"
   ]
  },
  {
   "cell_type": "code",
   "execution_count": 13,
   "metadata": {
    "colab": {
     "base_uri": "https://localhost:8080/",
     "height": 301
    },
    "colab_type": "code",
    "executionInfo": {
     "elapsed": 1821,
     "status": "ok",
     "timestamp": 1558784209557,
     "user": {
      "displayName": "Eduard Ribas Fernández",
      "photoUrl": "https://lh6.googleusercontent.com/-29k67AjnVSU/AAAAAAAAAAI/AAAAAAAAHFY/7-7CPx1LXpI/s64/photo.jpg",
      "userId": "09425714300820196971"
     },
     "user_tz": -120
    },
    "id": "SoU_-1wDwqeY",
    "outputId": "d61aef57-0e4b-4610-f6de-9622d0c9f2ee"
   },
   "outputs": [
    {
     "name": "stdout",
     "output_type": "stream",
     "text": [
      "CPU times: user 5.99 s, sys: 437 ms, total: 6.43 s\n",
      "Wall time: 6.82 s\n"
     ]
    }
   ],
   "source": [
    "%%time\n",
    "df_train_ui, UI_cs, UI_T_cs, id2idx, idx2id, n_users, n_items, N = build_PPR_components(df_train)"
   ]
  },
  {
   "cell_type": "code",
   "execution_count": 14,
   "metadata": {},
   "outputs": [
    {
     "name": "stdout",
     "output_type": "stream",
     "text": [
      "DF shape: (73339, 101)\n"
     ]
    },
    {
     "data": {
      "text/html": [
       "<div>\n",
       "<style scoped>\n",
       "    .dataframe tbody tr th:only-of-type {\n",
       "        vertical-align: middle;\n",
       "    }\n",
       "\n",
       "    .dataframe tbody tr th {\n",
       "        vertical-align: top;\n",
       "    }\n",
       "\n",
       "    .dataframe thead th {\n",
       "        text-align: right;\n",
       "    }\n",
       "</style>\n",
       "<table border=\"1\" class=\"dataframe\">\n",
       "  <thead>\n",
       "    <tr style=\"text-align: right;\">\n",
       "      <th>item_id</th>\n",
       "      <th>user_id</th>\n",
       "      <th>0</th>\n",
       "      <th>1</th>\n",
       "      <th>2</th>\n",
       "      <th>3</th>\n",
       "      <th>4</th>\n",
       "      <th>5</th>\n",
       "      <th>6</th>\n",
       "      <th>7</th>\n",
       "      <th>8</th>\n",
       "      <th>...</th>\n",
       "      <th>90</th>\n",
       "      <th>91</th>\n",
       "      <th>92</th>\n",
       "      <th>93</th>\n",
       "      <th>94</th>\n",
       "      <th>95</th>\n",
       "      <th>96</th>\n",
       "      <th>97</th>\n",
       "      <th>98</th>\n",
       "      <th>99</th>\n",
       "    </tr>\n",
       "    <tr>\n",
       "      <th>user_index</th>\n",
       "      <th></th>\n",
       "      <th></th>\n",
       "      <th></th>\n",
       "      <th></th>\n",
       "      <th></th>\n",
       "      <th></th>\n",
       "      <th></th>\n",
       "      <th></th>\n",
       "      <th></th>\n",
       "      <th></th>\n",
       "      <th></th>\n",
       "      <th></th>\n",
       "      <th></th>\n",
       "      <th></th>\n",
       "      <th></th>\n",
       "      <th></th>\n",
       "      <th></th>\n",
       "      <th></th>\n",
       "      <th></th>\n",
       "      <th></th>\n",
       "      <th></th>\n",
       "    </tr>\n",
       "  </thead>\n",
       "  <tbody>\n",
       "    <tr>\n",
       "      <th>0</th>\n",
       "      <td>0</td>\n",
       "      <td>0.000000</td>\n",
       "      <td>0.0</td>\n",
       "      <td>0.009357</td>\n",
       "      <td>0.0000</td>\n",
       "      <td>0.000000</td>\n",
       "      <td>0.08205</td>\n",
       "      <td>0.017306</td>\n",
       "      <td>0.000000</td>\n",
       "      <td>0.000000</td>\n",
       "      <td>...</td>\n",
       "      <td>0.0</td>\n",
       "      <td>0.0</td>\n",
       "      <td>0.000000</td>\n",
       "      <td>0.0</td>\n",
       "      <td>0.0</td>\n",
       "      <td>0.0</td>\n",
       "      <td>0.00000</td>\n",
       "      <td>0.0</td>\n",
       "      <td>0.000000</td>\n",
       "      <td>0.0</td>\n",
       "    </tr>\n",
       "    <tr>\n",
       "      <th>1</th>\n",
       "      <td>1</td>\n",
       "      <td>0.000000</td>\n",
       "      <td>0.0</td>\n",
       "      <td>0.779457</td>\n",
       "      <td>0.7244</td>\n",
       "      <td>0.000000</td>\n",
       "      <td>0.00000</td>\n",
       "      <td>0.000000</td>\n",
       "      <td>0.000000</td>\n",
       "      <td>0.946676</td>\n",
       "      <td>...</td>\n",
       "      <td>0.0</td>\n",
       "      <td>0.0</td>\n",
       "      <td>0.517259</td>\n",
       "      <td>0.0</td>\n",
       "      <td>0.0</td>\n",
       "      <td>0.0</td>\n",
       "      <td>0.00000</td>\n",
       "      <td>0.0</td>\n",
       "      <td>0.000000</td>\n",
       "      <td>0.0</td>\n",
       "    </tr>\n",
       "    <tr>\n",
       "      <th>2</th>\n",
       "      <td>2</td>\n",
       "      <td>0.000000</td>\n",
       "      <td>0.0</td>\n",
       "      <td>0.000000</td>\n",
       "      <td>0.0000</td>\n",
       "      <td>0.000000</td>\n",
       "      <td>0.00000</td>\n",
       "      <td>0.000000</td>\n",
       "      <td>0.000000</td>\n",
       "      <td>0.000000</td>\n",
       "      <td>...</td>\n",
       "      <td>0.0</td>\n",
       "      <td>0.0</td>\n",
       "      <td>0.000000</td>\n",
       "      <td>0.0</td>\n",
       "      <td>0.0</td>\n",
       "      <td>0.0</td>\n",
       "      <td>0.00000</td>\n",
       "      <td>0.0</td>\n",
       "      <td>0.000000</td>\n",
       "      <td>0.0</td>\n",
       "    </tr>\n",
       "    <tr>\n",
       "      <th>3</th>\n",
       "      <td>3</td>\n",
       "      <td>0.000000</td>\n",
       "      <td>0.0</td>\n",
       "      <td>0.000000</td>\n",
       "      <td>0.0000</td>\n",
       "      <td>0.000000</td>\n",
       "      <td>0.00000</td>\n",
       "      <td>0.000000</td>\n",
       "      <td>0.828177</td>\n",
       "      <td>0.000000</td>\n",
       "      <td>...</td>\n",
       "      <td>0.0</td>\n",
       "      <td>0.0</td>\n",
       "      <td>0.000000</td>\n",
       "      <td>0.0</td>\n",
       "      <td>0.0</td>\n",
       "      <td>0.0</td>\n",
       "      <td>0.00000</td>\n",
       "      <td>0.0</td>\n",
       "      <td>0.000000</td>\n",
       "      <td>0.0</td>\n",
       "    </tr>\n",
       "    <tr>\n",
       "      <th>4</th>\n",
       "      <td>4</td>\n",
       "      <td>0.948335</td>\n",
       "      <td>0.0</td>\n",
       "      <td>0.299907</td>\n",
       "      <td>0.0000</td>\n",
       "      <td>0.547696</td>\n",
       "      <td>0.00000</td>\n",
       "      <td>0.000000</td>\n",
       "      <td>0.699735</td>\n",
       "      <td>0.000000</td>\n",
       "      <td>...</td>\n",
       "      <td>0.0</td>\n",
       "      <td>0.0</td>\n",
       "      <td>0.000000</td>\n",
       "      <td>0.0</td>\n",
       "      <td>0.0</td>\n",
       "      <td>0.0</td>\n",
       "      <td>0.64846</td>\n",
       "      <td>0.0</td>\n",
       "      <td>0.574051</td>\n",
       "      <td>0.0</td>\n",
       "    </tr>\n",
       "  </tbody>\n",
       "</table>\n",
       "<p>5 rows × 101 columns</p>\n",
       "</div>"
      ],
      "text/plain": [
       "item_id     user_id         0    1         2       3         4        5  \\\n",
       "user_index                                                                \n",
       "0                 0  0.000000  0.0  0.009357  0.0000  0.000000  0.08205   \n",
       "1                 1  0.000000  0.0  0.779457  0.7244  0.000000  0.00000   \n",
       "2                 2  0.000000  0.0  0.000000  0.0000  0.000000  0.00000   \n",
       "3                 3  0.000000  0.0  0.000000  0.0000  0.000000  0.00000   \n",
       "4                 4  0.948335  0.0  0.299907  0.0000  0.547696  0.00000   \n",
       "\n",
       "item_id            6         7         8 ...    90   91        92   93   94  \\\n",
       "user_index                               ...                                  \n",
       "0           0.017306  0.000000  0.000000 ...   0.0  0.0  0.000000  0.0  0.0   \n",
       "1           0.000000  0.000000  0.946676 ...   0.0  0.0  0.517259  0.0  0.0   \n",
       "2           0.000000  0.000000  0.000000 ...   0.0  0.0  0.000000  0.0  0.0   \n",
       "3           0.000000  0.828177  0.000000 ...   0.0  0.0  0.000000  0.0  0.0   \n",
       "4           0.000000  0.699735  0.000000 ...   0.0  0.0  0.000000  0.0  0.0   \n",
       "\n",
       "item_id      95       96   97        98   99  \n",
       "user_index                                    \n",
       "0           0.0  0.00000  0.0  0.000000  0.0  \n",
       "1           0.0  0.00000  0.0  0.000000  0.0  \n",
       "2           0.0  0.00000  0.0  0.000000  0.0  \n",
       "3           0.0  0.00000  0.0  0.000000  0.0  \n",
       "4           0.0  0.64846  0.0  0.574051  0.0  \n",
       "\n",
       "[5 rows x 101 columns]"
      ]
     },
     "execution_count": 14,
     "metadata": {},
     "output_type": "execute_result"
    }
   ],
   "source": [
    "print(\"DF shape:\", df_train_ui.shape)\n",
    "df_train_ui.head()"
   ]
  },
  {
   "cell_type": "markdown",
   "metadata": {
    "colab_type": "text",
    "id": "hRW_41_Ywqey"
   },
   "source": [
    "### Prediction - PPR"
   ]
  },
  {
   "cell_type": "code",
   "execution_count": 17,
   "metadata": {
    "colab": {
     "base_uri": "https://localhost:8080/",
     "height": 71
    },
    "colab_type": "code",
    "executionInfo": {
     "elapsed": 1210,
     "status": "ok",
     "timestamp": 1558784211527,
     "user": {
      "displayName": "Eduard Ribas Fernández",
      "photoUrl": "https://lh6.googleusercontent.com/-29k67AjnVSU/AAAAAAAAAAI/AAAAAAAAHFY/7-7CPx1LXpI/s64/photo.jpg",
      "userId": "09425714300820196971"
     },
     "user_tz": -120
    },
    "id": "_XIWXxt-wqez",
    "outputId": "62db9ec3-ffa2-4515-e8a0-c235206133b2",
    "scrolled": false
   },
   "outputs": [],
   "source": [
    "def Power_Method(A, A_T, s, n, MAX_ITER=100, tol=1e-10, m=0.15, printDetails=False):\n",
    "    \n",
    "    if printDetails:\n",
    "        print(\"starting iterations...\")\n",
    "    iterations = 0\n",
    "    \n",
    "    x0 = np.ones((n,1))\n",
    "    x0 = x0/(np.linalg.norm(x0,2))\n",
    "\n",
    "    while True:\n",
    "        iterations += 1\n",
    "        if printDetails and iterations % 10 == 0:\n",
    "            print(\" \", iterations)\n",
    "            \n",
    "        x1 = (1-m) * A @ ( (1-m) * A_T @ x0 + m * s )\n",
    "        x1 = x1/(np.linalg.norm(x1,2)) \n",
    "        diff = np.linalg.norm(x1-x0, np.inf)\n",
    "        x0 = x1\n",
    "        \n",
    "        if diff < tol:\n",
    "            if printDetails:\n",
    "                print(\"Converged!\")\n",
    "            break\n",
    "            \n",
    "        if iterations >= MAX_ITER:\n",
    "            if printDetails:\n",
    "                print(\"Did not converge!\")\n",
    "            break     \n",
    "        \n",
    "    return x0\n",
    "\n",
    "def get_similar_users_idx(similarity_vec, num=100):\n",
    "    top_sim_usr_idx = similarity_vec.argsort()[-num:][::-1]\n",
    "    return top_sim_usr_idx\n",
    "\n",
    "def predict_rating(user_id, item_id_list):\n",
    "    DUMMY_RATING = 0.6\n",
    "    MAX_SIM_RATINGS = 10\n",
    "    \n",
    "    if df_train_ui[df_train_ui.user_id==user_id].shape[0] == 0:\n",
    "        return [DUMMY_RATING for item in item_id_list]\n",
    "    \n",
    "    # get items rated by user_id and build restart vector\n",
    "    restart_vec = UI_T_cs[:,id2idx[user_id]].reshape(-1,1)\n",
    "    restart_vec = np.array([1/N if el!=0 else 0 for el in list(restart_vec)]).reshape(-1,1)\n",
    "    \n",
    "    # solve PM\n",
    "    sim_vec = Power_Method(UI_cs, UI_T_cs, restart_vec, n_users, MAX_ITER=100, tol=1e-10, m=0.15, printDetails=False)\n",
    "    sim_vec = sim_vec.flatten()\n",
    "    \n",
    "    # get similar users index\n",
    "    sim_users_idx = get_similar_users_idx(sim_vec)\n",
    "    #print(\"sim_users_idx[:100]:\",sim_users_idx[:100])\n",
    "    \n",
    "    # predict rating for each item\n",
    "    predicted_ratings = []\n",
    "    for item_id in item_id_list:\n",
    "        #print(\"\\nitem\", item_id)\n",
    "        pred_rating = 0\n",
    "        weight = 0\n",
    "        sim_users_count = 0\n",
    "        for i, user_idx in enumerate(sim_users_idx):\n",
    "            rating = df_train_ui.loc[user_idx, item_id]\n",
    "            if rating > 0:\n",
    "                sim_users_count += 1\n",
    "                #print(sim_users_count, \"similar user\", user_idx, \", similarity\", sim_vec[user_idx], \", rating\", rating)\n",
    "                pred_rating += rating*sim_vec[user_idx]\n",
    "                weight += sim_vec[user_idx]\n",
    "                if sim_users_count >= MAX_SIM_RATINGS:\n",
    "                    break\n",
    "        \n",
    "        if weight > 0:\n",
    "            pred_rating = pred_rating/weight\n",
    "        else:\n",
    "            pred_rating = DUMMY_RATING\n",
    "        predicted_ratings.append(pred_rating)                                   \n",
    "        \n",
    "    return predicted_ratings"
   ]
  },
  {
   "cell_type": "code",
   "execution_count": 18,
   "metadata": {
    "scrolled": false
   },
   "outputs": [
    {
     "name": "stdout",
     "output_type": "stream",
     "text": [
      "[0.8126070207827988, 0.7305953003927745, 0.8504695000518757, 0.6693987331308708, 0.6105821894384088, 0.8774475283781311, 0.7144866724869302, 0.7208267853467749, 0.8219419564111285, 0.815194076972458]\n",
      "Done\n"
     ]
    }
   ],
   "source": [
    "# predictions for a given user and some items\n",
    "user_id = 6\n",
    "items_id = [x for x in range(10)]\n",
    "predicted_ratings = predict_rating(user_id,items_id)\n",
    "print(predicted_ratings)\n",
    "print(\"Done\")"
   ]
  },
  {
   "cell_type": "markdown",
   "metadata": {
    "colab_type": "text",
    "id": "M4uYpvylwqe4"
   },
   "source": [
    "## Test"
   ]
  },
  {
   "cell_type": "markdown",
   "metadata": {},
   "source": [
    "### Load Test data"
   ]
  },
  {
   "cell_type": "code",
   "execution_count": 20,
   "metadata": {
    "colab": {
     "base_uri": "https://localhost:8080/",
     "height": 376
    },
    "colab_type": "code",
    "executionInfo": {
     "elapsed": 453,
     "status": "ok",
     "timestamp": 1558784213475,
     "user": {
      "displayName": "Eduard Ribas Fernández",
      "photoUrl": "https://lh6.googleusercontent.com/-29k67AjnVSU/AAAAAAAAAAI/AAAAAAAAHFY/7-7CPx1LXpI/s64/photo.jpg",
      "userId": "09425714300820196971"
     },
     "user_tz": -120
    },
    "id": "LiLcS0x5wqe5",
    "outputId": "53933df6-5c74-45c7-b8b6-e89cf9eb1041"
   },
   "outputs": [
    {
     "name": "stdout",
     "output_type": "stream",
     "text": [
      "(50000, 3)\n"
     ]
    },
    {
     "data": {
      "text/html": [
       "<div>\n",
       "<style scoped>\n",
       "    .dataframe tbody tr th:only-of-type {\n",
       "        vertical-align: middle;\n",
       "    }\n",
       "\n",
       "    .dataframe tbody tr th {\n",
       "        vertical-align: top;\n",
       "    }\n",
       "\n",
       "    .dataframe thead th {\n",
       "        text-align: right;\n",
       "    }\n",
       "</style>\n",
       "<table border=\"1\" class=\"dataframe\">\n",
       "  <thead>\n",
       "    <tr style=\"text-align: right;\">\n",
       "      <th></th>\n",
       "      <th>id</th>\n",
       "      <th>user_id</th>\n",
       "      <th>item_id</th>\n",
       "    </tr>\n",
       "  </thead>\n",
       "  <tbody>\n",
       "    <tr>\n",
       "      <th>0</th>\n",
       "      <td>0</td>\n",
       "      <td>52841</td>\n",
       "      <td>67</td>\n",
       "    </tr>\n",
       "    <tr>\n",
       "      <th>1</th>\n",
       "      <td>1</td>\n",
       "      <td>51916</td>\n",
       "      <td>83</td>\n",
       "    </tr>\n",
       "    <tr>\n",
       "      <th>2</th>\n",
       "      <td>2</td>\n",
       "      <td>46765</td>\n",
       "      <td>64</td>\n",
       "    </tr>\n",
       "    <tr>\n",
       "      <th>3</th>\n",
       "      <td>3</td>\n",
       "      <td>9882</td>\n",
       "      <td>34</td>\n",
       "    </tr>\n",
       "    <tr>\n",
       "      <th>4</th>\n",
       "      <td>4</td>\n",
       "      <td>22323</td>\n",
       "      <td>23</td>\n",
       "    </tr>\n",
       "    <tr>\n",
       "      <th>5</th>\n",
       "      <td>5</td>\n",
       "      <td>40625</td>\n",
       "      <td>86</td>\n",
       "    </tr>\n",
       "    <tr>\n",
       "      <th>6</th>\n",
       "      <td>6</td>\n",
       "      <td>6051</td>\n",
       "      <td>33</td>\n",
       "    </tr>\n",
       "    <tr>\n",
       "      <th>7</th>\n",
       "      <td>7</td>\n",
       "      <td>40625</td>\n",
       "      <td>51</td>\n",
       "    </tr>\n",
       "    <tr>\n",
       "      <th>8</th>\n",
       "      <td>8</td>\n",
       "      <td>23789</td>\n",
       "      <td>37</td>\n",
       "    </tr>\n",
       "    <tr>\n",
       "      <th>9</th>\n",
       "      <td>9</td>\n",
       "      <td>19286</td>\n",
       "      <td>82</td>\n",
       "    </tr>\n",
       "  </tbody>\n",
       "</table>\n",
       "</div>"
      ],
      "text/plain": [
       "   id  user_id  item_id\n",
       "0   0    52841       67\n",
       "1   1    51916       83\n",
       "2   2    46765       64\n",
       "3   3     9882       34\n",
       "4   4    22323       23\n",
       "5   5    40625       86\n",
       "6   6     6051       33\n",
       "7   7    40625       51\n",
       "8   8    23789       37\n",
       "9   9    19286       82"
      ]
     },
     "execution_count": 20,
     "metadata": {},
     "output_type": "execute_result"
    }
   ],
   "source": [
    "df_test = load_df(\n",
    "    PATH_DATA + \"target_user_items.csv\", \n",
    "    item_shift=True, \n",
    "    #sort=True\n",
    ")\n",
    "#df_test.rename(columns=\"Unnamed: 0\", inplace=True)\n",
    "df_test.rename(index=str, columns={\"Unnamed: 0\": \"id\"}, inplace=True)\n",
    "print(df_test.shape)\n",
    "df_test.head(10)"
   ]
  },
  {
   "cell_type": "code",
   "execution_count": 21,
   "metadata": {
    "colab": {
     "base_uri": "https://localhost:8080/",
     "height": 34
    },
    "colab_type": "code",
    "executionInfo": {
     "elapsed": 569,
     "status": "ok",
     "timestamp": 1558784214332,
     "user": {
      "displayName": "Eduard Ribas Fernández",
      "photoUrl": "https://lh6.googleusercontent.com/-29k67AjnVSU/AAAAAAAAAAI/AAAAAAAAHFY/7-7CPx1LXpI/s64/photo.jpg",
      "userId": "09425714300820196971"
     },
     "user_tz": -120
    },
    "id": "gTVCMno6wqe8",
    "outputId": "601eb995-05c1-4d00-c85c-efb99dff541f"
   },
   "outputs": [
    {
     "data": {
      "text/plain": [
       "34090"
      ]
     },
     "execution_count": 21,
     "metadata": {},
     "output_type": "execute_result"
    }
   ],
   "source": [
    "len(df_test.user_id.unique())"
   ]
  },
  {
   "cell_type": "markdown",
   "metadata": {
    "colab_type": "text",
    "id": "idKnXXP0wqfA"
   },
   "source": [
    "### Prediction"
   ]
  },
  {
   "cell_type": "code",
   "execution_count": 22,
   "metadata": {
    "colab": {},
    "colab_type": "code",
    "id": "RXT7NuTLwqfB"
   },
   "outputs": [],
   "source": [
    "def predict_PPR(row):\n",
    "    if row[\"id\"] % 500 == 0:\n",
    "        print_time(\"\\tpredicting row \" + str(row[\"id\"]))\n",
    "    #return PPR(A_sparse, df_train, row[\"user_id\"], row[\"item_id\"])\n",
    "    return predict_rating(row[\"user_id\"], [row[\"item_id\"]])[0]"
   ]
  },
  {
   "cell_type": "markdown",
   "metadata": {
    "colab_type": "text",
    "id": "rny3bw9mwqfE"
   },
   "source": [
    "#### Batch predict"
   ]
  },
  {
   "cell_type": "code",
   "execution_count": 23,
   "metadata": {
    "colab": {
     "base_uri": "https://localhost:8080/",
     "height": 34
    },
    "colab_type": "code",
    "executionInfo": {
     "elapsed": 450,
     "status": "ok",
     "timestamp": 1558784495451,
     "user": {
      "displayName": "Eduard Ribas Fernández",
      "photoUrl": "https://lh6.googleusercontent.com/-29k67AjnVSU/AAAAAAAAAAI/AAAAAAAAHFY/7-7CPx1LXpI/s64/photo.jpg",
      "userId": "09425714300820196971"
     },
     "user_tz": -120
    },
    "id": "806EuPtzwqfF",
    "outputId": "ac24fd36-e892-4405-8b98-248ce5115b2c"
   },
   "outputs": [
    {
     "name": "stdout",
     "output_type": "stream",
     "text": [
      "[10000 20000 30000 40000 50000]\n"
     ]
    }
   ],
   "source": [
    "batch_size = 10000\n",
    "batches = np.arange(batch_size,df_test.shape[0]+1,batch_size)\n",
    "print(batches)"
   ]
  },
  {
   "cell_type": "code",
   "execution_count": null,
   "metadata": {},
   "outputs": [],
   "source": [
    "BATCH_FOLDER = PATH_BATCHES + \"train_\" + str(TRAIN_SIZE) + \"/\"\n",
    "create_directory(BATCH_FOLDER)"
   ]
  },
  {
   "cell_type": "markdown",
   "metadata": {},
   "source": [
    "##### Predict for each batch and save"
   ]
  },
  {
   "cell_type": "code",
   "execution_count": 25,
   "metadata": {
    "colab": {
     "base_uri": "https://localhost:8080/",
     "height": 1122
    },
    "colab_type": "code",
    "executionInfo": {
     "elapsed": 8603075,
     "status": "ok",
     "timestamp": 1558793099441,
     "user": {
      "displayName": "Eduard Ribas Fernández",
      "photoUrl": "https://lh6.googleusercontent.com/-29k67AjnVSU/AAAAAAAAAAI/AAAAAAAAHFY/7-7CPx1LXpI/s64/photo.jpg",
      "userId": "09425714300820196971"
     },
     "user_tz": -120
    },
    "id": "makp359OwqfH",
    "outputId": "0a350b46-1d9d-4737-f7ab-4923d8da00aa",
    "scrolled": true
   },
   "outputs": [
    {
     "name": "stdout",
     "output_type": "stream",
     "text": [
      " 2019-05-29 17:32:54.65 batch 10000 already exists!\n",
      " 2019-05-29 17:32:54.65 batch 20000 already exists!\n",
      " 2019-05-29 17:32:54.65 batch 30000 already exists!\n",
      " 2019-05-29 17:32:54.65 batch 40000 already exists!\n",
      " 2019-05-29 17:32:54.65 batch 50000 already exists!\n"
     ]
    }
   ],
   "source": [
    "for batch in batches:\n",
    "    filename =  \"batch_\" + str(batch) + \".csv\"\n",
    "    if filename not in os.listdir(BATCH_FOLDER):\n",
    "        print_time(\"computing batch \" + str(batch) + \": \" + filename)\n",
    "        df_test_batch = df_test.iloc[batch-batch_size:batch].copy()\n",
    "        df_test_batch['rating_nr'] = df_test_batch.apply(predict_PPR, axis=1)\n",
    "        df_test_batch.to_csv(BATCH_FOLDER + filename, index=False)\n",
    "    else:\n",
    "        print_time(\"batch \" + str(batch) + \" already exists!\")"
   ]
  },
  {
   "cell_type": "markdown",
   "metadata": {},
   "source": [
    "##### Load prediction files in a single DF"
   ]
  },
  {
   "cell_type": "code",
   "execution_count": 26,
   "metadata": {
    "colab": {},
    "colab_type": "code",
    "id": "qAjRRPhvwqfJ",
    "outputId": "03f78004-18d1-4699-8a6c-534dd8f9a3bb",
    "scrolled": true
   },
   "outputs": [
    {
     "name": "stdout",
     "output_type": "stream",
     "text": [
      " 2019-05-29 17:32:59.51 reading batch file batch_10000.csv\n",
      " 2019-05-29 17:32:59.53 reading batch file batch_20000.csv\n",
      " 2019-05-29 17:32:59.54 reading batch file batch_30000.csv\n",
      " 2019-05-29 17:32:59.56 reading batch file batch_40000.csv\n",
      " 2019-05-29 17:32:59.58 reading batch file batch_50000.csv\n"
     ]
    }
   ],
   "source": [
    "df_test = pd.DataFrame(columns = ['id','user_id','item_id','rating_nr'])\n",
    "for batch in batches:\n",
    "    filename = \"batch_\" + str(batch) + \".csv\"\n",
    "    if filename in os.listdir(BATCH_FOLDER):\n",
    "        print_time(\"reading batch file \" + filename)\n",
    "        df_test_batch = pd.read_csv(BATCH_FOLDER + filename)\n",
    "        df_test = df_test.append(df_test_batch)\n",
    "    else:\n",
    "        print_time(\"batch file \" + filename + \" doesn't exist!\")"
   ]
  },
  {
   "cell_type": "markdown",
   "metadata": {
    "colab_type": "text",
    "id": "cvZtEPn3wqfQ"
   },
   "source": [
    "#### Full predict"
   ]
  },
  {
   "cell_type": "code",
   "execution_count": 29,
   "metadata": {
    "colab": {},
    "colab_type": "code",
    "id": "UfM9jEeLwqfR",
    "outputId": "85f5b648-1a36-4da3-d041-3e92438f2d99"
   },
   "outputs": [],
   "source": [
    "#%%time\n",
    "#df_test['rating_nr'] = df_test.apply(predict_PPR, axis=1)"
   ]
  },
  {
   "cell_type": "markdown",
   "metadata": {
    "colab_type": "text",
    "id": "a9iX5mMJwqfh"
   },
   "source": [
    "## Submission"
   ]
  },
  {
   "cell_type": "code",
   "execution_count": 31,
   "metadata": {},
   "outputs": [],
   "source": [
    "df_test['rating'] = df_test['rating_nr']*20 - 10.1\n",
    "df_test[\"item_id\"] = df_test[\"item_id\"]+1"
   ]
  },
  {
   "cell_type": "code",
   "execution_count": 89,
   "metadata": {
    "colab": {},
    "colab_type": "code",
    "id": "KItzBARmwqfh",
    "outputId": "bd1e1178-2d11-472e-deb2-05c4f65640f6"
   },
   "outputs": [
    {
     "name": "stdout",
     "output_type": "stream",
     "text": [
      "Dataframe saved: submission_2019.05.27_19.58.csv\n",
      "\n"
     ]
    }
   ],
   "source": [
    "subm_file = save_submission_file(df_test, PATH_SUBMISSIONS)"
   ]
  },
  {
   "cell_type": "markdown",
   "metadata": {
    "colab_type": "text",
    "id": "ML-iDrHUwqfo"
   },
   "source": [
    "https://www.kaggle.com/c/jesterdsub2019/submissions"
   ]
  }
 ],
 "metadata": {
  "accelerator": "GPU",
  "colab": {
   "collapsed_sections": [
    "cvZtEPn3wqfQ",
    "NiLpjh-gwqfU",
    "EWUdPFr0wqfc",
    "a9iX5mMJwqfh",
    "Hcr4Zg11wqgH",
    "AwnX5r_QwqgH",
    "q_PrlKR8wqgI",
    "cL_O316ewqg4"
   ],
   "name": "mess_around_edu.ipynb",
   "provenance": [],
   "version": "0.3.2"
  },
  "kernelspec": {
   "display_name": "Python 3",
   "language": "python",
   "name": "python3"
  },
  "language_info": {
   "codemirror_mode": {
    "name": "ipython",
    "version": 3
   },
   "file_extension": ".py",
   "mimetype": "text/x-python",
   "name": "python",
   "nbconvert_exporter": "python",
   "pygments_lexer": "ipython3",
   "version": "3.6.5"
  }
 },
 "nbformat": 4,
 "nbformat_minor": 1
}
