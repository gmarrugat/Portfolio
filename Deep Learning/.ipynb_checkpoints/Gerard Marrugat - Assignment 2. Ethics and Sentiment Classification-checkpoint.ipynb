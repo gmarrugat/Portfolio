{
 "cells": [
  {
   "cell_type": "markdown",
   "metadata": {
    "colab_type": "text",
    "id": "R5RudM9wBzd9"
   },
   "source": [
    "# Assignment 2\n",
    "\n",
    "(Part of this exercise is based on https://blog.conceptnet.io/posts/2017/how-to-make-a-racist-ai-without-really-trying/)\n",
    "\n",
    "## Sentiment Classification\n",
    "\n",
    "This assignment approaches the sentiment classification problem by using deep learning techniques and also exposes some ethical problem related to these methods.\n",
    "\n",
    "This is what we’re going to do:\n",
    "\n",
    "+ Acquire some pre-computed word embeddings to represent the meanings of words\n",
    "+ Acquire training and test data, with gold-standard examples of positive and negative words\n",
    "+ Train a simple classifier to recognize other positive and negative words based on their word embeddings\n",
    "+ Compute sentiment scores for sentences of text using this classifier\n",
    "+ Analyze the results to look for unwanted bias. "
   ]
  },
  {
   "cell_type": "markdown",
   "metadata": {
    "colab_type": "text",
    "id": "RsS5s_tEBzd_"
   },
   "source": [
    "## Word embeddings\n",
    "\n",
    "There are several datasets of pre-trained English word embeddings such as `word2vec`, pretrained on Google News data, and `GloVe`, pretrained on the Common Crawl of web pages. We will use `GloVe`.\n",
    "\n",
    "GloVe comes in three sizes: 6B, 42B, and 840B. The 42B version is pretty good and is also neatly trimmed to a vocabulary of 1 million words. We will just use the 42B version.\n",
    "\n",
    "> **GloVe.42B** data: 42B tokens, 1.9M vocab, uncased, 300d vectors, 1.75 GB download"
   ]
  },
  {
   "cell_type": "code",
   "execution_count": 157,
   "metadata": {
    "ExecuteTime": {
     "end_time": "2019-03-29T09:08:49.211876Z",
     "start_time": "2019-03-29T09:01:34.100348Z"
    },
    "colab": {
     "base_uri": "https://localhost:8080/",
     "height": 272
    },
    "colab_type": "code",
    "executionInfo": {
     "elapsed": 373050,
     "status": "ok",
     "timestamp": 1556625073281,
     "user": {
      "displayName": "Gerard Marrugat Torregrosa",
      "photoUrl": "https://lh6.googleusercontent.com/-ZP8MaNMW5ng/AAAAAAAAAAI/AAAAAAAAAvw/rWr84bsIcJ4/s64/photo.jpg",
      "userId": "04021933901390158176"
     },
     "user_tz": -120
    },
    "id": "cEqMSox2BzeA",
    "outputId": "509d11b0-d966-405c-ce26-807e53bbd1d4"
   },
   "outputs": [
    {
     "name": "stdout",
     "output_type": "stream",
     "text": [
      "--2019-04-30 11:45:02--  http://nlp.stanford.edu/data/glove.42B.300d.zip\n",
      "Resolving nlp.stanford.edu (nlp.stanford.edu)... 171.64.67.140\n",
      "Connecting to nlp.stanford.edu (nlp.stanford.edu)|171.64.67.140|:80... connected.\n",
      "HTTP request sent, awaiting response... 302 Found\n",
      "Location: https://nlp.stanford.edu/data/glove.42B.300d.zip [following]\n",
      "--2019-04-30 11:45:02--  https://nlp.stanford.edu/data/glove.42B.300d.zip\n",
      "Connecting to nlp.stanford.edu (nlp.stanford.edu)|171.64.67.140|:443... connected.\n",
      "HTTP request sent, awaiting response... 200 OK\n",
      "Length: 1877800501 (1.7G) [application/zip]\n",
      "Saving to: ‘glove.42B.300d.zip’\n",
      "\n",
      "glove.42B.300d.zip  100%[===================>]   1.75G  3.37MB/s    in 6m 9s   \n",
      "\n",
      "2019-04-30 11:51:11 (4.86 MB/s) - ‘glove.42B.300d.zip’ saved [1877800501/1877800501]\n",
      "\n"
     ]
    }
   ],
   "source": [
    "!wget http://nlp.stanford.edu/data/glove.42B.300d.zip"
   ]
  },
  {
   "cell_type": "code",
   "execution_count": 158,
   "metadata": {
    "ExecuteTime": {
     "end_time": "2019-03-29T09:10:02.327170Z",
     "start_time": "2019-03-29T09:09:24.646719Z"
    },
    "colab": {
     "base_uri": "https://localhost:8080/",
     "height": 51
    },
    "colab_type": "code",
    "executionInfo": {
     "elapsed": 437645,
     "status": "ok",
     "timestamp": 1556625138592,
     "user": {
      "displayName": "Gerard Marrugat Torregrosa",
      "photoUrl": "https://lh6.googleusercontent.com/-ZP8MaNMW5ng/AAAAAAAAAAI/AAAAAAAAAvw/rWr84bsIcJ4/s64/photo.jpg",
      "userId": "04021933901390158176"
     },
     "user_tz": -120
    },
    "id": "aLvMgbhYBzeE",
    "outputId": "1ef57494-afe0-434c-aab4-0fde5a0c041b"
   },
   "outputs": [
    {
     "name": "stdout",
     "output_type": "stream",
     "text": [
      "Archive:  glove.42B.300d.zip\n",
      "  inflating: glove.42B.300d.txt      \n"
     ]
    }
   ],
   "source": [
    "!unzip glove.42B.300d.zip\n",
    "!rm glove.42B.300d.zip"
   ]
  },
  {
   "cell_type": "code",
   "execution_count": 160,
   "metadata": {
    "ExecuteTime": {
     "end_time": "2019-03-29T15:04:47.628009Z",
     "start_time": "2019-03-29T15:01:58.108263Z"
    },
    "colab": {
     "base_uri": "https://localhost:8080/",
     "height": 51
    },
    "colab_type": "code",
    "executionInfo": {
     "elapsed": 263146,
     "status": "ok",
     "timestamp": 1556625424702,
     "user": {
      "displayName": "Gerard Marrugat Torregrosa",
      "photoUrl": "https://lh6.googleusercontent.com/-ZP8MaNMW5ng/AAAAAAAAAAI/AAAAAAAAAvw/rWr84bsIcJ4/s64/photo.jpg",
      "userId": "04021933901390158176"
     },
     "user_tz": -120
    },
    "id": "G_FFD2bbBzeH",
    "outputId": "62b161ce-80f0-4952-8773-9204c3629602"
   },
   "outputs": [
    {
     "name": "stderr",
     "output_type": "stream",
     "text": [
      "1917494it [03:47, 8415.52it/s]\n"
     ]
    },
    {
     "data": {
      "text/plain": [
       "(1917494, 300)"
      ]
     },
     "execution_count": 160,
     "metadata": {
      "tags": []
     },
     "output_type": "execute_result"
    }
   ],
   "source": [
    "import numpy as np\n",
    "import pandas as pd\n",
    "from tqdm import tqdm\n",
    "\n",
    "def load_embeddings(filename):\n",
    "    labels = []\n",
    "    rows = []\n",
    "    with open(filename, encoding='utf-8') as infile:\n",
    "        for i, line in tqdm(enumerate(infile)):\n",
    "            items = line.rstrip().split(' ')\n",
    "            if len(items) == 2:\n",
    "                # This is a header row giving the shape of the matrix\n",
    "                continue\n",
    "            labels.append(items[0])\n",
    "            values = np.array([float(x) for x in items[1:]], 'f')\n",
    "            rows.append(values)\n",
    "    \n",
    "    arr = np.vstack(rows)\n",
    "    return pd.DataFrame(arr, index=labels, dtype='f')\n",
    "\n",
    "embeddings = load_embeddings('glove.42B.300d.txt')\n",
    "embeddings.shape"
   ]
  },
  {
   "cell_type": "markdown",
   "metadata": {
    "colab_type": "text",
    "id": "fR6RR0h9BzeJ"
   },
   "source": [
    "## Positive and Negative Words\n",
    "\n",
    "We need some input about which words are positive and which words are negative. There are many sentiment lexicons you could use, but we’re going to go with a very straightforward lexicon from https://www.cs.uic.edu/~liub/FBS/sentiment-analysis.html  \n",
    "\n",
    "There is a copy of these files in the GitHub repository of the course."
   ]
  },
  {
   "cell_type": "code",
   "execution_count": 0,
   "metadata": {
    "colab": {
     "base_uri": "https://localhost:8080/",
     "height": 391
    },
    "colab_type": "code",
    "executionInfo": {
     "elapsed": 10333,
     "status": "ok",
     "timestamp": 1556207525133,
     "user": {
      "displayName": "Gerard Marrugat Torregrosa",
      "photoUrl": "https://lh6.googleusercontent.com/-ZP8MaNMW5ng/AAAAAAAAAAI/AAAAAAAAAvw/rWr84bsIcJ4/s64/photo.jpg",
      "userId": "04021933901390158176"
     },
     "user_tz": -120
    },
    "id": "nOVI_gAAE9OB",
    "outputId": "9b76275a-a3f8-4b45-aa2f-a43350fca641"
   },
   "outputs": [
    {
     "name": "stdout",
     "output_type": "stream",
     "text": [
      "--2019-04-25 15:51:56--  https://raw.githubusercontent.com/DataScienceUB/DeepLearningMaster2019/master/data/positive-words.txt\n",
      "Resolving raw.githubusercontent.com (raw.githubusercontent.com)... 151.101.0.133, 151.101.64.133, 151.101.128.133, ...\n",
      "Connecting to raw.githubusercontent.com (raw.githubusercontent.com)|151.101.0.133|:443... connected.\n",
      "HTTP request sent, awaiting response... 200 OK\n",
      "Length: 22408 (22K) [text/plain]\n",
      "Saving to: ‘positive-words.txt’\n",
      "\n",
      "\r",
      "positive-words.txt    0%[                    ]       0  --.-KB/s               \r",
      "positive-words.txt  100%[===================>]  21.88K  --.-KB/s    in 0.003s  \n",
      "\n",
      "2019-04-25 15:51:56 (6.49 MB/s) - ‘positive-words.txt’ saved [22408/22408]\n",
      "\n",
      "--2019-04-25 15:52:01--  https://raw.githubusercontent.com/DataScienceUB/DeepLearningMaster2019/master/data/negative-words.txt\n",
      "Resolving raw.githubusercontent.com (raw.githubusercontent.com)... 151.101.0.133, 151.101.64.133, 151.101.128.133, ...\n",
      "Connecting to raw.githubusercontent.com (raw.githubusercontent.com)|151.101.0.133|:443... connected.\n",
      "HTTP request sent, awaiting response... 200 OK\n",
      "Length: 50857 (50K) [text/plain]\n",
      "Saving to: ‘negative-words.txt’\n",
      "\n",
      "negative-words.txt  100%[===================>]  49.67K  --.-KB/s    in 0.007s  \n",
      "\n",
      "2019-04-25 15:52:01 (6.58 MB/s) - ‘negative-words.txt’ saved [50857/50857]\n",
      "\n"
     ]
    }
   ],
   "source": [
    "!wget https://raw.githubusercontent.com/DataScienceUB/DeepLearningMaster2019/master/data/positive-words.txt\n",
    "!wget https://raw.githubusercontent.com/DataScienceUB/DeepLearningMaster2019/master/data/negative-words.txt\n"
   ]
  },
  {
   "cell_type": "code",
   "execution_count": 0,
   "metadata": {
    "ExecuteTime": {
     "end_time": "2019-03-29T15:04:56.665741Z",
     "start_time": "2019-03-29T15:04:56.619197Z"
    },
    "colab": {},
    "colab_type": "code",
    "id": "u6kfpHJaBzeJ"
   },
   "outputs": [],
   "source": [
    "def load_lexicon(filename):\n",
    "    lexicon = []\n",
    "    with open(filename, encoding='latin-1') as infile:\n",
    "        for line in infile:\n",
    "            line = line.rstrip()\n",
    "            if line and not line.startswith(';'):\n",
    "                lexicon.append(line)\n",
    "    return lexicon\n",
    "\n",
    "pos_words = load_lexicon('positive-words.txt')\n",
    "neg_words = load_lexicon('negative-words.txt')"
   ]
  },
  {
   "cell_type": "markdown",
   "metadata": {
    "colab_type": "text",
    "id": "ud0fhRxyBzeM"
   },
   "source": [
    "Some of these words are not in the GloVe vocabulary. Those words end up with rows full of NaN to indicate their missing embeddings, so we will use Pandas to clean the dataset."
   ]
  },
  {
   "cell_type": "code",
   "execution_count": 0,
   "metadata": {
    "ExecuteTime": {
     "end_time": "2019-03-29T15:04:59.940580Z",
     "start_time": "2019-03-29T15:04:58.168200Z"
    },
    "colab": {
     "base_uri": "https://localhost:8080/",
     "height": 255
    },
    "colab_type": "code",
    "executionInfo": {
     "elapsed": 2175,
     "status": "ok",
     "timestamp": 1556207527190,
     "user": {
      "displayName": "Gerard Marrugat Torregrosa",
      "photoUrl": "https://lh6.googleusercontent.com/-ZP8MaNMW5ng/AAAAAAAAAAI/AAAAAAAAAvw/rWr84bsIcJ4/s64/photo.jpg",
      "userId": "04021933901390158176"
     },
     "user_tz": -120
    },
    "id": "mW5w55RiBzeM",
    "outputId": "f577529c-8feb-4ff3-d13c-c02275833e5c"
   },
   "outputs": [
    {
     "name": "stderr",
     "output_type": "stream",
     "text": [
      "/usr/local/lib/python3.6/dist-packages/ipykernel_launcher.py:1: FutureWarning: \n",
      "Passing list-likes to .loc or [] with any missing label will raise\n",
      "KeyError in the future, you can use .reindex() as an alternative.\n",
      "\n",
      "See the documentation here:\n",
      "https://pandas.pydata.org/pandas-docs/stable/indexing.html#deprecate-loc-reindex-listlike\n",
      "  \"\"\"Entry point for launching an IPython kernel.\n",
      "/usr/local/lib/python3.6/dist-packages/ipykernel_launcher.py:2: FutureWarning: \n",
      "Passing list-likes to .loc or [] with any missing label will raise\n",
      "KeyError in the future, you can use .reindex() as an alternative.\n",
      "\n",
      "See the documentation here:\n",
      "https://pandas.pydata.org/pandas-docs/stable/indexing.html#deprecate-loc-reindex-listlike\n",
      "  \n"
     ]
    }
   ],
   "source": [
    "pos_vectors = embeddings.loc[pos_words].dropna()\n",
    "neg_vectors = embeddings.loc[neg_words].dropna()"
   ]
  },
  {
   "cell_type": "markdown",
   "metadata": {
    "colab_type": "text",
    "id": "aDd0yYBBBzeO"
   },
   "source": [
    "Now we make arrays of the desired inputs and outputs. The inputs are the embeddings, and the outputs are `1` for positive words and `-1` for negative words. We also make sure to keep track of the words they’re labeled with, so we can interpret the results."
   ]
  },
  {
   "cell_type": "code",
   "execution_count": 0,
   "metadata": {
    "ExecuteTime": {
     "end_time": "2019-03-29T15:05:03.485323Z",
     "start_time": "2019-03-29T15:05:03.466320Z"
    },
    "colab": {},
    "colab_type": "code",
    "id": "TPjdI-oKBzeP"
   },
   "outputs": [],
   "source": [
    "vectors = pd.concat([pos_vectors, neg_vectors])\n",
    "targets = np.array([1 for entry in pos_vectors.index] + [-1 for entry in neg_vectors.index])\n",
    "labels = list(pos_vectors.index) + list(neg_vectors.index)"
   ]
  },
  {
   "cell_type": "code",
   "execution_count": 0,
   "metadata": {
    "ExecuteTime": {
     "end_time": "2019-03-29T15:05:05.256478Z",
     "start_time": "2019-03-29T15:05:05.210348Z"
    },
    "colab": {},
    "colab_type": "code",
    "id": "nBW36XlcBzeR"
   },
   "outputs": [],
   "source": [
    "from sklearn.model_selection import train_test_split\n",
    "\n",
    "train_vectors, test_vectors, train_targets, test_targets, train_labels, test_labels = \\\n",
    "    train_test_split(vectors, targets, labels, test_size=0.1, random_state=0)"
   ]
  },
  {
   "cell_type": "markdown",
   "metadata": {
    "colab_type": "text",
    "id": "qmOaXxGpBzeU"
   },
   "source": [
    "Now it is time to make your classifier, and train it by running the training vectors through it for 100 iterations. You can use a logistic function as the loss, so that the resulting classifier can output the probability that a word is positive or negative."
   ]
  },
  {
   "cell_type": "code",
   "execution_count": 0,
   "metadata": {
    "ExecuteTime": {
     "end_time": "2019-03-29T15:16:50.546163Z",
     "start_time": "2019-03-29T15:16:50.542669Z"
    },
    "colab": {
     "base_uri": "https://localhost:8080/",
     "height": 173
    },
    "colab_type": "code",
    "executionInfo": {
     "elapsed": 1922,
     "status": "ok",
     "timestamp": 1556207582632,
     "user": {
      "displayName": "Gerard Marrugat Torregrosa",
      "photoUrl": "https://lh6.googleusercontent.com/-ZP8MaNMW5ng/AAAAAAAAAAI/AAAAAAAAAvw/rWr84bsIcJ4/s64/photo.jpg",
      "userId": "04021933901390158176"
     },
     "user_tz": -120
    },
    "id": "LreSnh1RBzeU",
    "outputId": "681f3d86-e041-45a3-b96b-af95dc69ded9"
   },
   "outputs": [
    {
     "name": "stderr",
     "output_type": "stream",
     "text": [
      "/usr/local/lib/python3.6/dist-packages/sklearn/linear_model/stochastic_gradient.py:152: DeprecationWarning: n_iter parameter is deprecated in 0.19 and will be removed in 0.21. Use max_iter and tol instead.\n",
      "  DeprecationWarning)\n"
     ]
    },
    {
     "data": {
      "text/plain": [
       "SGDClassifier(alpha=0.0001, average=False, class_weight=None,\n",
       "       early_stopping=False, epsilon=0.1, eta0=0.0, fit_intercept=True,\n",
       "       l1_ratio=0.15, learning_rate='optimal', loss='log', max_iter=None,\n",
       "       n_iter=100, n_iter_no_change=5, n_jobs=1, penalty='l2', power_t=0.5,\n",
       "       random_state=0, shuffle=True, tol=None, validation_fraction=0.1,\n",
       "       verbose=0, warm_start=False)"
      ]
     },
     "execution_count": 29,
     "metadata": {
      "tags": []
     },
     "output_type": "execute_result"
    }
   ],
   "source": [
    "from sklearn.linear_model import SGDClassifier\n",
    "from sklearn.metrics import accuracy_score\n",
    "\n",
    "model = SGDClassifier(loss='log', random_state=0, n_iter=100)\n",
    "model.fit(train_vectors, train_targets)\n",
    "SGDClassifier(alpha=0.0001, average=False, class_weight=None, epsilon=0.1,\n",
    "       eta0=0.0, fit_intercept=True, l1_ratio=0.15,\n",
    "       learning_rate='optimal', loss='log', n_iter=100, n_jobs=1,\n",
    "       penalty='l2', power_t=0.5, random_state=0, shuffle=True, verbose=0,\n",
    "       warm_start=False)"
   ]
  },
  {
   "cell_type": "markdown",
   "metadata": {
    "colab_type": "text",
    "id": "4UlxWk8NBzeX"
   },
   "source": [
    "We can evaluate the classifier on the test vectors. \n"
   ]
  },
  {
   "cell_type": "code",
   "execution_count": 0,
   "metadata": {
    "ExecuteTime": {
     "end_time": "2019-03-29T15:16:54.627721Z",
     "start_time": "2019-03-29T15:16:54.625191Z"
    },
    "colab": {
     "base_uri": "https://localhost:8080/",
     "height": 34
    },
    "colab_type": "code",
    "executionInfo": {
     "elapsed": 833,
     "status": "ok",
     "timestamp": 1556191037144,
     "user": {
      "displayName": "Gerard Marrugat Torregrosa",
      "photoUrl": "https://lh6.googleusercontent.com/-ZP8MaNMW5ng/AAAAAAAAAAI/AAAAAAAAAvw/rWr84bsIcJ4/s64/photo.jpg",
      "userId": "04021933901390158176"
     },
     "user_tz": -120
    },
    "id": "gh0kOsUdBzeX",
    "outputId": "36a92da9-e2a2-47f7-e9b9-0a8fc16aa53c"
   },
   "outputs": [
    {
     "data": {
      "text/plain": [
       "0.9502262443438914"
      ]
     },
     "execution_count": 9,
     "metadata": {
      "tags": []
     },
     "output_type": "execute_result"
    }
   ],
   "source": [
    "accuracy_score(model.predict(test_vectors), test_targets)"
   ]
  },
  {
   "cell_type": "markdown",
   "metadata": {
    "colab_type": "text",
    "id": "983emjCeBzeZ"
   },
   "source": [
    "Let’s define a function that we can use to see the sentiment that this classifier predicts for particular words, then use it to see some examples of its predictions on the test data."
   ]
  },
  {
   "cell_type": "code",
   "execution_count": 0,
   "metadata": {
    "colab": {
     "base_uri": "https://localhost:8080/",
     "height": 119
    },
    "colab_type": "code",
    "executionInfo": {
     "elapsed": 812,
     "status": "ok",
     "timestamp": 1556186709683,
     "user": {
      "displayName": "Gerard Marrugat Torregrosa",
      "photoUrl": "https://lh6.googleusercontent.com/-ZP8MaNMW5ng/AAAAAAAAAAI/AAAAAAAAAvw/rWr84bsIcJ4/s64/photo.jpg",
      "userId": "04021933901390158176"
     },
     "user_tz": -120
    },
    "id": "j5jKexPh671h",
    "outputId": "e39ca91a-3f64-454b-c9ab-3defd84bed03"
   },
   "outputs": [
    {
     "name": "stdout",
     "output_type": "stream",
     "text": [
      "['fidget', 'interrupt', 'staunchly', 'imaginary', 'taxing'] [-1 -1  1 -1 -1]\n"
     ]
    },
    {
     "data": {
      "text/plain": [
       "array([[-4.86089373e-05, -9.93172745e+00],\n",
       "       [-6.54163259e-05, -9.63477141e+00],\n",
       "       [-1.67444909e+00, -2.07530322e-01],\n",
       "       [-4.91014772e-02, -3.03831644e+00],\n",
       "       [-9.54599692e-01, -4.86078084e-01]])"
      ]
     },
     "execution_count": 53,
     "metadata": {
      "tags": []
     },
     "output_type": "execute_result"
    }
   ],
   "source": [
    "print(test_labels[:5], test_targets[:5])\n",
    "model.predict_log_proba(test_vectors[:5])"
   ]
  },
  {
   "cell_type": "code",
   "execution_count": 0,
   "metadata": {
    "ExecuteTime": {
     "end_time": "2019-03-29T15:06:07.705034Z",
     "start_time": "2019-03-29T15:06:07.670604Z"
    },
    "colab": {
     "base_uri": "https://localhost:8080/",
     "height": 788
    },
    "colab_type": "code",
    "executionInfo": {
     "elapsed": 570,
     "status": "ok",
     "timestamp": 1556564155237,
     "user": {
      "displayName": "Gerard Marrugat Torregrosa",
      "photoUrl": "https://lh6.googleusercontent.com/-ZP8MaNMW5ng/AAAAAAAAAAI/AAAAAAAAAvw/rWr84bsIcJ4/s64/photo.jpg",
      "userId": "04021933901390158176"
     },
     "user_tz": -120
    },
    "id": "QAtTmjPkBzea",
    "outputId": "4ecf0d71-55b3-4aa7-ced9-1b647e662960"
   },
   "outputs": [
    {
     "name": "stderr",
     "output_type": "stream",
     "text": [
      "/usr/local/lib/python3.6/dist-packages/ipykernel_launcher.py:18: DeprecationWarning: \n",
      ".ix is deprecated. Please use\n",
      ".loc for label based indexing or\n",
      ".iloc for positional indexing\n",
      "\n",
      "See the documentation here:\n",
      "http://pandas.pydata.org/pandas-docs/stable/indexing.html#ix-indexer-is-deprecated\n"
     ]
    },
    {
     "data": {
      "text/html": [
       "<div>\n",
       "<style scoped>\n",
       "    .dataframe tbody tr th:only-of-type {\n",
       "        vertical-align: middle;\n",
       "    }\n",
       "\n",
       "    .dataframe tbody tr th {\n",
       "        vertical-align: top;\n",
       "    }\n",
       "\n",
       "    .dataframe thead th {\n",
       "        text-align: right;\n",
       "    }\n",
       "</style>\n",
       "<table border=\"1\" class=\"dataframe\">\n",
       "  <thead>\n",
       "    <tr style=\"text-align: right;\">\n",
       "      <th></th>\n",
       "      <th>sentiment</th>\n",
       "    </tr>\n",
       "  </thead>\n",
       "  <tbody>\n",
       "    <tr>\n",
       "      <th>fidget</th>\n",
       "      <td>-9.931679</td>\n",
       "    </tr>\n",
       "    <tr>\n",
       "      <th>interrupt</th>\n",
       "      <td>-9.634706</td>\n",
       "    </tr>\n",
       "    <tr>\n",
       "      <th>staunchly</th>\n",
       "      <td>1.466919</td>\n",
       "    </tr>\n",
       "    <tr>\n",
       "      <th>imaginary</th>\n",
       "      <td>-2.989215</td>\n",
       "    </tr>\n",
       "    <tr>\n",
       "      <th>taxing</th>\n",
       "      <td>0.468522</td>\n",
       "    </tr>\n",
       "    <tr>\n",
       "      <th>world-famous</th>\n",
       "      <td>6.908561</td>\n",
       "    </tr>\n",
       "    <tr>\n",
       "      <th>low-cost</th>\n",
       "      <td>9.237223</td>\n",
       "    </tr>\n",
       "    <tr>\n",
       "      <th>disapointment</th>\n",
       "      <td>-8.737182</td>\n",
       "    </tr>\n",
       "    <tr>\n",
       "      <th>totalitarian</th>\n",
       "      <td>-10.851580</td>\n",
       "    </tr>\n",
       "    <tr>\n",
       "      <th>bellicose</th>\n",
       "      <td>-8.328674</td>\n",
       "    </tr>\n",
       "    <tr>\n",
       "      <th>freezes</th>\n",
       "      <td>-8.456981</td>\n",
       "    </tr>\n",
       "    <tr>\n",
       "      <th>sin</th>\n",
       "      <td>-7.839670</td>\n",
       "    </tr>\n",
       "    <tr>\n",
       "      <th>fragile</th>\n",
       "      <td>-4.018289</td>\n",
       "    </tr>\n",
       "    <tr>\n",
       "      <th>fooled</th>\n",
       "      <td>-4.309344</td>\n",
       "    </tr>\n",
       "    <tr>\n",
       "      <th>undecided</th>\n",
       "      <td>-2.816172</td>\n",
       "    </tr>\n",
       "    <tr>\n",
       "      <th>handily</th>\n",
       "      <td>2.339609</td>\n",
       "    </tr>\n",
       "    <tr>\n",
       "      <th>demonizes</th>\n",
       "      <td>-2.102152</td>\n",
       "    </tr>\n",
       "    <tr>\n",
       "      <th>easygoing</th>\n",
       "      <td>8.747150</td>\n",
       "    </tr>\n",
       "    <tr>\n",
       "      <th>unpopular</th>\n",
       "      <td>-7.887475</td>\n",
       "    </tr>\n",
       "    <tr>\n",
       "      <th>commiserate</th>\n",
       "      <td>1.790899</td>\n",
       "    </tr>\n",
       "  </tbody>\n",
       "</table>\n",
       "</div>"
      ],
      "text/plain": [
       "               sentiment\n",
       "fidget         -9.931679\n",
       "interrupt      -9.634706\n",
       "staunchly       1.466919\n",
       "imaginary      -2.989215\n",
       "taxing          0.468522\n",
       "world-famous    6.908561\n",
       "low-cost        9.237223\n",
       "disapointment  -8.737182\n",
       "totalitarian  -10.851580\n",
       "bellicose      -8.328674\n",
       "freezes        -8.456981\n",
       "sin            -7.839670\n",
       "fragile        -4.018289\n",
       "fooled         -4.309344\n",
       "undecided      -2.816172\n",
       "handily         2.339609\n",
       "demonizes      -2.102152\n",
       "easygoing       8.747150\n",
       "unpopular      -7.887475\n",
       "commiserate     1.790899"
      ]
     },
     "execution_count": 190,
     "metadata": {
      "tags": []
     },
     "output_type": "execute_result"
    }
   ],
   "source": [
    "def vecs_to_sentiment(vecs):\n",
    "    # predict_log_proba gives the log probability for each class\n",
    "    predictions = model.predict_log_proba(vecs)\n",
    "\n",
    "    # To see an overall positive vs. negative classification in one number,\n",
    "    # we take the log probability of positive sentiment minus the log\n",
    "    # probability of negative sentiment.\n",
    "    return predictions[:, 1] - predictions[:, 0]\n",
    "\n",
    "\n",
    "def words_to_sentiment(words):\n",
    "    vecs = embeddings.loc[words].dropna()\n",
    "    log_odds = vecs_to_sentiment(vecs)\n",
    "    return pd.DataFrame({'sentiment': log_odds}, index=vecs.index)\n",
    "\n",
    "\n",
    "# Show 20 examples from the test set\n",
    "words_to_sentiment(test_labels).ix[:20]"
   ]
  },
  {
   "cell_type": "markdown",
   "metadata": {
    "colab_type": "text",
    "id": "D7CPVesRBzed"
   },
   "source": [
    "## Sentiment score for text\n",
    "\n",
    "There are many ways to combine sentiments for word vectors into an overall sentiment score. The simplest way is to average them."
   ]
  },
  {
   "cell_type": "code",
   "execution_count": 0,
   "metadata": {
    "ExecuteTime": {
     "end_time": "2019-03-29T15:07:29.746290Z",
     "start_time": "2019-03-29T15:07:29.740768Z"
    },
    "colab": {},
    "colab_type": "code",
    "id": "-XJpCFwjBzee"
   },
   "outputs": [],
   "source": [
    "import re\n",
    "TOKEN_RE = re.compile(r\"\\w.*?\\b\")\n",
    "# The regex above finds tokens that start with a word-like character (\\w), and continues\n",
    "# matching characters (.+?) until the next word break (\\b). It's a relatively simple\n",
    "# expression that manages to extract something very much like words from text.\n",
    "\n",
    "\n",
    "def text_to_sentiment(text):\n",
    "    tokens = [token.casefold() for token in TOKEN_RE.findall(text)]\n",
    "    sentiments = words_to_sentiment(tokens)\n",
    "    return sentiments['sentiment'].mean()"
   ]
  },
  {
   "cell_type": "code",
   "execution_count": 0,
   "metadata": {
    "ExecuteTime": {
     "end_time": "2019-03-29T15:07:40.366537Z",
     "start_time": "2019-03-29T15:07:40.351478Z"
    },
    "colab": {
     "base_uri": "https://localhost:8080/",
     "height": 34
    },
    "colab_type": "code",
    "executionInfo": {
     "elapsed": 446,
     "status": "ok",
     "timestamp": 1556191047455,
     "user": {
      "displayName": "Gerard Marrugat Torregrosa",
      "photoUrl": "https://lh6.googleusercontent.com/-ZP8MaNMW5ng/AAAAAAAAAAI/AAAAAAAAAvw/rWr84bsIcJ4/s64/photo.jpg",
      "userId": "04021933901390158176"
     },
     "user_tz": -120
    },
    "id": "f_qHy19xBzeg",
    "outputId": "15644f2d-fa5b-494b-d45a-9e2e5b8bf77a"
   },
   "outputs": [
    {
     "data": {
      "text/plain": [
       "3.889968926086298"
      ]
     },
     "execution_count": 12,
     "metadata": {
      "tags": []
     },
     "output_type": "execute_result"
    }
   ],
   "source": [
    "text_to_sentiment(\"this example is pretty cool\")"
   ]
  },
  {
   "cell_type": "code",
   "execution_count": 0,
   "metadata": {
    "ExecuteTime": {
     "end_time": "2019-03-29T15:07:48.548136Z",
     "start_time": "2019-03-29T15:07:48.540902Z"
    },
    "colab": {
     "base_uri": "https://localhost:8080/",
     "height": 34
    },
    "colab_type": "code",
    "executionInfo": {
     "elapsed": 1082,
     "status": "ok",
     "timestamp": 1556187161282,
     "user": {
      "displayName": "Gerard Marrugat Torregrosa",
      "photoUrl": "https://lh6.googleusercontent.com/-ZP8MaNMW5ng/AAAAAAAAAAI/AAAAAAAAAvw/rWr84bsIcJ4/s64/photo.jpg",
      "userId": "04021933901390158176"
     },
     "user_tz": -120
    },
    "id": "1eJusL1qBzek",
    "outputId": "1c894e16-c37b-4647-ef10-8843b80aaa0e"
   },
   "outputs": [
    {
     "data": {
      "text/plain": [
       "-1.1774475917460698"
      ]
     },
     "execution_count": 59,
     "metadata": {
      "tags": []
     },
     "output_type": "execute_result"
    }
   ],
   "source": [
    "text_to_sentiment(\"meh, this example sucks\")"
   ]
  },
  {
   "cell_type": "markdown",
   "metadata": {
    "colab_type": "text",
    "id": "vVSJqoSBBzep"
   },
   "source": [
    "Let’s see what it does with a few variations on a neutral sentence:"
   ]
  },
  {
   "cell_type": "code",
   "execution_count": 0,
   "metadata": {
    "ExecuteTime": {
     "end_time": "2019-03-29T15:08:39.114595Z",
     "start_time": "2019-03-29T15:08:39.099228Z"
    },
    "colab": {
     "base_uri": "https://localhost:8080/",
     "height": 68
    },
    "colab_type": "code",
    "executionInfo": {
     "elapsed": 1030,
     "status": "ok",
     "timestamp": 1556187259243,
     "user": {
      "displayName": "Gerard Marrugat Torregrosa",
      "photoUrl": "https://lh6.googleusercontent.com/-ZP8MaNMW5ng/AAAAAAAAAAI/AAAAAAAAAvw/rWr84bsIcJ4/s64/photo.jpg",
      "userId": "04021933901390158176"
     },
     "user_tz": -120
    },
    "id": "E-oqx5yFBzeq",
    "outputId": "21537952-50a7-430c-96c4-0686b23686cb"
   },
   "outputs": [
    {
     "name": "stdout",
     "output_type": "stream",
     "text": [
      "2.0429166109408983\n",
      "1.4094033658140972\n",
      "0.3880198556012173\n"
     ]
    }
   ],
   "source": [
    "print(text_to_sentiment(\"Let's go get Italian food\"))\n",
    "print(text_to_sentiment(\"Let's go get Chinese food\"))\n",
    "print(text_to_sentiment(\"Let's go get Mexican food\"))"
   ]
  },
  {
   "cell_type": "code",
   "execution_count": 0,
   "metadata": {
    "ExecuteTime": {
     "end_time": "2019-03-29T15:09:13.624994Z",
     "start_time": "2019-03-29T15:09:13.604583Z"
    },
    "colab": {
     "base_uri": "https://localhost:8080/",
     "height": 85
    },
    "colab_type": "code",
    "executionInfo": {
     "elapsed": 810,
     "status": "ok",
     "timestamp": 1556187260761,
     "user": {
      "displayName": "Gerard Marrugat Torregrosa",
      "photoUrl": "https://lh6.googleusercontent.com/-ZP8MaNMW5ng/AAAAAAAAAAI/AAAAAAAAAvw/rWr84bsIcJ4/s64/photo.jpg",
      "userId": "04021933901390158176"
     },
     "user_tz": -120
    },
    "id": "ojy7OzeyBzet",
    "outputId": "b859d38e-567b-4841-8315-bc14b546b856"
   },
   "outputs": [
    {
     "name": "stdout",
     "output_type": "stream",
     "text": [
      "2.228617936474531\n",
      "1.3976291151079159\n",
      "0.9846380213298556\n",
      "-0.47048131775890656\n"
     ]
    }
   ],
   "source": [
    "print(text_to_sentiment(\"My name is Emily\"))\n",
    "print(text_to_sentiment(\"My name is Heather\"))\n",
    "print(text_to_sentiment(\"My name is Yvette\"))\n",
    "print(text_to_sentiment(\"My name is Shaniqua\"))\n"
   ]
  },
  {
   "cell_type": "markdown",
   "metadata": {
    "colab_type": "text",
    "id": "lMh897d-Bzew"
   },
   "source": [
    "The system has associated wildly different sentiments with people’s names. You can look at these examples and many others and see that the sentiment is generally more positive for stereotypically-white names, and more negative for stereotypically-black names."
   ]
  },
  {
   "cell_type": "markdown",
   "metadata": {
    "colab_type": "text",
    "id": "SJLdr7ROBzew"
   },
   "source": [
    "## Ethical problem\n",
    "\n",
    "We want to learn how to not make something like this again. So let’s put more data through it, and statistically measure how bad its bias is.\n",
    "\n",
    "Here we have four lists of names that tend to reflect different ethnic backgrounds, mostly from a United States perspective. The first two are lists of predominantly “white” and “black” names adapted from Caliskan et al.’s article. I also added typically Hispanic names, as well as Muslim names that come from Arabic or Urdu; these are two more distinct groupings of given names that tend to represent your background."
   ]
  },
  {
   "cell_type": "code",
   "execution_count": 0,
   "metadata": {
    "ExecuteTime": {
     "end_time": "2019-03-29T15:10:18.816997Z",
     "start_time": "2019-03-29T15:10:18.787085Z"
    },
    "colab": {},
    "colab_type": "code",
    "id": "eSAQ22POBzex"
   },
   "outputs": [],
   "source": [
    "NAMES_BY_ETHNICITY = {\n",
    "    # The first two lists are from the Caliskan et al. appendix describing the\n",
    "    # Word Embedding Association Test.\n",
    "    'White': [\n",
    "        'Adam', 'Chip', 'Harry', 'Josh', 'Roger', 'Alan', 'Frank', 'Ian', 'Justin',\n",
    "        'Ryan', 'Andrew', 'Fred', 'Jack', 'Matthew', 'Stephen', 'Brad', 'Greg', 'Jed',\n",
    "        'Paul', 'Todd', 'Brandon', 'Hank', 'Jonathan', 'Peter', 'Wilbur', 'Amanda',\n",
    "        'Courtney', 'Heather', 'Melanie', 'Sara', 'Amber', 'Crystal', 'Katie',\n",
    "        'Meredith', 'Shannon', 'Betsy', 'Donna', 'Kristin', 'Nancy', 'Stephanie',\n",
    "        'Bobbie-Sue', 'Ellen', 'Lauren', 'Peggy', 'Sue-Ellen', 'Colleen', 'Emily',\n",
    "        'Megan', 'Rachel', 'Wendy'\n",
    "    ],\n",
    "\n",
    "    'Black': [\n",
    "        'Alonzo', 'Jamel', 'Lerone', 'Percell', 'Theo', 'Alphonse', 'Jerome',\n",
    "        'Leroy', 'Rasaan', 'Torrance', 'Darnell', 'Lamar', 'Lionel', 'Rashaun',\n",
    "        'Tyree', 'Deion', 'Lamont', 'Malik', 'Terrence', 'Tyrone', 'Everol',\n",
    "        'Lavon', 'Marcellus', 'Terryl', 'Wardell', 'Aiesha', 'Lashelle', 'Nichelle',\n",
    "        'Shereen', 'Temeka', 'Ebony', 'Latisha', 'Shaniqua', 'Tameisha', 'Teretha',\n",
    "        'Jasmine', 'Latonya', 'Shanise', 'Tanisha', 'Tia', 'Lakisha', 'Latoya',\n",
    "        'Sharise', 'Tashika', 'Yolanda', 'Lashandra', 'Malika', 'Shavonn',\n",
    "        'Tawanda', 'Yvette'\n",
    "    ],\n",
    "    \n",
    "    # This list comes from statistics about common Hispanic-origin names in the US.\n",
    "    'Hispanic': [\n",
    "        'Juan', 'José', 'Miguel', 'Luís', 'Jorge', 'Santiago', 'Matías', 'Sebastián',\n",
    "        'Mateo', 'Nicolás', 'Alejandro', 'Samuel', 'Diego', 'Daniel', 'Tomás',\n",
    "        'Juana', 'Ana', 'Luisa', 'María', 'Elena', 'Sofía', 'Isabella', 'Valentina',\n",
    "        'Camila', 'Valeria', 'Ximena', 'Luciana', 'Mariana', 'Victoria', 'Martina'\n",
    "    ],\n",
    "    \n",
    "    # The following list conflates religion and ethnicity, I'm aware. So do given names.\n",
    "    #\n",
    "    # This list was cobbled together from searching baby-name sites for common Muslim names,\n",
    "    # as spelled in English. I did not ultimately distinguish whether the origin of the name\n",
    "    # is Arabic or Urdu or another language.\n",
    "    #\n",
    "    # I'd be happy to replace it with something more authoritative, given a source.\n",
    "    'Arab/Muslim': [\n",
    "        'Mohammed', 'Omar', 'Ahmed', 'Ali', 'Youssef', 'Abdullah', 'Yasin', 'Hamza',\n",
    "        'Ayaan', 'Syed', 'Rishaan', 'Samar', 'Ahmad', 'Zikri', 'Rayyan', 'Mariam',\n",
    "        'Jana', 'Malak', 'Salma', 'Nour', 'Lian', 'Fatima', 'Ayesha', 'Zahra', 'Sana',\n",
    "        'Zara', 'Alya', 'Shaista', 'Zoya', 'Yasmin'\n",
    "    ]\n",
    "}"
   ]
  },
  {
   "cell_type": "markdown",
   "metadata": {
    "colab_type": "text",
    "id": "8B5G2exKBze1"
   },
   "source": [
    "Now we’ll use Pandas to make a table of these names, their predominant ethnic background, and the sentiment score we get for them:"
   ]
  },
  {
   "cell_type": "code",
   "execution_count": 0,
   "metadata": {
    "ExecuteTime": {
     "end_time": "2019-03-29T15:10:46.744680Z",
     "start_time": "2019-03-29T15:10:46.676412Z"
    },
    "colab": {
     "base_uri": "https://localhost:8080/",
     "height": 759
    },
    "colab_type": "code",
    "executionInfo": {
     "elapsed": 880,
     "status": "ok",
     "timestamp": 1556191058576,
     "user": {
      "displayName": "Gerard Marrugat Torregrosa",
      "photoUrl": "https://lh6.googleusercontent.com/-ZP8MaNMW5ng/AAAAAAAAAAI/AAAAAAAAAvw/rWr84bsIcJ4/s64/photo.jpg",
      "userId": "04021933901390158176"
     },
     "user_tz": -120
    },
    "id": "mgePQtf6Bze1",
    "outputId": "ba3a8c2d-904e-4096-9cca-a081db02999f"
   },
   "outputs": [
    {
     "name": "stderr",
     "output_type": "stream",
     "text": [
      "/usr/local/lib/python3.6/dist-packages/ipykernel_launcher.py:12: FutureWarning: \n",
      "Passing list-likes to .loc or [] with any missing label will raise\n",
      "KeyError in the future, you can use .reindex() as an alternative.\n",
      "\n",
      "See the documentation here:\n",
      "https://pandas.pydata.org/pandas-docs/stable/indexing.html#deprecate-loc-reindex-listlike\n",
      "  if sys.path[0] == '':\n",
      "/usr/local/lib/python3.6/dist-packages/ipykernel_launcher.py:12: FutureWarning: \n",
      "Passing list-likes to .loc or [] with any missing label will raise\n",
      "KeyError in the future, you can use .reindex() as an alternative.\n",
      "\n",
      "See the documentation here:\n",
      "https://pandas.pydata.org/pandas-docs/stable/indexing.html#deprecate-loc-reindex-listlike\n",
      "  if sys.path[0] == '':\n",
      "/usr/local/lib/python3.6/dist-packages/ipykernel_launcher.py:12: FutureWarning: \n",
      "Passing list-likes to .loc or [] with any missing label will raise\n",
      "KeyError in the future, you can use .reindex() as an alternative.\n",
      "\n",
      "See the documentation here:\n",
      "https://pandas.pydata.org/pandas-docs/stable/indexing.html#deprecate-loc-reindex-listlike\n",
      "  if sys.path[0] == '':\n",
      "/usr/local/lib/python3.6/dist-packages/ipykernel_launcher.py:14: DeprecationWarning: \n",
      ".ix is deprecated. Please use\n",
      ".loc for label based indexing or\n",
      ".iloc for positional indexing\n",
      "\n",
      "See the documentation here:\n",
      "http://pandas.pydata.org/pandas-docs/stable/indexing.html#ix-indexer-is-deprecated\n",
      "  \n"
     ]
    },
    {
     "data": {
      "text/html": [
       "<div>\n",
       "<style scoped>\n",
       "    .dataframe tbody tr th:only-of-type {\n",
       "        vertical-align: middle;\n",
       "    }\n",
       "\n",
       "    .dataframe tbody tr th {\n",
       "        vertical-align: top;\n",
       "    }\n",
       "\n",
       "    .dataframe thead th {\n",
       "        text-align: right;\n",
       "    }\n",
       "</style>\n",
       "<table border=\"1\" class=\"dataframe\">\n",
       "  <thead>\n",
       "    <tr style=\"text-align: right;\">\n",
       "      <th></th>\n",
       "      <th>sentiment</th>\n",
       "      <th>group</th>\n",
       "    </tr>\n",
       "  </thead>\n",
       "  <tbody>\n",
       "    <tr>\n",
       "      <th>mohammed</th>\n",
       "      <td>0.834974</td>\n",
       "      <td>Arab/Muslim</td>\n",
       "    </tr>\n",
       "    <tr>\n",
       "      <th>alya</th>\n",
       "      <td>3.916803</td>\n",
       "      <td>Arab/Muslim</td>\n",
       "    </tr>\n",
       "    <tr>\n",
       "      <th>terryl</th>\n",
       "      <td>-2.858010</td>\n",
       "      <td>Black</td>\n",
       "    </tr>\n",
       "    <tr>\n",
       "      <th>josé</th>\n",
       "      <td>0.432956</td>\n",
       "      <td>Hispanic</td>\n",
       "    </tr>\n",
       "    <tr>\n",
       "      <th>luciana</th>\n",
       "      <td>1.086073</td>\n",
       "      <td>Hispanic</td>\n",
       "    </tr>\n",
       "    <tr>\n",
       "      <th>hank</th>\n",
       "      <td>0.391858</td>\n",
       "      <td>White</td>\n",
       "    </tr>\n",
       "    <tr>\n",
       "      <th>megan</th>\n",
       "      <td>2.158679</td>\n",
       "      <td>White</td>\n",
       "    </tr>\n",
       "  </tbody>\n",
       "</table>\n",
       "</div>"
      ],
      "text/plain": [
       "          sentiment        group\n",
       "mohammed   0.834974  Arab/Muslim\n",
       "alya       3.916803  Arab/Muslim\n",
       "terryl    -2.858010        Black\n",
       "josé       0.432956     Hispanic\n",
       "luciana    1.086073     Hispanic\n",
       "hank       0.391858        White\n",
       "megan      2.158679        White"
      ]
     },
     "execution_count": 14,
     "metadata": {
      "tags": []
     },
     "output_type": "execute_result"
    }
   ],
   "source": [
    "def name_sentiment_table():\n",
    "    frames = []\n",
    "    for group, name_list in sorted(NAMES_BY_ETHNICITY.items()):\n",
    "        lower_names = [name.lower() for name in name_list]\n",
    "        sentiments = words_to_sentiment(lower_names)\n",
    "        sentiments['group'] = group\n",
    "        frames.append(sentiments)\n",
    "\n",
    "    # Put together the data we got from each ethnic group into one big table\n",
    "    return pd.concat(frames)\n",
    "\n",
    "name_sentiments = name_sentiment_table()\n",
    "\n",
    "name_sentiments.ix[::25]"
   ]
  },
  {
   "cell_type": "code",
   "execution_count": 0,
   "metadata": {
    "ExecuteTime": {
     "end_time": "2019-03-29T15:10:59.406581Z",
     "start_time": "2019-03-29T15:10:59.243215Z"
    },
    "colab": {
     "base_uri": "https://localhost:8080/",
     "height": 300
    },
    "colab_type": "code",
    "executionInfo": {
     "elapsed": 1133,
     "status": "ok",
     "timestamp": 1556191061535,
     "user": {
      "displayName": "Gerard Marrugat Torregrosa",
      "photoUrl": "https://lh6.googleusercontent.com/-ZP8MaNMW5ng/AAAAAAAAAAI/AAAAAAAAAvw/rWr84bsIcJ4/s64/photo.jpg",
      "userId": "04021933901390158176"
     },
     "user_tz": -120
    },
    "id": "UmGNsOjdBze4",
    "outputId": "e00347b6-e8b7-4449-aa30-4f6d1bef329a"
   },
   "outputs": [
    {
     "data": {
      "text/plain": [
       "(-10, 10)"
      ]
     },
     "execution_count": 15,
     "metadata": {
      "tags": []
     },
     "output_type": "execute_result"
    },
    {
     "data": {
      "image/png": "[encoded data removed]",
      "text/plain": [
       "<Figure size 432x288 with 1 Axes>"
      ]
     },
     "metadata": {
      "tags": []
     },
     "output_type": "display_data"
    }
   ],
   "source": [
    "import seaborn\n",
    "\n",
    "plot = seaborn.swarmplot(x='group', y='sentiment', data=name_sentiments)\n",
    "plot.set_ylim([-10, 10])"
   ]
  },
  {
   "cell_type": "code",
   "execution_count": 0,
   "metadata": {
    "ExecuteTime": {
     "end_time": "2019-03-29T15:11:09.382514Z",
     "start_time": "2019-03-29T15:11:09.222382Z"
    },
    "colab": {
     "base_uri": "https://localhost:8080/",
     "height": 283
    },
    "colab_type": "code",
    "executionInfo": {
     "elapsed": 555,
     "status": "ok",
     "timestamp": 1556191063842,
     "user": {
      "displayName": "Gerard Marrugat Torregrosa",
      "photoUrl": "https://lh6.googleusercontent.com/-ZP8MaNMW5ng/AAAAAAAAAAI/AAAAAAAAAvw/rWr84bsIcJ4/s64/photo.jpg",
      "userId": "04021933901390158176"
     },
     "user_tz": -120
    },
    "id": "C_C11E9xBze6",
    "outputId": "65c72ac9-03a3-4baa-9268-057d0630ebdd"
   },
   "outputs": [
    {
     "data": {
      "image/png": "[encoded data removed]",
      "text/plain": [
       "<Figure size 432x288 with 1 Axes>"
      ]
     },
     "metadata": {
      "tags": []
     },
     "output_type": "display_data"
    }
   ],
   "source": [
    "plot = seaborn.barplot(x='group', y='sentiment', data=name_sentiments, capsize=.1)"
   ]
  },
  {
   "cell_type": "markdown",
   "metadata": {
    "colab_type": "text",
    "id": "Kmvb2yKmVXkI"
   },
   "source": [
    "# Exercise\n",
    "\n",
    "We have used only word labels to build a sentiment classifier, but if we have sentence labels we can build a model that uses both, word and sentence information.\n",
    "\n",
    "To this end, you can use the `imdb` dataset (available in Keras): https://github.com/keras-team/keras/blob/master/examples/imdb_lstm.py \n",
    "\n",
    "Yours tasks are:\n",
    "+ Use the sentiment model we have already developed (based on words), to evaluate the `imdb` dataset. What is the accuracy of this classifier?\n",
    "+ Train a LSTM model to classify sentences based on the `imdb` dataset but, insteasd of learning specific embeddings for this problem, use `GloVe`.  What is the accuracy of this classifier?\n",
    "+ Build and train a hybrid model for taking into account word and sentence labels. What is the accuracy of this classifier when applied the `imdb` dataset ?\n",
    "+  Is there any racial bias in this new classifier? (Check this by classifiying neutral sentences that contain people names). "
   ]
  },
  {
   "cell_type": "markdown",
   "metadata": {
    "colab_type": "text",
    "id": "YG-75U8VREwa"
   },
   "source": [
    "# IMDB dataset"
   ]
  },
  {
   "cell_type": "markdown",
   "metadata": {
    "colab_type": "text",
    "id": "FbZrPkOURXDH"
   },
   "source": [
    "Due to problems with the keras original code (https://github.com/keras-team/keras/pull/12723) we load imdb data copying the original code and customizing it."
   ]
  },
  {
   "cell_type": "code",
   "execution_count": 11,
   "metadata": {
    "colab": {
     "base_uri": "https://localhost:8080/",
     "height": 34
    },
    "colab_type": "code",
    "executionInfo": {
     "elapsed": 3199,
     "status": "ok",
     "timestamp": 1556615120303,
     "user": {
      "displayName": "Gerard Marrugat Torregrosa",
      "photoUrl": "https://lh6.googleusercontent.com/-ZP8MaNMW5ng/AAAAAAAAAAI/AAAAAAAAAvw/rWr84bsIcJ4/s64/photo.jpg",
      "userId": "04021933901390158176"
     },
     "user_tz": -120
    },
    "id": "3By9P-i5C-Wh",
    "outputId": "de5ba946-61f8-4007-eabd-029ed58f62e4"
   },
   "outputs": [
    {
     "name": "stderr",
     "output_type": "stream",
     "text": [
      "Using TensorFlow backend.\n"
     ]
    }
   ],
   "source": [
    "\"\"\"IMDB sentiment classification dataset.\n",
    "\"\"\"\n",
    "from __future__ import absolute_import\n",
    "from __future__ import division\n",
    "from __future__ import print_function\n",
    "\n",
    "from keras.preprocessing import sequence\n",
    "from keras.utils.data_utils import get_file\n",
    "from keras.preprocessing.sequence import _remove_long_seq\n",
    "import numpy as np\n",
    "import json\n",
    "import warnings\n",
    "\n",
    "\n",
    "def load_data(path='imdb.npz', num_words=None, skip_top=0,\n",
    "              maxlen=None, seed=113,\n",
    "              start_char=1, oov_char=2, index_from=3, **kwargs):\n",
    "    \"\"\"Loads the IMDB dataset.\n",
    "\n",
    "    # Arguments\n",
    "        path: where to cache the data (relative to `~/.keras/dataset`).\n",
    "        num_words: max number of words to include. Words are ranked\n",
    "            by how often they occur (in the training set) and only\n",
    "            the most frequent words are kept\n",
    "        skip_top: skip the top N most frequently occurring words\n",
    "            (which may not be informative).\n",
    "        maxlen: sequences longer than this will be filtered out.\n",
    "        seed: random seed for sample shuffling.\n",
    "        start_char: The start of a sequence will be marked with this character.\n",
    "            Set to 1 because 0 is usually the padding character.\n",
    "        oov_char: words that were cut out because of the `num_words`\n",
    "            or `skip_top` limit will be replaced with this character.\n",
    "        index_from: index actual words with this index and higher.\n",
    "\n",
    "    # Returns\n",
    "        Tuple of Numpy arrays: `(x_train, y_train), (x_test, y_test)`.\n",
    "\n",
    "    # Raises\n",
    "        ValueError: in case `maxlen` is so low\n",
    "            that no input sequence could be kept.\n",
    "\n",
    "    Note that the 'out of vocabulary' character is only used for\n",
    "    words that were present in the training set but are not included\n",
    "    because they're not making the `num_words` cut here.\n",
    "    Words that were not seen in the training set but are in the test set\n",
    "    have simply been skipped.\n",
    "    \"\"\"\n",
    "    # Legacy support\n",
    "    if 'nb_words' in kwargs:\n",
    "        warnings.warn('The `nb_words` argument in `load_data` '\n",
    "                      'has been renamed `num_words`.')\n",
    "        num_words = kwargs.pop('nb_words')\n",
    "    if kwargs:\n",
    "        raise TypeError('Unrecognized keyword arguments: ' + str(kwargs))\n",
    "\n",
    "    path = get_file(path,\n",
    "                    origin='https://s3.amazonaws.com/text-datasets/imdb.npz',\n",
    "                    file_hash='599dadb1135973df5b59232a0e9a887c')\n",
    "    with np.load(path, allow_pickle=True) as f:\n",
    "        x_train, labels_train = f['x_train'], f['y_train']\n",
    "        x_test, labels_test = f['x_test'], f['y_test']\n",
    "\n",
    "    rng = np.random.RandomState(seed)\n",
    "    indices = np.arange(len(x_train))\n",
    "    rng.shuffle(indices)\n",
    "    x_train = x_train[indices]\n",
    "    labels_train = labels_train[indices]\n",
    "\n",
    "    indices = np.arange(len(x_test))\n",
    "    rng.shuffle(indices)\n",
    "    x_test = x_test[indices]\n",
    "    labels_test = labels_test[indices]\n",
    "\n",
    "    xs = np.concatenate([x_train, x_test])\n",
    "    labels = np.concatenate([labels_train, labels_test])\n",
    "\n",
    "    if start_char is not None:\n",
    "        xs = [[start_char] + [w + index_from for w in x] for x in xs]\n",
    "    elif index_from:\n",
    "        xs = [[w + index_from for w in x] for x in xs]\n",
    "\n",
    "    if maxlen:\n",
    "        xs, labels = _remove_long_seq(maxlen, xs, labels)\n",
    "        if not xs:\n",
    "            raise ValueError('After filtering for sequences shorter than maxlen=' +\n",
    "                             str(maxlen) + ', no sequence was kept. '\n",
    "                             'Increase maxlen.')\n",
    "    if not num_words:\n",
    "        num_words = max([max(x) for x in xs])\n",
    "\n",
    "    # by convention, use 2 as OOV word\n",
    "    # reserve 'index_from' (=3 by default) characters:\n",
    "    # 0 (padding), 1 (start), 2 (OOV)\n",
    "    if oov_char is not None:\n",
    "        xs = [[w if (skip_top <= w < num_words) else oov_char for w in x]\n",
    "              for x in xs]\n",
    "    else:\n",
    "        xs = [[w for w in x if skip_top <= w < num_words]\n",
    "              for x in xs]\n",
    "\n",
    "    idx = len(x_train)\n",
    "    x_train, y_train = np.array(xs[:idx]), np.array(labels[:idx])\n",
    "    x_test, y_test = np.array(xs[idx:]), np.array(labels[idx:])\n",
    "\n",
    "    return (x_train, y_train), (x_test, y_test)\n",
    "\n",
    "\n",
    "def get_word_index(path='imdb_word_index.json'):\n",
    "    \"\"\"Retrieves the dictionary mapping words to word indices.\n",
    "\n",
    "    # Arguments\n",
    "        path: where to cache the data (relative to `~/.keras/dataset`).\n",
    "\n",
    "    # Returns\n",
    "        The word index dictionary.\n",
    "    \"\"\"\n",
    "    path = get_file(\n",
    "        path,\n",
    "        origin='https://s3.amazonaws.com/text-datasets/imdb_word_index.json',\n",
    "        file_hash='bfafd718b763782e994055a2d397834f')\n",
    "    with open(path) as f:\n",
    "        return json.load(f)"
   ]
  },
  {
   "cell_type": "code",
   "execution_count": 12,
   "metadata": {
    "colab": {
     "base_uri": "https://localhost:8080/",
     "height": 85
    },
    "colab_type": "code",
    "executionInfo": {
     "elapsed": 8507,
     "status": "ok",
     "timestamp": 1556615126881,
     "user": {
      "displayName": "Gerard Marrugat Torregrosa",
      "photoUrl": "https://lh6.googleusercontent.com/-ZP8MaNMW5ng/AAAAAAAAAAI/AAAAAAAAAvw/rWr84bsIcJ4/s64/photo.jpg",
      "userId": "04021933901390158176"
     },
     "user_tz": -120
    },
    "id": "qz52RCRJOx2e",
    "outputId": "f72a9a7d-8f7e-49b5-c90f-467d5f7fa1a9"
   },
   "outputs": [
    {
     "name": "stdout",
     "output_type": "stream",
     "text": [
      "Downloading data from https://s3.amazonaws.com/text-datasets/imdb.npz\n",
      "17465344/17464789 [==============================] - 0s 0us/step\n",
      "25000 train sequences\n",
      "25000 test sequences\n"
     ]
    }
   ],
   "source": [
    "#10000 most used words in the dataset\n",
    "\n",
    "max_features = 10000\n",
    "\n",
    "(x_train, y_train),(x_test, y_test)= load_data(num_words = max_features)\n",
    "\n",
    "print(len(x_train), 'train sequences')\n",
    "print(len(x_test), 'test sequences')\n",
    "\n",
    "y_train = np.array(y_train)\n",
    "y_test = np.array(y_test)"
   ]
  },
  {
   "cell_type": "markdown",
   "metadata": {
    "colab_type": "text",
    "id": "M7ojwv_jROgK"
   },
   "source": [
    "# Ex1 - Evaluation of the IMDB dataset using the trained model\n",
    "\n"
   ]
  },
  {
   "cell_type": "markdown",
   "metadata": {
    "colab_type": "text",
    "id": "6c_nD5vM0TAl"
   },
   "source": [
    "+ Use the sentiment model we have already developed (based on words), to evaluate the `imdb` dataset. What is the accuracy of this classifier?"
   ]
  },
  {
   "cell_type": "markdown",
   "metadata": {
    "colab_type": "text",
    "id": "wPLktvkARhNF"
   },
   "source": [
    "For this purpose both train and test set are concatenated and the classifier is evaluated over the whole dataset.\n",
    "\n",
    "Due that the IMDB reviews are returned as sequence of indexes, it is required to convert them to strings.\n",
    "\n",
    "A function to calculate the accuracy is defined whose parameters are the reviews list and their targets.\n",
    "\n"
   ]
  },
  {
   "cell_type": "code",
   "execution_count": 0,
   "metadata": {
    "colab": {},
    "colab_type": "code",
    "id": "JWrnosBuImy8"
   },
   "outputs": [],
   "source": [
    "# Concatenate x_train, x_test\n",
    "imdb_dataset = np.concatenate((x_train, x_test), axis=0)\n",
    "imdb_target = np.concatenate((y_train, y_test), axis=0)"
   ]
  },
  {
   "cell_type": "code",
   "execution_count": 14,
   "metadata": {
    "colab": {
     "base_uri": "https://localhost:8080/",
     "height": 51
    },
    "colab_type": "code",
    "executionInfo": {
     "elapsed": 928,
     "status": "ok",
     "timestamp": 1556615211619,
     "user": {
      "displayName": "Gerard Marrugat Torregrosa",
      "photoUrl": "https://lh6.googleusercontent.com/-ZP8MaNMW5ng/AAAAAAAAAAI/AAAAAAAAAvw/rWr84bsIcJ4/s64/photo.jpg",
      "userId": "04021933901390158176"
     },
     "user_tz": -120
    },
    "id": "iWOTzcYr_A2J",
    "outputId": "9e3489cb-dd16-4373-8a89-ed9ee8392cbe"
   },
   "outputs": [
    {
     "name": "stdout",
     "output_type": "stream",
     "text": [
      "Downloading data from https://s3.amazonaws.com/text-datasets/imdb_word_index.json\n",
      "1646592/1641221 [==============================] - 0s 0us/step\n"
     ]
    }
   ],
   "source": [
    "# Get the words in the imdb dataset and its index, and then reverse the dictionary\n",
    "# in order to have the index as a key and the word as value\n",
    "idx_to_word = {v: k for k, v in get_word_index().items()}"
   ]
  },
  {
   "cell_type": "code",
   "execution_count": 0,
   "metadata": {
    "colab": {},
    "colab_type": "code",
    "id": "oAxcP9o-CZfX"
   },
   "outputs": [],
   "source": [
    "# Convert the train set into sentences\n",
    "imdb_reviews = [' '.join([idx_to_word[x] for x in sample]) for sample in imdb_dataset]"
   ]
  },
  {
   "cell_type": "code",
   "execution_count": 0,
   "metadata": {
    "colab": {},
    "colab_type": "code",
    "id": "ROAa0LSpHyi5"
   },
   "outputs": [],
   "source": [
    "# Define \n",
    "def imdb_accuracy(reviews, targets):\n",
    "  \n",
    "  pred = []\n",
    "  \n",
    "  for review in reviews:\n",
    "    \n",
    "    if text_to_sentiment(review) >= 0:\n",
    "      \n",
    "      pred.append(1)\n",
    "      \n",
    "    else:\n",
    "      \n",
    "      pred.append(0)\n",
    "      \n",
    "  pred = np.array(pred)\n",
    "      \n",
    "  accuracy = accuracy_score(pred,targets)\n",
    "  \n",
    "  \n",
    "  return accuracy"
   ]
  },
  {
   "cell_type": "code",
   "execution_count": 0,
   "metadata": {
    "colab": {
     "base_uri": "https://localhost:8080/",
     "height": 34
    },
    "colab_type": "code",
    "executionInfo": {
     "elapsed": 308744,
     "status": "ok",
     "timestamp": 1556564055501,
     "user": {
      "displayName": "Gerard Marrugat Torregrosa",
      "photoUrl": "https://lh6.googleusercontent.com/-ZP8MaNMW5ng/AAAAAAAAAAI/AAAAAAAAAvw/rWr84bsIcJ4/s64/photo.jpg",
      "userId": "04021933901390158176"
     },
     "user_tz": -120
    },
    "id": "S8JfuFaQHylp",
    "outputId": "70ced28c-74e9-44dc-d34c-3d70001cd4cf"
   },
   "outputs": [
    {
     "data": {
      "text/plain": [
       "0.50008"
      ]
     },
     "execution_count": 187,
     "metadata": {
      "tags": []
     },
     "output_type": "execute_result"
    }
   ],
   "source": [
    "imdb_accuracy(imdb_reviews,imdb_target)"
   ]
  },
  {
   "cell_type": "markdown",
   "metadata": {
    "colab_type": "text",
    "id": "BE3_8lp4TrwT"
   },
   "source": [
    "The accuracy obtained with the previously trained classifier is 0.50008."
   ]
  },
  {
   "cell_type": "markdown",
   "metadata": {
    "colab_type": "text",
    "id": "jlOxYeYpT2gx"
   },
   "source": [
    "# Ex-2 LSTM model"
   ]
  },
  {
   "cell_type": "markdown",
   "metadata": {
    "colab_type": "text",
    "id": "-To6k8If0MNY"
   },
   "source": [
    "+ Train a LSTM model to classify sentences based on the `imdb` dataset but, insteasd of learning specific embeddings for this problem, use `GloVe`.  What is the accuracy of this classifier?"
   ]
  },
  {
   "cell_type": "code",
   "execution_count": 0,
   "metadata": {
    "colab": {},
    "colab_type": "code",
    "id": "pXuws0g5ZAVI"
   },
   "outputs": [],
   "source": [
    "from keras.layers import CuDNNLSTM, Dense, Dropout, Bidirectional\n",
    "from keras.initializers import Constant\n",
    "from keras.models import Sequential\n",
    "from keras.layers.embeddings import Embedding\n",
    "from keras.preprocessing.text import Tokenizer\n",
    "\n",
    "import string\n",
    "\n",
    "embedding_dim = 300"
   ]
  },
  {
   "cell_type": "code",
   "execution_count": 0,
   "metadata": {
    "colab": {},
    "colab_type": "code",
    "id": "15BgFU6CcZDA"
   },
   "outputs": [],
   "source": [
    "# get the words that appear in the imdb dataset\n",
    "words = get_word_index()"
   ]
  },
  {
   "cell_type": "markdown",
   "metadata": {
    "colab_type": "text",
    "id": "NcEIkjqWsiZ_"
   },
   "source": [
    "During the implementation we realized that many words in our vocabulary contained strange characters, punctuation, blank spaces... For this reason a preprocessing step to clean all these annoying characters is required."
   ]
  },
  {
   "cell_type": "code",
   "execution_count": 0,
   "metadata": {
    "colab": {},
    "colab_type": "code",
    "id": "eKvnqAgPeklY"
   },
   "outputs": [],
   "source": [
    "def preprocessing(word):\n",
    "    \n",
    "    #lowercase\n",
    "    word_lower = word.lower()\n",
    "    \n",
    "    #remove punctuations\n",
    "    no_punct_word = ''.join([i if i not in string.punctuation else ' ' for i in word_lower])\n",
    "    \n",
    "    #special cases\n",
    "    no_punct_word = no_punct_word.replace('\\x96','')\n",
    "    \n",
    "    clean_word = no_punct_word.replace(' ','')\n",
    "    \n",
    "    if clean_word == '':\n",
    "      \n",
    "      clean_word = None\n",
    "    \n",
    "    return clean_word"
   ]
  },
  {
   "cell_type": "markdown",
   "metadata": {
    "colab_type": "text",
    "id": "2h5ht4FXtIdQ"
   },
   "source": [
    "In order to use the GloVe embedding with the IMDB dataset, we need to find the word embedding for each one.\n",
    "\n",
    "The word vectors will be located by rows in an embedding_matrix, and the words that do not appear in the GloVe embedding will be set to a random vector following the distribution of the dataset (considered as a normal distribution)."
   ]
  },
  {
   "cell_type": "code",
   "execution_count": 0,
   "metadata": {
    "colab": {},
    "colab_type": "code",
    "id": "w6FobAG4aNI8"
   },
   "outputs": [],
   "source": [
    "# find the statistical parameters of our dataset\n",
    "# and consider that the dataset follows a normal distribution\n",
    "emb_mean = np.mean(np.mean(embeddings))\n",
    "emb_std = np.std(np.std(embeddings))\n",
    "\n",
    "# min between the actual features used and the vocabulary\n",
    "num_words = min(max_features, len(words)) + 1\n",
    "\n",
    "# first create a matrix of random values which follows dataset distribution, this is our embedding matrix\n",
    "embedding_matrix = np.random.normal(emb_mean, emb_std,(num_words, embedding_dim))\n",
    "\n",
    "# for each word in the dataset lets try to find its embedding\n",
    "for word, i in words.items():\n",
    "\n",
    "    clean_word = preprocessing(word)\n",
    "    \n",
    "    if clean_word is not None:\n",
    "    \n",
    "      if i > max_features:\n",
    "          continue\n",
    "      try:\n",
    "        embedding_vector = embeddings.loc[clean_word]\n",
    "        if embedding_vector is not None:\n",
    "          # we found the word - add that words vector to the matrix\n",
    "          # at the position indicated by the index\n",
    "          embedding_matrix[i] = embedding_vector\n",
    "      except:\n",
    "        pass"
   ]
  },
  {
   "cell_type": "markdown",
   "metadata": {
    "colab_type": "text",
    "id": "Mphelf3suoOQ"
   },
   "source": [
    "It is required to prepared our data before using as the input of the model."
   ]
  },
  {
   "cell_type": "code",
   "execution_count": 0,
   "metadata": {
    "colab": {},
    "colab_type": "code",
    "id": "TcLMfsMxli2R"
   },
   "outputs": [],
   "source": [
    "X_seq = []\n",
    "\n",
    "for review in imdb_reviews:\n",
    "  \n",
    "  split_review = review.split(' ')\n",
    "  clean_review = []\n",
    "  \n",
    "  for word in split_review:\n",
    "    \n",
    "    #clean the words of each review\n",
    "    clean_word = preprocessing(word)\n",
    "  \n",
    "    if clean_word in words:\n",
    "    \n",
    "      #use the index of each word in the imdb dataset in order to 'tokenize'\n",
    "      #our data\n",
    "      idx_word = words[clean_word]\n",
    "      clean_review.append(idx_word)\n",
    "    else:\n",
    "      pass\n",
    "    \n",
    "  X_seq.append(clean_review)\n",
    "\n",
    "X_seq = np.array(X_seq)  "
   ]
  },
  {
   "cell_type": "code",
   "execution_count": 0,
   "metadata": {
    "colab": {},
    "colab_type": "code",
    "id": "GBz4E_mfjpuq"
   },
   "outputs": [],
   "source": [
    "maxlen = 300\n",
    "X_pad_seq = sequence.pad_sequences(X_seq, maxlen=maxlen)"
   ]
  },
  {
   "cell_type": "code",
   "execution_count": 0,
   "metadata": {
    "colab": {},
    "colab_type": "code",
    "id": "hUT3UBovrWKd"
   },
   "outputs": [],
   "source": [
    "n_samples = len(X_pad_seq)\n",
    "\n",
    "x_train_seq = X_pad_seq[:int(0.7*n_samples)]\n",
    "x_val_seq = X_pad_seq[int(0.7*n_samples):int(0.85*n_samples)]\n",
    "x_test_seq = X_pad_seq[int(0.85*n_samples):]\n",
    "\n",
    "y_train = imdb_target[:int(0.7*n_samples)]\n",
    "y_val = imdb_target[int(0.7*n_samples):int(0.85*n_samples)]\n",
    "y_test = imdb_target[int(0.85*n_samples):]"
   ]
  },
  {
   "cell_type": "markdown",
   "metadata": {
    "colab_type": "text",
    "id": "hb3zD0ALs2uH"
   },
   "source": [
    "When creating the model is important to take into account that the length of the sequence at the input of the LSTM is the embedding dimension."
   ]
  },
  {
   "cell_type": "code",
   "execution_count": 108,
   "metadata": {
    "colab": {
     "base_uri": "https://localhost:8080/",
     "height": 241
    },
    "colab_type": "code",
    "executionInfo": {
     "elapsed": 1067579,
     "status": "ok",
     "timestamp": 1556620860981,
     "user": {
      "displayName": "Gerard Marrugat Torregrosa",
      "photoUrl": "https://lh6.googleusercontent.com/-ZP8MaNMW5ng/AAAAAAAAAAI/AAAAAAAAAvw/rWr84bsIcJ4/s64/photo.jpg",
      "userId": "04021933901390158176"
     },
     "user_tz": -120
    },
    "id": "ACbB6OhlHyor",
    "outputId": "e2e4f906-cd31-4595-f462-0ebb0302c7fa"
   },
   "outputs": [
    {
     "name": "stdout",
     "output_type": "stream",
     "text": [
      "Train on 35000 samples, validate on 7500 samples\n",
      "Epoch 1/5\n",
      "35000/35000 [==============================] - 223s 6ms/step - loss: 0.2300 - acc: 0.6151 - val_loss: 0.1923 - val_acc: 0.7340\n",
      "Epoch 2/5\n",
      "35000/35000 [==============================] - 212s 6ms/step - loss: 0.1605 - acc: 0.7655 - val_loss: 0.1336 - val_acc: 0.8099\n",
      "Epoch 3/5\n",
      "35000/35000 [==============================] - 210s 6ms/step - loss: 0.1185 - acc: 0.8347 - val_loss: 0.1276 - val_acc: 0.8167\n",
      "Epoch 4/5\n",
      "35000/35000 [==============================] - 210s 6ms/step - loss: 0.0949 - acc: 0.8689 - val_loss: 0.1034 - val_acc: 0.8561\n",
      "Epoch 5/5\n",
      "35000/35000 [==============================] - 210s 6ms/step - loss: 0.0758 - acc: 0.9007 - val_loss: 0.1047 - val_acc: 0.8633\n"
     ]
    },
    {
     "data": {
      "text/plain": [
       "<keras.callbacks.History at 0x7f67e397fb00>"
      ]
     },
     "execution_count": 108,
     "metadata": {
      "tags": []
     },
     "output_type": "execute_result"
    }
   ],
   "source": [
    "LSTM_model = Sequential()\n",
    "LSTM_model.add(Embedding(num_words,\n",
    "                    embedding_dim,\n",
    "                    weights=[embedding_matrix],\n",
    "                    input_length=maxlen,\n",
    "                    trainable = False))\n",
    "LSTM_model.add(Bidirectional(CuDNNLSTM(embedding_dim)))\n",
    "LSTM_model.add(Dropout(0.5))\n",
    "LSTM_model.add(Dense(1, activation='sigmoid'))\n",
    "\n",
    "LSTM_model.compile(loss='mse', optimizer='adam', metrics=['accuracy'])\n",
    "\n",
    "batch_size = 32\n",
    "\n",
    "LSTM_model.fit(x_train_seq, y_train,\n",
    "          batch_size=batch_size,\n",
    "          epochs=5,\n",
    "          validation_data=[x_val_seq, y_val])"
   ]
  },
  {
   "cell_type": "code",
   "execution_count": 109,
   "metadata": {
    "colab": {
     "base_uri": "https://localhost:8080/",
     "height": 51
    },
    "colab_type": "code",
    "executionInfo": {
     "elapsed": 14684,
     "status": "ok",
     "timestamp": 1556620881380,
     "user": {
      "displayName": "Gerard Marrugat Torregrosa",
      "photoUrl": "https://lh6.googleusercontent.com/-ZP8MaNMW5ng/AAAAAAAAAAI/AAAAAAAAAvw/rWr84bsIcJ4/s64/photo.jpg",
      "userId": "04021933901390158176"
     },
     "user_tz": -120
    },
    "id": "Len4R-kZHytN",
    "outputId": "6a8d33b5-44a5-405c-9728-8810f3b37be3"
   },
   "outputs": [
    {
     "name": "stdout",
     "output_type": "stream",
     "text": [
      "7500/7500 [==============================] - 14s 2ms/step\n",
      "Test accuracy: 0.8656000000317892\n"
     ]
    }
   ],
   "source": [
    "loss, acc = LSTM_model.evaluate(x_test_seq, y_test)\n",
    "\n",
    "print('Test accuracy:', acc)"
   ]
  },
  {
   "cell_type": "markdown",
   "metadata": {
    "colab_type": "text",
    "id": "woeZV9ZAsFvY"
   },
   "source": [
    "The accuracy obtained with the LSTM model after 5 epochs of training is 0.8656, second term in the evaluation phase."
   ]
  },
  {
   "cell_type": "markdown",
   "metadata": {
    "colab_type": "text",
    "id": "4AwydLTOCBaN"
   },
   "source": [
    "# Ex-3 Hybrid Model"
   ]
  },
  {
   "cell_type": "markdown",
   "metadata": {
    "colab_type": "text",
    "id": "5zgNg8io1J2W"
   },
   "source": [
    "+ Build and train a hybrid model for taking into account word and sentence labels. What is the accuracy of this classifier when applied the `imdb` dataset ?"
   ]
  },
  {
   "cell_type": "markdown",
   "metadata": {
    "colab_type": "text",
    "id": "BuU6ucjg5VM1"
   },
   "source": [
    "The approach proposed to take into account word and sentence labels is the following:\n",
    "\n",
    "+ Create an LSTM model as before.\n",
    "+ While creating the embedding matrix, analyse the sentiment of each word and append the sentiment value to the embedding vector. Now the embedding matrix has one more embedding dimension.\n",
    "+ As we did before, use this new embedding matrix as weights of the embedding layer."
   ]
  },
  {
   "cell_type": "code",
   "execution_count": 0,
   "metadata": {
    "colab": {},
    "colab_type": "code",
    "id": "D5wXZ_9Wd1D8"
   },
   "outputs": [],
   "source": [
    "new_embedding_dim = 301"
   ]
  },
  {
   "cell_type": "code",
   "execution_count": 0,
   "metadata": {
    "colab": {},
    "colab_type": "code",
    "id": "gtBPeIGZd6l9"
   },
   "outputs": [],
   "source": [
    "# find the statistical parameters of our dataset\n",
    "# and consider that the dataset follows a normal distribution\n",
    "# this will be used to initialize the embedding matrix\n",
    "emb_mean = np.mean(np.mean(embeddings))\n",
    "emb_std = np.std(np.std(embeddings))\n",
    "\n",
    "# min between the actual features used and the vocabulary\n",
    "num_words = min(max_features, len(words)) + 1\n",
    "\n",
    "# first create a matrix of random values which follows dataset distribution, this is our embedding matrix\n",
    "embedding_matrix = np.random.normal(emb_mean, emb_std,(num_words, new_embedding_dim))\n",
    "\n",
    "# for each word in the dataset lets try to find its embedding\n",
    "for word, i in words.items():\n",
    "\n",
    "    clean_word = preprocessing(word)\n",
    "    \n",
    "    if clean_word is not None:\n",
    "    \n",
    "      if i > max_features:\n",
    "          continue\n",
    "      try:\n",
    "        embedding_vector = embeddings.loc[clean_word]\n",
    "        if embedding_vector is not None:\n",
    "          word_sentiment = text_to_sentiment(clean_word)\n",
    "          embedding_vector.append(pd.Series(word_sentiment), ignore_index=True)\n",
    "          # we found the word - add that words vector to the matrix\n",
    "          # at the position indicated by the index\n",
    "          embedding_matrix[i] = embedding_vector\n",
    "      except:\n",
    "        pass"
   ]
  },
  {
   "cell_type": "code",
   "execution_count": 131,
   "metadata": {
    "colab": {
     "base_uri": "https://localhost:8080/",
     "height": 241
    },
    "colab_type": "code",
    "executionInfo": {
     "elapsed": 1063989,
     "status": "ok",
     "timestamp": 1556623927279,
     "user": {
      "displayName": "Gerard Marrugat Torregrosa",
      "photoUrl": "https://lh6.googleusercontent.com/-ZP8MaNMW5ng/AAAAAAAAAAI/AAAAAAAAAvw/rWr84bsIcJ4/s64/photo.jpg",
      "userId": "04021933901390158176"
     },
     "user_tz": -120
    },
    "id": "tMZ_RRHB89GS",
    "outputId": "f73932c8-6ea9-4aab-8b70-7e3ee08b32f3"
   },
   "outputs": [
    {
     "name": "stdout",
     "output_type": "stream",
     "text": [
      "Train on 35000 samples, validate on 7500 samples\n",
      "Epoch 1/5\n",
      "35000/35000 [==============================] - 213s 6ms/step - loss: 0.2503 - acc: 0.5321 - val_loss: 0.2337 - val_acc: 0.5892\n",
      "Epoch 2/5\n",
      "35000/35000 [==============================] - 212s 6ms/step - loss: 0.2480 - acc: 0.5619 - val_loss: 0.2428 - val_acc: 0.5576\n",
      "Epoch 3/5\n",
      "35000/35000 [==============================] - 212s 6ms/step - loss: 0.2421 - acc: 0.5673 - val_loss: 0.2399 - val_acc: 0.5785\n",
      "Epoch 4/5\n",
      "35000/35000 [==============================] - 211s 6ms/step - loss: 0.2387 - acc: 0.5806 - val_loss: 0.2378 - val_acc: 0.5872\n",
      "Epoch 5/5\n",
      "35000/35000 [==============================] - 213s 6ms/step - loss: 0.2342 - acc: 0.5946 - val_loss: 0.2307 - val_acc: 0.5944\n"
     ]
    },
    {
     "data": {
      "text/plain": [
       "<keras.callbacks.History at 0x7f676737f710>"
      ]
     },
     "execution_count": 131,
     "metadata": {
      "tags": []
     },
     "output_type": "execute_result"
    }
   ],
   "source": [
    "Hybrid_model = Sequential()\n",
    "Hybrid_model.add(Embedding(num_words,\n",
    "                    new_embedding_dim,\n",
    "                    weights=[embedding_matrix],\n",
    "                    input_length=maxlen,\n",
    "                    trainable = False))\n",
    "Hybrid_model.add(Bidirectional(CuDNNLSTM(new_embedding_dim)))\n",
    "Hybrid_model.add(Dropout(0.5))\n",
    "Hybrid_model.add(Dense(1, activation='linear'))\n",
    "\n",
    "Hybrid_model.compile(loss='mse', optimizer='adam', metrics=['accuracy'])\n",
    "\n",
    "batch_size = 32\n",
    "\n",
    "Hybrid_model.fit(x_train_seq, y_train,\n",
    "          batch_size=batch_size,\n",
    "          epochs=5,\n",
    "          validation_data=[x_val_seq, y_val])"
   ]
  },
  {
   "cell_type": "code",
   "execution_count": 132,
   "metadata": {
    "colab": {
     "base_uri": "https://localhost:8080/",
     "height": 51
    },
    "colab_type": "code",
    "executionInfo": {
     "elapsed": 14773,
     "status": "ok",
     "timestamp": 1556623950626,
     "user": {
      "displayName": "Gerard Marrugat Torregrosa",
      "photoUrl": "https://lh6.googleusercontent.com/-ZP8MaNMW5ng/AAAAAAAAAAI/AAAAAAAAAvw/rWr84bsIcJ4/s64/photo.jpg",
      "userId": "04021933901390158176"
     },
     "user_tz": -120
    },
    "id": "C8A3lYjcCZT-",
    "outputId": "e4c8efbc-7c2f-42df-96aa-519ef9ecf989"
   },
   "outputs": [
    {
     "name": "stdout",
     "output_type": "stream",
     "text": [
      "7500/7500 [==============================] - 14s 2ms/step\n",
      "Test accuracy: 0.6114666666348775\n"
     ]
    }
   ],
   "source": [
    "loss, acc = Hybrid_model.evaluate(x_test_seq, y_test)\n",
    "\n",
    "print('Test accuracy:', acc)"
   ]
  },
  {
   "cell_type": "markdown",
   "metadata": {
    "colab_type": "text",
    "id": "Nc3K6qIfN0oq"
   },
   "source": [
    "The accuracy of this hybrid model is 0.6115"
   ]
  },
  {
   "cell_type": "markdown",
   "metadata": {
    "colab_type": "text",
    "id": "vLr3NCzG13ON"
   },
   "source": [
    "# Ex-4 Bias"
   ]
  },
  {
   "cell_type": "markdown",
   "metadata": {
    "colab_type": "text",
    "id": "pp3AjfTN19co"
   },
   "source": [
    "+  Is there any racial bias in this new classifier? (Check this by classifiying neutral sentences that contain people names). "
   ]
  },
  {
   "cell_type": "markdown",
   "metadata": {
    "colab_type": "text",
    "id": "bikQfKTvYlDZ"
   },
   "source": [
    "We created a function that allow us to obtain the sentiment using the new hybrid model."
   ]
  },
  {
   "cell_type": "code",
   "execution_count": 0,
   "metadata": {
    "colab": {},
    "colab_type": "code",
    "id": "NQ4VrwDwIBk7"
   },
   "outputs": [],
   "source": [
    "def hybrid_model_sentiment_prediction(sentence):\n",
    "  \n",
    "  split_sentence = sentence.split(' ')\n",
    "  \n",
    "  clean_sentence = []\n",
    "  for word in split_sentence:\n",
    "    \n",
    "    #clean the words of each sentence\n",
    "    clean_word = preprocessing(word)\n",
    "  \n",
    "    if clean_word in words:\n",
    "    \n",
    "      #use the index of each word in the imdb dataset in order to 'tokenize'\n",
    "      #our data\n",
    "      idx_word = words[clean_word]\n",
    "      clean_sentence.append(idx_word)\n",
    "    else:\n",
    "      pass\n",
    "  \n",
    "  clean_sentence = np.array([clean_sentence])\n",
    "  seq_sentence = sequence.pad_sequences(clean_sentence, maxlen=300) \n",
    "\n",
    "  sentiment = Hybrid_model.predict(seq_sentence)[0][0]\n",
    "  \n",
    "  result = []\n",
    "  result.append(sentence)\n",
    "  result.append(sentiment)\n",
    "  \n",
    "  return result"
   ]
  },
  {
   "cell_type": "markdown",
   "metadata": {
    "colab_type": "text",
    "id": "esZ7nhh4ZZl1"
   },
   "source": [
    "Use the sentences previously seen in the exercise which contain different people names."
   ]
  },
  {
   "cell_type": "code",
   "execution_count": 170,
   "metadata": {
    "colab": {
     "base_uri": "https://localhost:8080/",
     "height": 102
    },
    "colab_type": "code",
    "executionInfo": {
     "elapsed": 716,
     "status": "ok",
     "timestamp": 1556625545752,
     "user": {
      "displayName": "Gerard Marrugat Torregrosa",
      "photoUrl": "https://lh6.googleusercontent.com/-ZP8MaNMW5ng/AAAAAAAAAAI/AAAAAAAAAvw/rWr84bsIcJ4/s64/photo.jpg",
      "userId": "04021933901390158176"
     },
     "user_tz": -120
    },
    "id": "WnDuGWXvGzrf",
    "outputId": "39111e11-dc2f-479d-ab5c-70eae488f5c3"
   },
   "outputs": [
    {
     "name": "stdout",
     "output_type": "stream",
     "text": [
      "['My name is Charles', 0.5489189]\n",
      "['My name is Heather', 0.4111152]\n",
      "['My name is Shaniqua', 0.46104175]\n",
      "['My name is Terryl', 0.46104175]\n",
      "['My name is Mohamed', 0.49772125]\n"
     ]
    }
   ],
   "source": [
    "print(hybrid_model_sentiment_prediction(\"My name is Charles\"))\n",
    "print(hybrid_model_sentiment_prediction(\"My name is Heather\"))\n",
    "print(hybrid_model_sentiment_prediction(\"My name is Shaniqua\"))\n",
    "print(hybrid_model_sentiment_prediction(\"My name is Terryl\"))\n",
    "print(hybrid_model_sentiment_prediction(\"My name is Mohamed\"))"
   ]
  },
  {
   "cell_type": "markdown",
   "metadata": {
    "colab_type": "text",
    "id": "GvmjwkQ3yHim"
   },
   "source": [
    "# Conclusions"
   ]
  },
  {
   "cell_type": "markdown",
   "metadata": {
    "colab_type": "text",
    "id": "XufXE1-OyMEW"
   },
   "source": [
    "The word based sentiment model seems to be biased, this is because it only takes into account the precomputed word embedding. As it has been seen, if we analyse the sentiment for the same sentence with just one word changing, the output sentiment may very signifincantly.\n",
    "\n",
    "On the other side, the LSTM model considers all the words in the sentence and acquires more context knowledge, making the result less biased.\n",
    "\n",
    "When both models are combined seems that the results are not so biased in racial terms."
   ]
  },
  {
   "cell_type": "code",
   "execution_count": 0,
   "metadata": {
    "colab": {},
    "colab_type": "code",
    "id": "yhhYDJ1baLQJ"
   },
   "outputs": [],
   "source": []
  }
 ],
 "metadata": {
  "accelerator": "GPU",
  "colab": {
   "collapsed_sections": [
    "R5RudM9wBzd9"
   ],
   "name": "Gerard Marrugat - Assignment 2. Ethics and Sentiment Classification.ipynb",
   "provenance": [
    {
     "file_id": "https://github.com/DataScienceUB/DeepLearningMaster2019/blob/master/Assignment%202.%20Ethics%20and%20Sentiment%20Classification.ipynb",
     "timestamp": 1556132531946
    }
   ],
   "toc_visible": true,
   "version": "0.3.2"
  },
  "kernelspec": {
   "display_name": "Python 3",
   "name": "python3"
  }
 },
 "nbformat": 4,
 "nbformat_minor": 0
}
