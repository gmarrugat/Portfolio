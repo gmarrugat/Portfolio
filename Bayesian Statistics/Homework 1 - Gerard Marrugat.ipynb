{
 "cells": [
  {
   "cell_type": "markdown",
   "metadata": {},
   "source": [
    "Gerard Marrugat"
   ]
  },
  {
   "cell_type": "markdown",
   "metadata": {},
   "source": [
    "### Exercise 1\n",
    "\n",
    "Consider the following experiment:\n",
    "\n",
    "1. We toss n fair coins. We know the number X1 of heads is a binomial r.v. $B(n; \\frac{1}{2})$.\n",
    "2. We toss again the remaining $R_1 = n - X_1$ coins and denote by $X_2$ the number of heads obtained\n",
    "this second time.\n",
    "3. We toss again the remaining $R_2 = n - X_1 - X_2$ coins and denote by $X_3$ the number of heads\n",
    "obtained this second time.\n",
    "4. The process continues in the same manner, stopping when all n coins show heads.\n",
    "\n",
    "Questions:\n",
    "1. Find the pmf of $X_2$ conditional to a given value of $X_1$, the joint pmf of $(X_1;X_2)$, the joint pmf of\n",
    "$(X_1;X_2;R_2)$, the marginal pmf of $X_2$ and the marginal pmf of $R_2$."
   ]
  },
  {
   "cell_type": "markdown",
   "metadata": {},
   "source": [
    "Pmf of $X_2$ conditional to a given value of $X_1$\n",
    "$$\n",
    "P(X_2 = r \\mid X_1 = k) = \\binom{R_1}{r}(\\frac{1}{2})^{r}(\\frac{1}{2})^{R_1 - r} = \\binom{n-k}{r}(\\frac{1}{2})^r(\\frac{1}{2})^{n-k-r}\\\\\n",
    "P(X_2 = r \\mid X_1 = k) = \\binom{n-k}{r}(\\frac{1}{2})^{n-k}\n",
    "$$\n",
    "\n",
    "Joint pmf $(X_1,X_2)$\n",
    "\n",
    "$$\n",
    "P(X_1,X_2) = P(X_2|X_1)P(X_1)\\\\\n",
    "P(X_1) = \\binom{n}{k}(\\frac{1}{2})^n\\\\\n",
    "P(X_1,X_2) = \\binom{R_1}{r}(\\frac{1}{2})^R_1 \\binom{n}{k}(\\frac{1}{2})^n = \\binom{n-k}{r} (\\frac{1}{2})^{n-k}\\binom{n}{k}(\\frac{1}{2})^{2n - k}\\\\\n",
    "P(X_1,X_2) = \\binom{n-k}{r}\\binom{n}{k}(\\frac{1}{2})^{2n-k}\n",
    "$$\n",
    "\n",
    "Marginal pmf $X_2$\n",
    "$$\n",
    "P(X_2) = \\sum_{k=0}^{n} P(X_2 = r, X_1 = k) = \\sum_{k=0}^{n} \\binom{n-k}{r} \\binom{n}{k} (\\frac{1}{2})^{2n-k}\n",
    "$$\n",
    "\n",
    "Joint pmf $(X_1,X_2,R_2)$\n",
    "$$\n",
    "P(X_1,X_2,R_2) = P(R_2|(X_1,X_2))P((X_1,X_2))\\\\\n",
    "$$\n",
    "\n",
    "$$\n",
    "P(R_2|(X_1,X_2)) = \\left\\{\n",
    "                    \\begin{array}{lcl}\n",
    "                         1, &R_2 = n - (k+r)\\\\\n",
    "                         0, &R_2 \\neq n - (k+r)\n",
    "                    \\end{array}\n",
    "                    \\right.\\quad\n",
    "$$ \n",
    "\n",
    "$$\n",
    "P(X_1,X_2,R_2) = \\left\\{\n",
    "                    \\begin{array}{lcl}\n",
    "                         P(X_1,X_2) = \\binom{n-k}{r}\\binom{n}{k}(\\frac{1}{2})^{2n-k} , &R_2 = n - (k+r)\\\\\n",
    "                         0, &R_2 \\neq n - (k+r)\n",
    "                    \\end{array}\n",
    "                    \\right.\\quad\n",
    "$$\n",
    "\n",
    "Marginal pmf of $R_2$\n",
    "$$\n",
    "P(R_2) = \\sum_{k=0}^{n}\\sum_{r=0}^{n-k} \\binom{n-k}{r}\\binom{n}{k}(\\frac{1}{2})^{2n-k}\n",
    "$$"
   ]
  },
  {
   "cell_type": "markdown",
   "metadata": {},
   "source": [
    " 2. For $k \\geq 2$, generalize the above computations as far as you can. Meaning: some extensions are\n",
    "feasible, even easy, but others give unwieldy expressions as far as I know. Hence start with $k = 3$,\n",
    "observe what you get and follow any practicable way you find. Do not worry if none appears."
   ]
  },
  {
   "cell_type": "markdown",
   "metadata": {},
   "source": [
    "$X_3$ conditional to ($X_1,X_2$)\n",
    "\n",
    "$$\n",
    "P(X_3=t|(X_1=k,X_2=r)) = \\binom{n-(k+r)}{t}(\\frac{1}{2})^t(\\frac{1}{2})^{n-(k+r)-t}=\\binom{n-(k+r)}{t}(\\frac{1}{2})^{n-(k+r)} \n",
    "$$\n",
    "\n",
    "Generalizing the expression for $k\\geq 2$\n",
    "\n",
    "$$\n",
    "P(X_m = m|(X_1 = x_1,X_2=x_2,...,X_{m-1}=x_{m-1})) = \\binom{n-\\sum_{i=1}^{m-1}x_i}{m}(\\frac{1}{2})^{n-\\sum_{i=1}^{m-1} x_i}\n",
    "$$\n",
    "\n",
    "Joint pmf ($X_1,X_2,X_3$)\n",
    "\n",
    "$$\n",
    "P(X_1,X_2,X_3) = P(X_3|(X_1,X_2))P((X_1,X_2)) = \\binom{n-(k+r)}{t}(\\frac{1}{2})^{n-(k+r)} \\binom{n-k}{r}\\binom{n}{k}(\\frac{1}{2})^{2n-k}\\\\\n",
    "= \\frac{(n-(k+r))!}{(n-(k+r)-t)!t!}(\\frac{1}{2})^{n-(k+r)}\\frac{(n-k)!}{(n-(k+r))!r!}\\frac{n!}{(n-k)!k!}(\\frac{1}{2})^{2n-k}\\\\\n",
    "= \\frac{n!}{(n-(k+r+t))!t!r!k!}(\\frac{1}{2})^{3n-2k-r}\n",
    "$$\n",
    "\n",
    "Generalizing the expression for $k\\geq 2$\n",
    "\n",
    "$$\n",
    "P(X_1,X_2,...,X_m)=\\frac{n!}{(n-\\sum_{i=1}^{m}x_i)!\\prod_{i=1}^{m}x_i!}(\\frac{1}{2})^{mn - \\sum_{j=1}^{m-1}(m - j)x_j}\n",
    "$$\n",
    "\n",
    "Joint pmf $(X_1,X_2,X_3,R_3)$\n",
    "$$\n",
    "P(X_1,X_2,X_3,R_3) = P(R_3|(X_1,X_2,X_3))P((X_1,X_2,X_3))\\\\\n",
    "$$\n",
    "\n",
    "$$\n",
    "P(R_3|(X_1,X_2,X_3)) = \\left\\{\n",
    "                    \\begin{array}{lcl}\n",
    "                         1, &R_3 = n - (k+r+t)\\\\\n",
    "                         0, &R_3 \\neq n - (k+r+t)\n",
    "                    \\end{array}\n",
    "                    \\right.\\quad\n",
    "$$ \n",
    "\n",
    "$$\n",
    "P(X_1,X_2,X_3,R_3) = \\left\\{\n",
    "                    \\begin{array}{lcl}\n",
    "                         P(X_1,X_2,X_3) = \\frac{n!}{(n-(k+r+t))!t!r!k!}(\\frac{1}{2})^{3n-2k-r} , &R_3 = n - (k+r+t)\\\\\n",
    "                         0, &R_3 \\neq n - (k+r+t)\n",
    "                    \\end{array}\n",
    "                    \\right.\\quad\n",
    "$$\n",
    "\n",
    "Generalizing for $k \\geq 2$ \n",
    "\n",
    "$$\n",
    "P(X_1,X_2,...,X_m,R_m) = \\left\\{\n",
    "                    \\begin{array}{lcl}\n",
    "                         P(X_1,X_2,...,X_m)=\\frac{n!}{(n-\\sum_{i=1}^{m}x_i)!\\prod_{i=1}^{m}x_i!}(\\frac{1}{2})^{mn - \\sum_{j=1}^{m-1}(m - j)x_j} , &R_m = n - \\sum_{i=1}^{m}x_i\\\\\n",
    "                         0, &R_m \\neq n - \\sum_{i=1}^{m}x_i\n",
    "                    \\end{array}\n",
    "                    \\right.\\quad\n",
    "$$\n",
    "\n"
   ]
  },
  {
   "cell_type": "markdown",
   "metadata": {},
   "source": [
    "3. Define the r.v.\n",
    "\n",
    "                                Y = Total number of tosses. \n",
    "\n",
    "    Obtain the cdf of Y.\n",
    "    \n",
    "We have n coins, and tossing each coin until it is head is a geometric random variable, $X_n$ ~ $G(\\frac{1}{2})$. So, the total number of tosses could be defined as a sum of the tosses needed for each coin until it is head.\n",
    "$$\n",
    "                                Y = X_1 + X_2 + X_3 + ... + X_n\n",
    "$$\n",
    "\n",
    "$y$ repetitions are needed until $n$ successful cases are obtained. The $n^{th}$ success takes place at the $y^{th}$ repetition. So, in the previous $y-1$ repetitions are $n-1$ successes.\n",
    "\n",
    "$$\n",
    "P(Y = y) = \\binom{y-1}{n-1} p^n(1-p)^{y-n}\n",
    "$$\n",
    "\n",
    "This is the pmf of Negative Binomial distribution.\n",
    "\n",
    "Finally, the cdf of Y\n",
    "$$\n",
    "F(Y \\leq y) = \\left\\{\n",
    "                    \\begin{array}{lcl}\n",
    "                         0 , &y < n\\\\\n",
    "                         \\sum_{i=n}^{y} \\binom{i-1}{n-1}p^n(1-p)^{i-n}, &y \\geq n\n",
    "                    \\end{array}\n",
    "                    \\right.\\quad\n",
    "$$    "
   ]
  },
  {
   "cell_type": "markdown",
   "metadata": {
    "collapsed": true
   },
   "source": [
    "### Exercise 2 - Normal random numbers from a Laplace distribution"
   ]
  },
  {
   "cell_type": "markdown",
   "metadata": {},
   "source": [
    "Normal $\\sim\\operatorname{N}(0,1)$ from a $\\operatorname{Laplace}(\\alpha)$\n",
    "\n",
    "Assume we want to generate RN following the $\\operatorname{N}(0,1)$ distribution, whose pdf is:\n",
    "\n",
    "$$\n",
    "\tf(x)=\\dfrac{1}{\\sqrt{2\\,\\pi}}\\,\\exp\\left\\{-\\dfrac{1}{2}\\,x^{2}\\right\\}.\n",
    "$$\n",
    "\n",
    "Our candidate pdf is in the $\\operatorname{Laplace}(\\alpha)$ family:\n",
    "\n",
    "$$\n",
    "\tg(x|\\alpha)=\\dfrac{\\alpha}{2}\\,\\exp\\left\\{-\\alpha\\,x\\right\\}.\n",
    "$$"
   ]
  },
  {
   "cell_type": "markdown",
   "metadata": {},
   "source": [
    "#### cdf  for a $\\operatorname{Laplace}(\\alpha)$\n",
    "\n",
    "$$\n",
    "\tG(x|\\alpha)=\\left\\{\\begin{array}{lll}\n",
    "\t\\dfrac{1}{2}\\,\\exp(\\alpha\\,x),\t&\\text{ if }\t&x<0,\\\\\n",
    "\t1-\\dfrac{1}{2}\\,\\exp(-\\alpha\\,x),  &\\text{ if }\t&0\\leq x.\n",
    "\t\\end{array}\\right.\n",
    "$$"
   ]
  },
  {
   "cell_type": "markdown",
   "metadata": {},
   "source": [
    "#### Quantile function for a $\\operatorname{Laplace}(\\alpha)$\n",
    "\n",
    "$$\n",
    "\tQ(y|\\alpha)=\\left\\{\\begin{array}{lll}\n",
    "\t\\hphantom{-}\\dfrac{1}{\\alpha}\\,\\log(2\\,y),\t&\\text{ if }\t&y\\in(0,0.5),\\\\\n",
    "\t-\\dfrac{1}{\\alpha}\\,\\log(2(1-y)),  &\\text{ if }\t&y\\in(0.5,1).\n",
    "\t\\end{array}\\right.\n",
    "$$"
   ]
  },
  {
   "cell_type": "code",
   "execution_count": 9,
   "metadata": {},
   "outputs": [],
   "source": [
    "#\n",
    "#Insert here your code\n",
    "\n",
    "x <- seq(-2,2,by=0.01)\n",
    "alpha <- 1 #alpha value can change\n",
    "\n",
    "f <- function(x){\n",
    "    return(dnorm(x,0,1))\n",
    "}\n",
    "\n",
    "g <- function(x,alpha){\n",
    "    return(dlaplace(x,0,(1/alpha)))\n",
    "}\n",
    "\n",
    "rg <- function(m,alpha){\n",
    "    return(rlaplace(m,0,(1/alpha)))\n",
    "}\n",
    "\n",
    "Accept.Reject<-function(f,g,rg,c,n=1.0e4,alpha){\n",
    "    z<-rep(0,n) \n",
    "    N<-0\n",
    "    for (i in 1:n){\n",
    "        accept<-FALSE\n",
    "        while (accept == FALSE){\n",
    "            u <- runif(1)\n",
    "            v <- rg(1,alpha)\n",
    "            N<-N+1\n",
    "            if (c*u <= f(v)/g(v,alpha)){\n",
    "                z[i] <- v\n",
    "                accept <- TRUE\n",
    "                }\n",
    "            }\n",
    "        }\n",
    "    Proportion<-n/N\n",
    "    return(list(z=z,Proportion=Proportion))\n",
    "    }\n",
    "\n",
    "#"
   ]
  },
  {
   "cell_type": "code",
   "execution_count": 10,
   "metadata": {},
   "outputs": [
    {
     "data": {
      "text/html": [
       "'Practical Efficiency: 0.758725341426404'"
      ],
      "text/latex": [
       "'Practical Efficiency: 0.758725341426404'"
      ],
      "text/markdown": [
       "'Practical Efficiency: 0.758725341426404'"
      ],
      "text/plain": [
       "[1] \"Practical Efficiency: 0.758725341426404\""
      ]
     },
     "metadata": {},
     "output_type": "display_data"
    },
    {
     "data": {
      "text/html": [
       "'Theoretical Efficiency: 0.760173593241753'"
      ],
      "text/latex": [
       "'Theoretical Efficiency: 0.760173593241753'"
      ],
      "text/markdown": [
       "'Theoretical Efficiency: 0.760173593241753'"
      ],
      "text/plain": [
       "[1] \"Theoretical Efficiency: 0.760173593241753\""
      ]
     },
     "metadata": {},
     "output_type": "display_data"
    },
    {
     "data": {
      "image/png": "[encoded data removed]",
      "text/plain": [
       "Plot with title \"Random Numbers following Normal distribution\""
      ]
     },
     "metadata": {},
     "output_type": "display_data"
    }
   ],
   "source": [
    "require(MASS)\n",
    "require(extraDistr)\n",
    "#    Insert here your code\n",
    "n <- 10000\n",
    "M <- 1.315489\n",
    "\n",
    "AR <- Accept.Reject(f,g,rg,M,n,alpha)\n",
    "truehist((AR$z),main=\"Random Numbers following Normal distribution\")\n",
    "#truehist(x2,main=\"Random Numbers following Normal distribution\")\n",
    "lines(x,f(x), col='red',lwd=2)\n",
    "sprintf(\"Practical Efficiency: %s\",AR$Proportion)\n",
    "sprintf(\"Theoretical Efficiency: %s\", 1/M)\n",
    "#"
   ]
  },
  {
   "cell_type": "markdown",
   "metadata": {},
   "source": [
    "Laplace formula:\n",
    "$$\n",
    "f(x) = \\frac{1}{2b}\\exp{-\\frac{|x-\\mu|}{b}}\n",
    "$$"
   ]
  },
  {
   "cell_type": "markdown",
   "metadata": {},
   "source": [
    "In the given Laplace formula, the $\\alpha$ value is the inverse of the diversity parameter $b$. Diversity provides information about how spread are the values of our distribution. In the exercise statement our candidate is a normal distribution with $\\mu = 0$ and $\\sigma^2 = 1$, this is the reason why $\\alpha$ value equal to 1 is taken. Varying this value, we appreciated during the experiment that other normal distributions whose variance is the inverse of alpha are obtained. As a conclusion of this simulation experiment, it can be affirmed that changing the value of this parameter normal distributions with different variance values can be generated. "
   ]
  },
  {
   "cell_type": "markdown",
   "metadata": {},
   "source": [
    "## Exercise 3 - Further computations with the placenta previa exercise\n",
    "\n",
    "(See exercises 1 and 2 in the assignment sheet)"
   ]
  },
  {
   "cell_type": "markdown",
   "metadata": {},
   "source": [
    "### 3.1"
   ]
  },
  {
   "cell_type": "markdown",
   "metadata": {},
   "source": [
    "Compute the posterior pdf, and both prior and posterior predictor pmf for the placenta previa problem, using a conjugate $\\mbox{Beta}(\\alpha,\\beta)$ prior, for several values of the parameters, obtaining for each of them a 95% (centered) credible interval and the MAP and posterior expectation estimators of $\\theta$. In particular, reproduce Figure 2.3 and Table 2.1 in BDA3. Do the same for those $\\alpha_0$ and $\\beta_0$ such that $\\mbox{Beta}(\\alpha_0,\\beta_0)$ has the same expectation and variance than the piecewise linear nonconjugate prior. Compare the posterior quantities with both priors. "
   ]
  },
  {
   "cell_type": "code",
   "execution_count": 70,
   "metadata": {},
   "outputs": [],
   "source": [
    "N <- 1000\n",
    "alpha <- 1\n",
    "beta <- 2\n",
    "n<-980\n",
    "x<-437\n",
    "t<-seq(0,1,length=N)\n",
    "t<-t[-N]# remove last point (equal to 1: we want N intervals)\n",
    "\n",
    "\n",
    "# 1. Model\n",
    "\n",
    "#Likelihood\n",
    "Lik<-function(x,theta,n){theta^x*(1-theta)^(n-x)}\n",
    "\n",
    "#prior\n",
    "prior <- dbeta(t,alpha,beta)\n",
    "\n",
    "#2. Joint pmf\n",
    "\n",
    "joint_pmf <- Lik(x,t,n)*prior\n",
    "\n",
    "#3. Prior predictive pmf\n",
    "# prior predictive using a beta prior is a beta-binomial distribution, \n",
    "# and it can be obtained with the formula below  \n",
    "\n",
    "prior_predictive <- dbeta(t,alpha+x,beta+n-x)/dbeta(t,alpha,beta)\n",
    "\n",
    "#4. Posterior pdf\n",
    "\n",
    "posterior_pdf <- joint_pmf/sum(prior_predictive)\n",
    "\n",
    "#5. Posterior predictive\n",
    "\n",
    "posterior_predictive <- sum(Lik(x,t,n)*posterior_pdf)"
   ]
  },
  {
   "cell_type": "code",
   "execution_count": 71,
   "metadata": {},
   "outputs": [
    {
     "name": "stdout",
     "output_type": "stream",
     "text": [
      "[1] \"Inferior confidence boundary\"\n",
      "[1] 0.4154154\n",
      "[1] \"Superior confidence boundary\"\n",
      "[1] 0.4764765\n",
      "[1] \"Posterior median of theta\"\n",
      "[1] 0.4453868\n",
      "[1] \"MAP estimator\"\n",
      "[1] 0.4454454\n",
      "[1] \"Posterior expected value of theta\"\n",
      "[1] 0.4455748\n"
     ]
    },
    {
     "data": {
      "image/png": "[encoded data removed]",
      "text/plain": [
       "Plot with title \"Posterior distribution for Beta(438,545)\""
      ]
     },
     "metadata": {},
     "output_type": "display_data"
    },
    {
     "data": {
      "image/png": "[encoded data removed]",
      "text/plain": [
       "Plot with title \"Logit for Beta(438,545)\""
      ]
     },
     "metadata": {},
     "output_type": "display_data"
    },
    {
     "data": {
      "image/png": "[encoded data removed]",
      "text/plain": [
       "Plot with title \"Sex ratio for Beta(438,545)\""
      ]
     },
     "metadata": {},
     "output_type": "display_data"
    }
   ],
   "source": [
    "# Interval such P(a<t<b) = 0.95\n",
    "\n",
    "Interval <- function(cdf, t){\n",
    "    n <- length(cdf)\n",
    "    \n",
    "    for(i in 1:n){\n",
    "        if(cdf[i] >= 0.025){\n",
    "            a <- i\n",
    "            break\n",
    "        }\n",
    "    }\n",
    "    for(i in n:1){\n",
    "        if(cdf[i] <= 0.975){\n",
    "            b <- i\n",
    "            break\n",
    "        }\n",
    "    }\n",
    "    \n",
    "    return(c(t[a],t[b]))\n",
    "}\n",
    "\n",
    "# Confidence interval\n",
    "alpha_post <- alpha + x\n",
    "beta_post <- beta + n - x\n",
    "\n",
    "posterior_cdf <- pbeta(t, alpha_post, beta_post)\n",
    "\n",
    "interval <- Interval(posterior_cdf, t)\n",
    "\n",
    "print('Inferior confidence boundary')\n",
    "print(interval[1])\n",
    "print('Superior confidence boundary')\n",
    "print(interval[2])\n",
    "\n",
    "#Median, generate random numbers with a beta distribution and find the median\n",
    "theta_post_values <- rbeta(t, alpha_post, beta_post)\n",
    "theta_post_median <- median(theta_post_values)\n",
    "print('Posterior median of theta')\n",
    "print(theta_post_median)\n",
    "\n",
    "# MAP, value of the parameter that maximizes the posterior pdf\n",
    "print('MAP estimator') \n",
    "print(t[which(posterior_pdf==max(posterior_pdf))])\n",
    "\n",
    "# Posterior expected value of theta\n",
    "theta_post_exp <- alpha_post/(alpha_post + beta_post)\n",
    "\n",
    "print('Posterior expected value of theta')\n",
    "print(theta_post_exp)\n",
    "\n",
    "\n",
    "truehist(theta_post_values, main=sprintf('Posterior distribution for Beta(%s,%s)',alpha_post,beta_post))\n",
    "logit_theta <- log(theta_post_values)\n",
    "truehist(logit_theta, main=sprintf('Logit for Beta(%s,%s)',alpha_post,beta_post))\n",
    "sex_ratio <- (1-theta_post_values)/theta_post_values\n",
    "truehist(sex_ratio, main=sprintf('Sex ratio for Beta(%s,%s)',alpha_post,beta_post))"
   ]
  },
  {
   "cell_type": "markdown",
   "metadata": {},
   "source": [
    "$\\alpha$ and $\\beta$ values can be changed in order to obtain a summary of theta posterior distribution"
   ]
  },
  {
   "cell_type": "code",
   "execution_count": 14,
   "metadata": {},
   "outputs": [
    {
     "name": "stdout",
     "output_type": "stream",
     "text": [
      "[1] \"Prior expected value\"\n",
      "[1] 0.4912681\n",
      "[1] \"Prior variance value\"\n",
      "[1] 0.04246837\n"
     ]
    }
   ],
   "source": [
    "n<-980\n",
    "x<-437\n",
    "\n",
    "# Piecewise\n",
    "m<-0.485\n",
    "c<-0.100\n",
    "p.tails<-0.4  \n",
    "a<-0.5\n",
    "b<-5.0\n",
    "A<-a+b-(b*m)/c\n",
    "B<-a+b+(b*m)/c\n",
    "h<-function(t){\n",
    "    return(\n",
    "        a*(t>=0)*(t< m-c)\n",
    "        + (A + b*t/c)*(t>=m-c)*(t<m)\n",
    "        + (B - b*t/c)*(t>=m)*(t<m+c)\n",
    "        + a*(t>=m+c)*(t<1)\n",
    "    )\n",
    "}\n",
    "\n",
    "# Prior expected value of piecewise\n",
    "E_piecewise = sum(t*h(t)*(1/N)) #we found the probabilities with the approximation h(t)/N\n",
    "print('Prior expected value')\n",
    "print(E_piecewise)\n",
    "# Prior variance of piecewise\n",
    "var_piecewise = sum(((t-E_piecewise)^2)*h(t)*(1/N))\n",
    "print('Prior variance value')\n",
    "print(var_piecewise)"
   ]
  },
  {
   "cell_type": "markdown",
   "metadata": {},
   "source": [
    "We calculate the $\\alpha_0$ and $\\beta_0$ for the Beta conjugate prior distribution with the next formulas:\n",
    "\n",
    "$$\\begin{aligned}\n",
    "    \\alpha  &=\\mu\\cdot\\left[\\dfrac{\\mu\\,(1-\\mu)}{\\sigma^{2}}-1\\right],\\\\[0.4cm]\n",
    "    \\beta   &=(1-\\mu)\\cdot\\left[\\dfrac{\\mu\\,(1-\\mu)}{\\sigma^{2}}-1\\right].\\end{aligned}\n",
    "$$"
   ]
  },
  {
   "cell_type": "code",
   "execution_count": 15,
   "metadata": {},
   "outputs": [
    {
     "data": {
      "text/html": [
       "'alpha value 2.4'"
      ],
      "text/latex": [
       "'alpha value 2.4'"
      ],
      "text/markdown": [
       "'alpha value 2.4'"
      ],
      "text/plain": [
       "[1] \"alpha value 2.4\""
      ]
     },
     "metadata": {},
     "output_type": "display_data"
    },
    {
     "data": {
      "text/html": [
       "'beta value 2.49'"
      ],
      "text/latex": [
       "'beta value 2.49'"
      ],
      "text/markdown": [
       "'beta value 2.49'"
      ],
      "text/plain": [
       "[1] \"beta value 2.49\""
      ]
     },
     "metadata": {},
     "output_type": "display_data"
    }
   ],
   "source": [
    "alpha_0 <- round(E_piecewise*((E_piecewise*(1-E_piecewise)/var_piecewise)-1),2)\n",
    "sprintf(\"alpha value %s\",alpha_0)\n",
    "beta_0 <- round((1-E_piecewise)*((E_piecewise*(1-E_piecewise)/var_piecewise)-1),2)\n",
    "sprintf(\"beta value %s\",beta_0)"
   ]
  },
  {
   "cell_type": "markdown",
   "metadata": {},
   "source": [
    "$\\alpha_0=2.4$, $\\beta_0=2.48$."
   ]
  },
  {
   "cell_type": "code",
   "execution_count": 99,
   "metadata": {},
   "outputs": [
    {
     "name": "stdout",
     "output_type": "stream",
     "text": [
      "[1] \"Posterior expected value for Beta prior\"\n",
      "[1] 0.4461503\n",
      "[1] \"Posterior variance value for Beta prior\"\n",
      "[1] 0.0002506418\n",
      "[1] \"Posterior expected value for Piecewise prior\"\n",
      "[1] 0.4495195\n",
      "[1] \"Posterior variance value for Piecewise prior\"\n",
      "[1] 0.0002490351\n"
     ]
    }
   ],
   "source": [
    "#beta\n",
    "prior_beta <- dbeta(t,alpha_0,beta_0)\n",
    "post_beta <- Lik(x,t,n)*prior_beta\n",
    "\n",
    "dpost_beta <- post_beta/sum(post_beta)\n",
    "\n",
    "# Posterior expected value with beta prior\n",
    "E_post_beta = sum(t*dpost_beta)\n",
    "print('Posterior expected value for Beta prior')\n",
    "print(E_post_beta)\n",
    "\n",
    "# Posterior variance with beta prior\n",
    "var_post_beta = sum(((t-E_post_beta)^2)*dpost_beta)\n",
    "print('Posterior variance value for Beta prior')\n",
    "print(var_post_beta)\n",
    "\n",
    "#piecewise\n",
    "nnpost_piecewise<-Lik(x,t,n)*h(t)\n",
    "\n",
    "dpost_piecewise<-nnpost_piecewise/sum(nnpost_piecewise) \n",
    "\n",
    "# Posterior expected value with piecewise prior\n",
    "E_post_piecewise = sum(t*dpost_piecewise)\n",
    "print('Posterior expected value for Piecewise prior')\n",
    "print(E_post_piecewise)\n",
    "\n",
    "# Posterior variance with piecewise prior\n",
    "var_post_piecewise = sum(((t-E_post_beta)^2)*dpost_piecewise)\n",
    "print('Posterior variance value for Piecewise prior')\n",
    "print(var_post_piecewise)"
   ]
  },
  {
   "cell_type": "markdown",
   "metadata": {},
   "source": [
    "In both cases the variance has been reduced in two orders in comparison with its prior value."
   ]
  },
  {
   "cell_type": "markdown",
   "metadata": {},
   "source": [
    "### 3.2"
   ]
  },
  {
   "cell_type": "markdown",
   "metadata": {},
   "source": [
    "Simulate the prior predictive pmf with the nonconjugate piecewise linear pdf. Do it in both possible ways: (1) Sample from $h$ by the inverse transformation method and (2) Sample from its discretization. \n",
    "\n",
    "Summarize the resulting simulated sample: plot the empirical pmf, compute median, mode, expectation, standard deviation. Compare the results with those obtained from the conjugate prior $\\mbox{Beta}(\\alpha_0,\\beta_0)$. "
   ]
  },
  {
   "cell_type": "markdown",
   "metadata": {},
   "source": [
    "**Inverse method**"
   ]
  },
  {
   "cell_type": "code",
   "execution_count": 100,
   "metadata": {},
   "outputs": [
    {
     "data": {
      "image/png": "[encoded data removed]",
      "text/plain": [
       "Plot with title \"Simulated prior predictive pmf with inverse method\""
      ]
     },
     "metadata": {},
     "output_type": "display_data"
    }
   ],
   "source": [
    "require(GoFKernel)\n",
    "require(extraDistr)\n",
    "\n",
    "m<-0.485\n",
    "c<-0.100\n",
    "p.tails<-0.4  \n",
    "a<-0.5\n",
    "b<-5.0\n",
    "A<-a+b-(b*m)/c\n",
    "B<-a+b+(b*m)/c\n",
    "\n",
    "h<-function(t){\n",
    "    return(\n",
    "        a*(t>=0)*(t< m-c)\n",
    "        + (A + b*t/c)*(t>=m-c)*(t<m)\n",
    "        + (B - b*t/c)*(t>=m)*(t<m+c)\n",
    "        + a*(t>=m+c)*(t<1)\n",
    "    )\n",
    "}\n",
    "\n",
    "h_cdf<-function(x){\n",
    "    if(x<=0){\n",
    "        return(0)\n",
    "    }\n",
    "    dx<-0.001\n",
    "    sequence<-seq(0,x,by=dx)\n",
    "    return(tail(cumsum(h(sequence)*dx),1))\n",
    "}\n",
    "\n",
    "inverse_cdf<-inverse(h_cdf, lower = 0, upper = 1)\n",
    "\n",
    "# prior pdf simulation with inverse method\n",
    "inv_simulation<-function(n){\n",
    "    values<-rep(0,n)\n",
    "    for(i in 1:n){\n",
    "        values[i] = inverse_cdf(runif(1))\n",
    "    }\n",
    "    \n",
    "    return(values)\n",
    "}\n",
    "\n",
    "N <- 5000 #repetitions of experiment\n",
    "n <- 980 #size/limit possible values\n",
    "X <- 0:980\n",
    "\n",
    "theta <- inv_simulation(N) #generates theta values\n",
    "x <- rbinom(N,n,theta) #generates values for all thetas\n",
    "                       #this is the likelihood function which follows a binomial distribution\n",
    "\n",
    "F <- rep(0,length(X))\n",
    "for (i in X){\n",
    "    F[i] <- sum(x==X[i]) #count all the random values generated with number X[i]\n",
    "}\n",
    "\n",
    "f <- F/N\n",
    "plot(X,f,,pch=19,cex=0.7,col=\"blue\",main=\"Simulated prior predictive pmf with inverse method\",ylab=\"Rel. frequency\")\n"
   ]
  },
  {
   "cell_type": "code",
   "execution_count": 149,
   "metadata": {},
   "outputs": [
    {
     "name": "stdout",
     "output_type": "stream",
     "text": [
      "[1] \"Expected prior value for inverse prior\"\n",
      "[1] 482.274\n",
      "[1] \"Prior standard deviation value for inverse prior\"\n",
      "[1] 202.2059\n",
      "[1] \"Prior median value for inverse prior\"\n",
      "[1] 478\n",
      "[1] \"Prior mode value for inverse prior\"\n",
      "[1] 462\n"
     ]
    }
   ],
   "source": [
    "x <- 0:980\n",
    "N <- 1000\n",
    "n <- 980\n",
    "\n",
    "x1 <- rbinom(N, n, theta)\n",
    "\n",
    "#Expected prior\n",
    "E_prior_inv <- mean(x1) \n",
    "print('Expected prior value for inverse prior')\n",
    "print(E_prior_inv)\n",
    "\n",
    "#Prior standard deviation\n",
    "sd_prior_inv <- sd(x1)\n",
    "print('Prior standard deviation value for inverse prior')\n",
    "print(sd_prior_inv)\n",
    "\n",
    "#Prior median\n",
    "median_prior_inv <- median(x1)\n",
    "print('Prior median value for inverse prior')\n",
    "print(median_prior_inv)\n",
    "\n",
    "#Prior standard deviation\n",
    "mode <- function(x) {\n",
    "  ux <- unique(x)\n",
    "  tab <- tabulate(match(x, ux))\n",
    "  ux[tab == max(tab)]\n",
    "}\n",
    "\n",
    "mode_prior_inv <- mode(x1)\n",
    "print('Prior mode value for inverse prior')\n",
    "print(mode_prior_inv)"
   ]
  },
  {
   "cell_type": "markdown",
   "metadata": {},
   "source": [
    "The expected value for prior generated with inverse method has increased a little meanwhile the variance is two orders larger than the obtained with Beta prior."
   ]
  },
  {
   "cell_type": "markdown",
   "metadata": {},
   "source": [
    "**Discrete method**"
   ]
  },
  {
   "cell_type": "code",
   "execution_count": 7,
   "metadata": {},
   "outputs": [
    {
     "data": {
      "image/png": "[encoded data removed]",
      "text/plain": [
       "Plot with title \"Simulated prior predictive pmf with discretization method\""
      ]
     },
     "metadata": {},
     "output_type": "display_data"
    }
   ],
   "source": [
    "h.disc.rv<-function(N,n,d){\n",
    "    z<-sample(n,size=N,replace=TRUE,prob=d) #choose N values from the vector n with probs d\n",
    "    return(z)\n",
    "    }\n",
    "\n",
    "N <- 5000\n",
    "X <- 0:980\n",
    "n <- 980\n",
    "\n",
    "t<-seq(0,1,length=N)\n",
    "\n",
    "probs <- h(t)/sum(h(t))\n",
    "\n",
    "theta <- h.disc.rv(N,t,probs)\n",
    "\n",
    "x <- rbinom(N,n,theta)\n",
    "\n",
    "F<-rep(0,length(X))\n",
    "for (i in X){\n",
    "    F[i]<-sum(x==X[i]) #add the succesful cases\n",
    "    }\n",
    "f<-F/N\n",
    "plot(X,f,,pch=19,cex=0.7,col=\"blue\",main=\"Simulated prior predictive pmf with discretization method\",ylab=\"Rel. frequency\")"
   ]
  },
  {
   "cell_type": "code",
   "execution_count": 21,
   "metadata": {},
   "outputs": [
    {
     "name": "stdout",
     "output_type": "stream",
     "text": [
      "[1] \"Expected prior value for discretization prior\"\n",
      "[1] 497.488\n",
      "[1] \"Prior standard deviation value for discretization prior\"\n",
      "[1] 199.8455\n",
      "[1] \"Prior median value for discretization prior\"\n",
      "[1] 482.5\n",
      "[1] \"Prior mode value for discretization prior\"\n",
      "[1] 464 505\n"
     ]
    }
   ],
   "source": [
    "x <- 0:980\n",
    "N <- 1000\n",
    "n <- 980\n",
    "\n",
    "x3 <- rbinom(N, n, theta)\n",
    "\n",
    "#Expected prior\n",
    "E_prior_dis <- mean(x3) \n",
    "print('Expected prior value for discretization prior')\n",
    "print(E_prior_dis)\n",
    "\n",
    "#Prior standard deviation\n",
    "sd_prior_dis <- sd(x3)\n",
    "print('Prior standard deviation value for discretization prior')\n",
    "print(sd_prior_dis)\n",
    "\n",
    "#Prior median\n",
    "median_prior_dis <- median(x3)\n",
    "print('Prior median value for discretization prior')\n",
    "print(median_prior_dis)\n",
    "\n",
    "#Prior standard deviation\n",
    "mode <- function(x) {\n",
    "  ux <- unique(x)\n",
    "  tab <- tabulate(match(x, ux))\n",
    "  ux[tab == max(tab)]\n",
    "}\n",
    "\n",
    "mode_prior_dis <- mode(x3)\n",
    "print('Prior mode value for discretization prior')\n",
    "print(mode_prior_dis)"
   ]
  },
  {
   "cell_type": "code",
   "execution_count": 25,
   "metadata": {},
   "outputs": [
    {
     "name": "stderr",
     "output_type": "stream",
     "text": [
      "Loading required package: extraDistr\n"
     ]
    },
    {
     "name": "stdout",
     "output_type": "stream",
     "text": [
      "[1] \"Expected prior value for Beta prior\"\n",
      "[1] 485.704\n",
      "[1] \"Prior standard deviation value for Beta prior\"\n",
      "[1] 200.0971\n",
      "[1] \"Prior median value for Beta prior\"\n",
      "[1] 477.5\n",
      "[1] \"Prior mode value for Beta prior\"\n",
      "[1] 465\n"
     ]
    }
   ],
   "source": [
    "require(extraDistr)\n",
    "\n",
    "x2 <- rbbinom(N,n,alpha_0,beta_0)\n",
    "\n",
    "#Expected prior\n",
    "E_prior_beta <- mean(x2) \n",
    "print('Expected prior value for Beta prior')\n",
    "print(E_prior_beta)\n",
    "\n",
    "#Prior standard deviation\n",
    "sd_prior_beta <- sd(x2)\n",
    "print('Prior standard deviation value for Beta prior')\n",
    "print(sd_prior_beta)\n",
    "\n",
    "#Prior median\n",
    "median_prior_beta <- median(x2)\n",
    "print('Prior median value for Beta prior')\n",
    "print(median_prior_beta)\n",
    "\n",
    "#Prior standard deviation\n",
    "mode <- function(x) {\n",
    "  ux <- unique(x)\n",
    "  tab <- tabulate(match(x, ux))\n",
    "  ux[tab == max(tab)]\n",
    "}\n",
    "\n",
    "mode_prior_beta <- mode(x2)\n",
    "print('Prior mode value for Beta prior')\n",
    "print(mode_prior_beta)"
   ]
  },
  {
   "cell_type": "markdown",
   "metadata": {},
   "source": [
    "### 3.3"
   ]
  },
  {
   "cell_type": "markdown",
   "metadata": {
    "collapsed": true
   },
   "source": [
    "Simulate the posterior predictive pmf (given the observed data of 437 female births from 980 placenta previa births) with the nonconjugate piecewise linear pdf. Sample from the the discretization of the posterior pdf as in Exercise 2.\n",
    "\n",
    "Summarize the resulting simulated sample: plot the empirical pmf, compute median, mode, expectation, standard deviation. Compare the results with those obtained from the conjugate prior $\\mbox{Beta}(\\alpha_0,\\beta_0)$."
   ]
  },
  {
   "cell_type": "code",
   "execution_count": 6,
   "metadata": {},
   "outputs": [],
   "source": [
    "m<-0.485\n",
    "c<-0.100\n",
    "p.tails<-0.4  \n",
    "a<-0.5\n",
    "b<-5.0\n",
    "A<-a+b-(b*m)/c\n",
    "B<-a+b+(b*m)/c\n",
    "\n",
    "h<-function(t){\n",
    "    return(\n",
    "        a*(t>=0)*(t< m-c)\n",
    "        + (A + b*t/c)*(t>=m-c)*(t<m)\n",
    "        + (B - b*t/c)*(t>=m)*(t<m+c)\n",
    "        + a*(t>=m+c)*(t<1)\n",
    "    )\n",
    "}"
   ]
  },
  {
   "cell_type": "code",
   "execution_count": 8,
   "metadata": {},
   "outputs": [
    {
     "data": {
      "image/png": "[encoded data removed]",
      "text/plain": [
       "Plot with title \"Simulated post. pred. pmf with discr. method and piecewise prior\""
      ]
     },
     "metadata": {},
     "output_type": "display_data"
    }
   ],
   "source": [
    "n<-980\n",
    "x<-437\n",
    "N <- 1000\n",
    "t<-seq(0,1,length=999)\n",
    "#t<-t[-N]# remove last point (equal to 1: we want N intervals)\n",
    "X <- 0:(N-2)\n",
    "\n",
    "Lik<-function(x,theta,n){theta^x*(1-theta)^(n-x)}\n",
    "\n",
    "#piecewise\n",
    "nnpost_piecewise<-Lik(x,t,n)*h(t)\n",
    "\n",
    "dpost_piecewise<-nnpost_piecewise/sum(nnpost_piecewise)\n",
    "\n",
    "theta2 <-h.disc.rv(N,t,dpost_piecewise)\n",
    "\n",
    "x <- rbinom(N,n,theta2)\n",
    "\n",
    "F<-rep(0,length(X))\n",
    "for (i in X){\n",
    "    F[i]<-sum(x==X[i]) #add the succesful cases\n",
    "    }\n",
    "f<-F/N\n",
    "plot(X,f,,pch=19,cex=0.7,col=\"blue\",main=\"Simulated post. pred. pmf with discr. method and piecewise prior\",ylab=\"Rel. frequency\")"
   ]
  },
  {
   "cell_type": "code",
   "execution_count": 26,
   "metadata": {},
   "outputs": [
    {
     "name": "stdout",
     "output_type": "stream",
     "text": [
      "[1] \"Expected posterior value for discretization prior\"\n",
      "[1] 440.34\n",
      "[1] \"Posterior standard deviation value for discretization prior\"\n",
      "[1] 21.90548\n",
      "[1] \"Posterior median value for discretization prior\"\n",
      "[1] 440\n",
      "[1] \"Posterior mode value for discretization prior\"\n",
      "[1] 440\n"
     ]
    }
   ],
   "source": [
    "x <- 0:980\n",
    "N <- 1000\n",
    "n <- 980\n",
    "\n",
    "x4 <- rbinom(N, n, theta2)\n",
    "\n",
    "#Expected posterior\n",
    "E_post_dis <- mean(x4) \n",
    "print('Expected posterior value for discretization prior')\n",
    "print(E_post_dis)\n",
    "\n",
    "#Posterior standard deviation\n",
    "sd_post_dis <- sd(x4)\n",
    "print('Posterior standard deviation value for discretization prior')\n",
    "print(sd_post_dis)\n",
    "\n",
    "#Posterior median\n",
    "median_post_dis <- median(x4)\n",
    "print('Posterior median value for discretization prior')\n",
    "print(median_post_dis)\n",
    "\n",
    "#Posterior standard deviation\n",
    "mode <- function(x) {\n",
    "  ux <- unique(x)\n",
    "  tab <- tabulate(match(x, ux))\n",
    "  ux[tab == max(tab)]\n",
    "}\n",
    "\n",
    "mode_post_dis <- mode(x4)\n",
    "print('Posterior mode value for discretization prior')\n",
    "print(mode_post_dis)"
   ]
  },
  {
   "cell_type": "code",
   "execution_count": 30,
   "metadata": {},
   "outputs": [
    {
     "name": "stdout",
     "output_type": "stream",
     "text": [
      "[1] \"Expected posterior value for Beta prior\"\n",
      "[1] 480.391\n",
      "[1] \"Posterior standard deviation value for Beta prior\"\n",
      "[1] 287.3387\n",
      "[1] \"Posterior median value for Beta prior\"\n",
      "[1] 469\n",
      "[1] \"Posterior mode value for Beta prior\"\n",
      "[1] 120 885\n"
     ]
    }
   ],
   "source": [
    "require(extraDistr)\n",
    "\n",
    "x_hat <- 0:980\n",
    "n_hat <- 1000\n",
    "\n",
    "new_alpha <- alpha_0 + x_hat\n",
    "new_beta <- beta_0 + n_hat - x_hat\n",
    "\n",
    "x2 <- rbbinom(N,n_hat,new_alpha,new_beta)\n",
    "\n",
    "#Expected posterior\n",
    "E_posterior_beta <- mean(x2) \n",
    "print('Expected posterior value for Beta prior')\n",
    "print(E_posterior_beta)\n",
    "\n",
    "#Posterior standard deviation\n",
    "sd_posterior_beta <- sd(x2)\n",
    "print('Posterior standard deviation value for Beta prior')\n",
    "print(sd_posterior_beta)\n",
    "\n",
    "#Posterior median\n",
    "median_posterior_beta <- median(x2)\n",
    "print('Posterior median value for Beta prior')\n",
    "print(median_posterior_beta)\n",
    "\n",
    "#Posterior standard deviation\n",
    "mode <- function(x) {\n",
    "  ux <- unique(x)\n",
    "  tab <- tabulate(match(x, ux))\n",
    "  ux[tab == max(tab)]\n",
    "}\n",
    "\n",
    "mode_posterior_beta <- mode(x2)\n",
    "print('Posterior mode value for Beta prior')\n",
    "print(mode_posterior_beta)"
   ]
  }
 ],
 "metadata": {
  "kernelspec": {
   "display_name": "R",
   "language": "R",
   "name": "ir"
  },
  "language_info": {
   "codemirror_mode": "r",
   "file_extension": ".r",
   "mimetype": "text/x-r-source",
   "name": "R",
   "pygments_lexer": "r",
   "version": "3.5.1"
  }
 },
 "nbformat": 4,
 "nbformat_minor": 2
}
