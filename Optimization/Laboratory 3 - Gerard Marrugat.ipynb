{
 "cells": [
  {
   "cell_type": "markdown",
   "metadata": {},
   "source": [
    "Gerard Marrugat"
   ]
  },
  {
   "cell_type": "markdown",
   "metadata": {},
   "source": [
    "# Linear regression using robust functions"
   ]
  },
  {
   "cell_type": "markdown",
   "metadata": {},
   "source": [
    "## 1. Introduction"
   ]
  },
  {
   "cell_type": "code",
   "execution_count": 1,
   "metadata": {},
   "outputs": [],
   "source": [
    "import numpy as np\n",
    "import matplotlib.pyplot as plt\n",
    "import pandas as pd\n",
    "from matplotlib.lines import Line2D"
   ]
  },
  {
   "cell_type": "markdown",
   "metadata": {},
   "source": [
    "#### Execise 1"
   ]
  },
  {
   "cell_type": "markdown",
   "metadata": {},
   "source": [
    "Implement both methods, the standard and the perpendicular one using gradient descent with\n",
    "backtracking (or a small constant $\\alpha$ value)"
   ]
  },
  {
   "cell_type": "markdown",
   "metadata": {},
   "source": [
    "#### Vertical offsets"
   ]
  },
  {
   "cell_type": "code",
   "execution_count": 2,
   "metadata": {},
   "outputs": [],
   "source": [
    "#def Function(w,x,y):\n",
    "#     return((1/2)*np.dot(np.dot(w.T,x)-y,(np.dot(w.T,x)-y).T))\n",
    "    \n",
    "def Function(w,x,y):\n",
    "    \n",
    "    e = 0 \n",
    "    N = len(x)\n",
    "    \n",
    "    for i in range(0,N):\n",
    "        e += (w[0]*x[i]+w[1]-y[i])**2\n",
    "        \n",
    "    error = e/2\n",
    "    \n",
    "    return(error)\n",
    "    \n",
    "#def gradient(w,x,y):\n",
    "#    return(np.dot((np.dot(w.T,x)-y),x.T))\n",
    "\n",
    "def gradient(w,x,y):\n",
    "    \n",
    "    dQ = [0,0]\n",
    "    N = len(x)\n",
    "    dQ_dw0 = 0\n",
    "    dQ_dw1 = 0\n",
    "    \n",
    "    for i in range(N):\n",
    "        dQ_dw0 += (w[0]*x[i] + w[1] - y[i])*x[i]\n",
    "        \n",
    "    for j in range(N):\n",
    "        dQ_dw1 += (w[0]*x[i] + w[1] - y[i])\n",
    "    \n",
    "    dQ[0] = dQ_dw0\n",
    "    dQ[1] = dQ_dw1\n",
    "    return(dQ)\n",
    "    \n",
    "    "
   ]
  },
  {
   "cell_type": "code",
   "execution_count": 3,
   "metadata": {},
   "outputs": [],
   "source": [
    "def vertical_offset(wk,x,y):\n",
    "\n",
    "    wk_list = []\n",
    "    wk_list.append(wk)\n",
    "    alpha = 1\n",
    "    w_candidate = np.subtract(wk,alpha*np.array(gradient(wk,x,y)))\n",
    "\n",
    "    k = 0\n",
    "\n",
    "    while True:\n",
    "\n",
    "        alpha = 1\n",
    "\n",
    "        while(Function(w_candidate,x,y) >= Function(wk,x,y)):\n",
    "\n",
    "            alpha = alpha/2\n",
    "            w_candidate = np.subtract(wk,alpha*np.array(gradient(wk,x,y)))\n",
    "        \n",
    "    \n",
    "        wk_list.append(w_candidate.tolist())\n",
    "        wk = w_candidate\n",
    "        w_candidate = np.subtract(wk,alpha*np.array(gradient(wk,x,y)))\n",
    "        k+=1\n",
    "    \n",
    "        if (abs((Function(w_candidate,x,y) - Function(wk,x,y)))<(10**-3)):\n",
    "            print('Stopping criterion is satisfied: ',abs((Function(w_candidate,x,y)-Function(wk,x,y))))\n",
    "            break\n",
    "        \n",
    "    print('Number of steps needed to converge:',k)\n",
    "    print('The minimum reached is: ',w_candidate)\n",
    "    print('Error:',Function(w_candidate,x,y))\n",
    "    return(w_candidate)\n"
   ]
  },
  {
   "cell_type": "markdown",
   "metadata": {},
   "source": [
    "#### Perpendicular offsets"
   ]
  },
  {
   "cell_type": "code",
   "execution_count": 4,
   "metadata": {},
   "outputs": [],
   "source": [
    "def F_perp_offset(p,x,y):\n",
    "    \n",
    "    N = len(x)\n",
    "    e = 0\n",
    "    \n",
    "    for i in range(N):\n",
    "        e += ((p[0]*x[i]+p[1]*y[i]+p[2])**2)/(p[0]**2 + p[1]**2)\n",
    "        \n",
    "        error = e/2\n",
    "    return(error)\n",
    "    \n",
    "def grad_perp_offset(p,x,y):\n",
    "    dQ = [0,0,0]\n",
    "    N = len(x)\n",
    "    dQ_dw0 = 0\n",
    "    dQ_dw1 = 0\n",
    "    dQ_db = 0\n",
    "        \n",
    "    for i in range(N):\n",
    "        dQ_dw0 += ((p[0]*x[i]+p[1]*y[i]+p[2])/(p[0]**2 + p[1]**2))*x[i] - (((p[0]*x[i]+p[1]*y[i]+p[2])/(p[0]**2 + p[1]**2))**2)*p[0]\n",
    "        \n",
    "    for j in range(N):\n",
    "        dQ_dw1 += ((p[0]*x[j]+p[1]*y[j]+p[2])/(p[0]**2 + p[1]**2))*y[j] - (((p[0]*x[j]+p[1]*y[j]+p[2])/(p[0]**2 + p[1]**2))**2)*p[1]\n",
    "    \n",
    "    for k in range(N):\n",
    "        dQ_db += ((p[0]*x[k]+p[1]*y[k]+p[2])/(p[0]**2 + p[1]**2))\n",
    "    \n",
    "    dQ[0] = dQ_dw0\n",
    "    dQ[1] = dQ_dw1\n",
    "    dQ[2] = dQ_db\n",
    "    return(dQ)\n",
    "    "
   ]
  },
  {
   "cell_type": "code",
   "execution_count": 5,
   "metadata": {},
   "outputs": [],
   "source": [
    "def perp_offset(pk,x,y):\n",
    "\n",
    "    pk_list = []\n",
    "    pk_list.append(pk)\n",
    "\n",
    "    alpha = 0.0001\n",
    "    max_iter = 1000\n",
    "    k = 0\n",
    "    norm_ord = 2\n",
    "\n",
    "    p_candidate = np.subtract(pk,alpha*np.array(grad_perp_offset(pk,x,y)))\n",
    "    p_candidate = p_candidate/np.linalg.norm(p_candidate,norm_ord)\n",
    "\n",
    "    while True:\n",
    "\n",
    "   \n",
    "        p_candidate = np.subtract(pk,alpha*np.array(grad_perp_offset(pk,x,y)))\n",
    "        p_candidate = p_candidate/np.linalg.norm(p_candidate,norm_ord)\n",
    "        \n",
    "    \n",
    "        pk_list.append(p_candidate.tolist())\n",
    "    \n",
    "        k+=1\n",
    "    \n",
    "        if (abs(F_perp_offset(p_candidate,x,y) - F_perp_offset(pk,x,y))<(10**-3)):\n",
    "            print('Stopping criterion is satisfied: ',abs((F_perp_offset(p_candidate,x,y)-F_perp_offset(pk,x,y))))\n",
    "            break\n",
    "        \n",
    "        pk = p_candidate\n",
    "        p_candidate = np.subtract(pk,alpha*np.array(grad_perp_offset(pk,x,y)))\n",
    "        p_candidate = p_candidate/np.linalg.norm(p_candidate,norm_ord)\n",
    "        \n",
    "    print('The minimum reached is: ',p_candidate)\n",
    "    print('Norm',np.linalg.norm(p_candidate,norm_ord))\n",
    "    print('Error: ',F_perp_offset(p_candidate,x,y))\n",
    "    return(p_candidate)\n"
   ]
  },
  {
   "cell_type": "markdown",
   "metadata": {},
   "source": [
    "#### Exercise 2\n",
    "\n",
    "Continue with an experiment to see the difference between both models we have developed. In particular, we generate a random    set of values.\n",
    "\n",
    "   You may try with and angle of 0, 45 and 90 degrees. \n",
    "   Compute the parameters associated to both models we have presented and draw the lines\n",
    "   that have been obtained."
   ]
  },
  {
   "cell_type": "code",
   "execution_count": 6,
   "metadata": {},
   "outputs": [
    {
     "data": {
      "image/png": "[encoded data removed]",
      "text/plain": [
       "<Figure size 1080x360 with 3 Axes>"
      ]
     },
     "metadata": {},
     "output_type": "display_data"
    }
   ],
   "source": [
    "import math\n",
    "\n",
    "m = [0.,0.]\n",
    "angle_list = [0,45,90]\n",
    "\n",
    "fig, axs = plt.subplots(1,3,figsize=(15,5))\n",
    "\n",
    "for a in angle_list:\n",
    "    angle = a*math.pi/180\n",
    "    rot = np.array([[math.cos(angle), -math.sin(angle)], [math.sin(angle),\n",
    "    math.cos(angle)]])\n",
    "    lamb = np.array([[100,0],[0,1]])\n",
    "    s = np.matmul(rot, np.matmul(lamb, rot.transpose()))\n",
    "    c = np.random.multivariate_normal(m,s,100)\n",
    "\n",
    "    axs[angle_list.index(a)].plot(c[:,0],c[:,1],'ro')\n",
    "    axs[angle_list.index(a)].set_title(str(a)+' degrees')\n",
    "    axs[angle_list.index(a)].axis('equal')\n",
    "\n"
   ]
  },
  {
   "cell_type": "markdown",
   "metadata": {},
   "source": [
    "As it could be appreciatted in the plot above, the angle affects on the influence between coordinate x over y and vice versa. This fact is because the samples are randomly generated from a multivariate normal random variable, whose covariance matrix is generated in function of the value of the angle given.  "
   ]
  },
  {
   "cell_type": "markdown",
   "metadata": {},
   "source": [
    "#### **Angle = 0 degrees**"
   ]
  },
  {
   "cell_type": "code",
   "execution_count": 7,
   "metadata": {},
   "outputs": [],
   "source": [
    "m = [0.,0.]\n",
    "angle = 0*math.pi/180\n",
    "rot = np.array([[math.cos(angle), -math.sin(angle)], [math.sin(angle),\n",
    "math.cos(angle)]])\n",
    "lamb = np.array([[100,0],[0,1]])\n",
    "s = np.matmul(rot, np.matmul(lamb, rot.transpose()))\n",
    "c = np.random.multivariate_normal(m,s,100)"
   ]
  },
  {
   "cell_type": "markdown",
   "metadata": {},
   "source": [
    "#### Vertical offset"
   ]
  },
  {
   "cell_type": "code",
   "execution_count": 8,
   "metadata": {},
   "outputs": [
    {
     "name": "stdout",
     "output_type": "stream",
     "text": [
      "Stopping criterion is satisfied:  3.552713678800501e-14\n",
      "Number of steps needed to converge: 8\n",
      "The minimum reached is:  [-0.02297999 -0.07069137]\n",
      "Error: 53.67626357086614\n"
     ]
    },
    {
     "data": {
      "text/plain": [
       "[<matplotlib.lines.Line2D at 0x1a2ae9cdbe0>]"
      ]
     },
     "execution_count": 8,
     "metadata": {},
     "output_type": "execute_result"
    },
    {
     "data": {
      "image/png": "[encoded data removed]",
      "text/plain": [
       "<Figure size 432x288 with 1 Axes>"
      ]
     },
     "metadata": {},
     "output_type": "display_data"
    }
   ],
   "source": [
    "x = c[:,0]\n",
    "y = c[:,1]\n",
    "\n",
    "w = [0,1]\n",
    "\n",
    "\n",
    "w_candidate = vertical_offset(w,x,y)\n",
    "\n",
    "w0 = w_candidate[0]\n",
    "w1 = w_candidate[1]\n",
    "\n",
    "x = np.arange(np.min(c[:,0]),np.max(c[:,0]),0.01)\n",
    "\n",
    "Z = w0*x + w1\n",
    "plt.plot(c[:,0],c[:,1],'ro')\n",
    "plt.axis('equal')\n",
    "plt.plot(x,Z,'b')"
   ]
  },
  {
   "cell_type": "markdown",
   "metadata": {},
   "source": [
    "#### Perpendicular offset"
   ]
  },
  {
   "cell_type": "code",
   "execution_count": 9,
   "metadata": {},
   "outputs": [
    {
     "name": "stdout",
     "output_type": "stream",
     "text": [
      "Stopping criterion is satisfied:  0.0009833512326551386\n",
      "The minimum reached is:  [ 0.02065604  0.99883975 -0.0435027 ]\n",
      "Norm 0.9999999999999999\n",
      "Error:  52.62107607903768\n"
     ]
    },
    {
     "data": {
      "image/png": "[encoded data removed]",
      "text/plain": [
       "<Figure size 432x288 with 1 Axes>"
      ]
     },
     "metadata": {},
     "output_type": "display_data"
    }
   ],
   "source": [
    "x = c[:,0]\n",
    "y = c[:,1]\n",
    "\n",
    "pk = [0,1,0]\n",
    "\n",
    "p_candidate = perp_offset(pk,x,y)\n",
    "\n",
    "w0 = p_candidate[0]\n",
    "w1 = p_candidate[1]\n",
    "b = p_candidate[2]\n",
    "\n",
    "#x_in = np.arange(-15,15,1)\n",
    "\n",
    "#Z = (-w0*x_in -b)/w1\n",
    "\n",
    "plt.axis('equal')\n",
    "plt.plot(c[:,0],c[:,1],'r.')\n",
    "\n",
    "x = np.arange(np.min(c[:,0]),np.max(c[:,0]),0.01)\n",
    "y = np.arange(np.min(c[:,1]),np.max(c[:,1]),0.01)\n",
    "[X,Y] = np.meshgrid(x,y)\n",
    "Z = w0 * X + w1 * Y + b\n",
    "plt.contour(X,Y,Z,[0])\n",
    "\n",
    "plt.show()"
   ]
  },
  {
   "cell_type": "markdown",
   "metadata": {},
   "source": [
    "   #### **Angle = 45 degrees**"
   ]
  },
  {
   "cell_type": "code",
   "execution_count": 10,
   "metadata": {},
   "outputs": [],
   "source": [
    "import math\n",
    "\n",
    "m = [0.,0.]\n",
    "angle = 45*math.pi/180\n",
    "rot = np.array([[math.cos(angle), -math.sin(angle)], [math.sin(angle),\n",
    "math.cos(angle)]])\n",
    "lamb = np.array([[100,0],[0,1]])\n",
    "s = np.matmul(rot, np.matmul(lamb, rot.transpose()))\n",
    "c = np.random.multivariate_normal(m,s,100)"
   ]
  },
  {
   "cell_type": "markdown",
   "metadata": {},
   "source": [
    "#### Vertical offset"
   ]
  },
  {
   "cell_type": "code",
   "execution_count": 11,
   "metadata": {
    "scrolled": true
   },
   "outputs": [
    {
     "name": "stdout",
     "output_type": "stream",
     "text": [
      "Stopping criterion is satisfied:  0.00024088472947880746\n",
      "Number of steps needed to converge: 47\n",
      "The minimum reached is:  [0.96302917 0.7295029 ]\n",
      "Error: 109.36676742971541\n"
     ]
    },
    {
     "data": {
      "text/plain": [
       "[<matplotlib.lines.Line2D at 0x1a2aeca5940>]"
      ]
     },
     "execution_count": 11,
     "metadata": {},
     "output_type": "execute_result"
    },
    {
     "data": {
      "image/png": "[encoded data removed]",
      "text/plain": [
       "<Figure size 432x288 with 1 Axes>"
      ]
     },
     "metadata": {},
     "output_type": "display_data"
    }
   ],
   "source": [
    "x = c[:,0]\n",
    "y = c[:,1]\n",
    "\n",
    "w = [0,1]\n",
    "\n",
    "w_candidate = vertical_offset(w,x,y)\n",
    "\n",
    "w0 = w_candidate[0]\n",
    "w1 = w_candidate[1]\n",
    "\n",
    "x = np.arange(np.min(c[:,0]),np.max(c[:,0]),0.01)\n",
    "\n",
    "Z = w0*x + w1\n",
    "plt.plot(c[:,0],c[:,1],'ro')\n",
    "plt.axis('equal')\n",
    "plt.plot(x,Z,'b')"
   ]
  },
  {
   "cell_type": "markdown",
   "metadata": {},
   "source": [
    "#### Perpendicular offset"
   ]
  },
  {
   "cell_type": "code",
   "execution_count": 12,
   "metadata": {},
   "outputs": [
    {
     "name": "stdout",
     "output_type": "stream",
     "text": [
      "Stopping criterion is satisfied:  0.0007753118152322713\n",
      "The minimum reached is:  [-0.70683552  0.70737348  0.00251055]\n",
      "Norm 0.9999999999999999\n",
      "Error:  40.2274923251168\n"
     ]
    },
    {
     "data": {
      "image/png": "[encoded data removed]",
      "text/plain": [
       "<Figure size 432x288 with 1 Axes>"
      ]
     },
     "metadata": {},
     "output_type": "display_data"
    }
   ],
   "source": [
    "x = c[:,0]\n",
    "y = c[:,1]\n",
    "\n",
    "pk = [0,1,0]\n",
    "\n",
    "p_candidate = perp_offset(pk,x,y)\n",
    "\n",
    "w0 = p_candidate[0]\n",
    "w1 = p_candidate[1]\n",
    "b = p_candidate[2]\n",
    "\n",
    "#x_in = np.arange(-15,15,1)\n",
    "\n",
    "#Z = (-w0*x_in -b)/w1\n",
    "\n",
    "plt.axis('equal')\n",
    "plt.plot(c[:,0],c[:,1],'r.')\n",
    "\n",
    "x = np.arange(np.min(c[:,0]),np.max(c[:,0]),0.01)\n",
    "y = np.arange(np.min(c[:,1]),np.max(c[:,1]),0.01)\n",
    "[X,Y] = np.meshgrid(x,y)\n",
    "Z = w0 * X + w1 * Y + b\n",
    "plt.contour(X,Y,Z,[0])\n",
    "\n",
    "plt.show()"
   ]
  },
  {
   "cell_type": "markdown",
   "metadata": {},
   "source": [
    "#### **Angle = 90 degrees**"
   ]
  },
  {
   "cell_type": "code",
   "execution_count": 13,
   "metadata": {},
   "outputs": [],
   "source": [
    "import math\n",
    "\n",
    "m = [0.,0.]\n",
    "angle = 90*math.pi/180\n",
    "rot = np.array([[math.cos(angle), -math.sin(angle)], [math.sin(angle),\n",
    "math.cos(angle)]])\n",
    "lamb = np.array([[100,0],[0,1]])\n",
    "s = np.matmul(rot, np.matmul(lamb, rot.transpose()))\n",
    "c = np.random.multivariate_normal(m,s,100)"
   ]
  },
  {
   "cell_type": "markdown",
   "metadata": {},
   "source": [
    "#### Vertical offset"
   ]
  },
  {
   "cell_type": "code",
   "execution_count": 14,
   "metadata": {
    "scrolled": true
   },
   "outputs": [
    {
     "name": "stdout",
     "output_type": "stream",
     "text": [
      "Stopping criterion is satisfied:  9.094947017729282e-13\n",
      "Number of steps needed to converge: 2\n",
      "The minimum reached is:  [ 0.58422501 -1.41187088]\n",
      "Error: 5943.177640341427\n"
     ]
    },
    {
     "data": {
      "text/plain": [
       "[<matplotlib.lines.Line2D at 0x1a2aed165c0>]"
      ]
     },
     "execution_count": 14,
     "metadata": {},
     "output_type": "execute_result"
    },
    {
     "data": {
      "image/png": "[encoded data removed]",
      "text/plain": [
       "<Figure size 432x288 with 1 Axes>"
      ]
     },
     "metadata": {},
     "output_type": "display_data"
    }
   ],
   "source": [
    "x = c[:,0]\n",
    "y = c[:,1]\n",
    "\n",
    "w = [1,0]\n",
    "\n",
    "\n",
    "w_candidate = vertical_offset(w,x,y)\n",
    "\n",
    "w0 = w_candidate[0]\n",
    "w1 = w_candidate[1]\n",
    "\n",
    "x = np.arange(np.min(c[:,0]),np.max(c[:,0]),0.01)\n",
    "y = np.arange(np.min(c[:,0]),np.max(c[:,0]),0.01)\n",
    "\n",
    "Z = w0*x + w1\n",
    "plt.plot(c[:,0],c[:,1],'ro')\n",
    "plt.axis('equal')\n",
    "plt.plot(x,Z,'b')"
   ]
  },
  {
   "cell_type": "markdown",
   "metadata": {},
   "source": [
    "In this case (angle = 90 degrees), vertical offset minimizes the error caused by the vertical difference between the predicted value $(w_0x+w_1)$ and real value $y$. This is done for all the samples, and that is the reason why the regression line is approximately horizontal."
   ]
  },
  {
   "cell_type": "markdown",
   "metadata": {},
   "source": [
    "#### Perpendicular offset"
   ]
  },
  {
   "cell_type": "code",
   "execution_count": 15,
   "metadata": {},
   "outputs": [
    {
     "name": "stdout",
     "output_type": "stream",
     "text": [
      "Stopping criterion is satisfied:  0.0009974054345605055\n",
      "The minimum reached is:  [ 0.99979251  0.00154919 -0.0203112 ]\n",
      "Norm 1.0\n",
      "Error:  43.6187391478141\n"
     ]
    },
    {
     "data": {
      "image/png": "[encoded data removed]",
      "text/plain": [
       "<Figure size 432x288 with 1 Axes>"
      ]
     },
     "metadata": {},
     "output_type": "display_data"
    }
   ],
   "source": [
    "x = c[:,0]\n",
    "y = c[:,1]\n",
    "\n",
    "pk = [0,1,0]\n",
    "\n",
    "p_candidate = perp_offset(pk,x,y)\n",
    "\n",
    "w0 = p_candidate[0]\n",
    "w1 = p_candidate[1]\n",
    "b = p_candidate[2]\n",
    "\n",
    "#x_in = np.arange(-15,15,1)\n",
    "\n",
    "#Z = (-w0*x_in -b)/w1\n",
    "\n",
    "plt.axis('equal')\n",
    "plt.plot(c[:,0],c[:,1],'r.')\n",
    "\n",
    "x = np.arange(np.min(c[:,0]),np.max(c[:,0]),0.01)\n",
    "y = np.arange(np.min(c[:,1]),np.max(c[:,1]),0.01)\n",
    "[X,Y] = np.meshgrid(x,y)\n",
    "Z = w0 * X + w1 * Y + b\n",
    "plt.contour(X,Y,Z,[0])\n",
    "\n",
    "plt.show()"
   ]
  },
  {
   "cell_type": "markdown",
   "metadata": {},
   "source": [
    "Values $w0$,$w1$ and $b$ get so small due the condition that the norm of the vector formed by these three components should be one, $p = (w0,w1,b)$, $||p|| = 1$."
   ]
  },
  {
   "cell_type": "markdown",
   "metadata": {},
   "source": [
    "## Ascombe´s dataset"
   ]
  },
  {
   "cell_type": "code",
   "execution_count": 6,
   "metadata": {},
   "outputs": [
    {
     "data": {
      "image/png": "[encoded data removed]",
      "text/plain": [
       "<Figure size 432x288 with 1 Axes>"
      ]
     },
     "metadata": {},
     "output_type": "display_data"
    },
    {
     "data": {
      "image/png": "[encoded data removed]",
      "text/plain": [
       "<Figure size 432x288 with 1 Axes>"
      ]
     },
     "metadata": {},
     "output_type": "display_data"
    },
    {
     "data": {
      "image/png": "[encoded data removed]",
      "text/plain": [
       "<Figure size 432x288 with 1 Axes>"
      ]
     },
     "metadata": {},
     "output_type": "display_data"
    },
    {
     "data": {
      "image/png": "[encoded data removed]",
      "text/plain": [
       "<Figure size 432x288 with 1 Axes>"
      ]
     },
     "metadata": {},
     "output_type": "display_data"
    }
   ],
   "source": [
    "dataset1 = pd.read_csv('Dataset\\Anscombe\\data_set1.txt', sep='\\t', header = None)\n",
    "dataset2 = pd.read_csv('Dataset\\Anscombe\\data_set2.txt', sep='\\t', header = None)\n",
    "dataset3 = pd.read_csv('Dataset\\Anscombe\\data_set3.txt', sep='\\t', header = None)\n",
    "dataset4 = pd.read_csv('Dataset\\Anscombe\\data_set4.txt', sep='\\t', header = None)\n",
    "\n",
    "\n",
    "x = dataset1[0].values\n",
    "y = dataset1[1].values\n",
    "\n",
    "plt.title('Dataset 1')\n",
    "plt.plot(x,y,'ro')\n",
    "plt.show()\n",
    "\n",
    "x = dataset2[0].values\n",
    "y = dataset2[1].values\n",
    "\n",
    "plt.title('Dataset 2')\n",
    "plt.plot(x,y,'go')\n",
    "plt.show()\n",
    "\n",
    "x = dataset3[0].values\n",
    "y = dataset3[1].values\n",
    "\n",
    "plt.title('Dataset 3')\n",
    "plt.plot(x,y,'co')\n",
    "plt.show()\n",
    "\n",
    "x = dataset4[0].values\n",
    "y = dataset4[1].values\n",
    "\n",
    "plt.title('Dataset 4')\n",
    "plt.plot(x,y,'yo')\n",
    "plt.show()"
   ]
  },
  {
   "cell_type": "markdown",
   "metadata": {},
   "source": [
    "We have already seen each dataset plotted, but let´s comment them thoroughly to achieve a deeper understanding.\n",
    "\n",
    "$\\underline{Dataset\\ 1}$\n",
    "\n",
    "Random samples from what could be a linear function with vertical noise added.\n",
    "\n",
    "$\\underline{Dataset\\ 2}$\n",
    "\n",
    "The dots in the plot seem to fit with the behaviour of a quadratic function.\n",
    "\n",
    "$\\underline{Dataset\\ 3}$\n",
    "\n",
    "The plot shows us the behaviour of a linear function but one of the samples does not follow the behaviour of the rest of the dataset. This special sample is an outlier in the dataset.\n",
    "\n",
    "$\\underline{Dataset\\ 4}$\n",
    "\n",
    "It is clearly a vertical line when the x-axis is equal to eight but as happened in the dataset 3, there is also an outlier that does not follow the same behaviour of the rest of the samples. "
   ]
  },
  {
   "cell_type": "markdown",
   "metadata": {},
   "source": [
    "$\\underline{Dataset\\ 1}$"
   ]
  },
  {
   "cell_type": "code",
   "execution_count": 27,
   "metadata": {},
   "outputs": [
    {
     "name": "stdout",
     "output_type": "stream",
     "text": [
      "Stopping criterion is satisfied:  0.0009512844042740554\n",
      "Number of steps needed to converge: 186\n",
      "The minimum reached is:  [0.50753109 2.9181355 ]\n",
      "Error: 6.885626072567283\n",
      "Stopping criterion is satisfied:  0.0009485530936972353\n",
      "The minimum reached is:  [-0.62265034  0.77981635 -0.06475354]\n",
      "Norm 1.0\n",
      "Error:  7.372666722678271\n"
     ]
    },
    {
     "data": {
      "image/png": "[encoded data removed]",
      "text/plain": [
       "<Figure size 432x288 with 1 Axes>"
      ]
     },
     "metadata": {},
     "output_type": "display_data"
    }
   ],
   "source": [
    "#Vertical\n",
    "\n",
    "x = dataset1[0].values\n",
    "y = dataset1[1].values\n",
    "\n",
    "wk = [1,0]\n",
    "\n",
    "w_candidate = vertical_offset(wk,x,y)\n",
    "\n",
    "w0 = w_candidate[0]\n",
    "w1 = w_candidate[1]\n",
    "\n",
    "x_in = np.arange(np.min(x),np.max(x),0.01)\n",
    "\n",
    "Z = w0*x_in + w1\n",
    "\n",
    "plt.plot(x,y,'ro')\n",
    "plt.axis('equal')\n",
    "plt.plot(x_in,Z,'b', label = 'Vertical')\n",
    "#plt.legend()\n",
    "\n",
    "#Perpendicular\n",
    "pk = [0,1,0]\n",
    "\n",
    "p_candidate = perp_offset(pk,x,y)\n",
    "\n",
    "w0 = p_candidate[0]\n",
    "w1 = p_candidate[1]\n",
    "b = p_candidate[2]\n",
    "\n",
    "\n",
    "x = np.arange(np.min(x),np.max(x),0.01)\n",
    "y = np.arange(np.min(y),np.max(y),0.01)\n",
    "[X,Y] = np.meshgrid(x,y)\n",
    "Z = w0 * X + w1 * Y + b\n",
    "\n",
    "cntr_perp = plt.contour(X,Y,Z,[0])\n",
    "\n",
    "nm, lbl = cntr_perp.legend_elements()\n",
    "\n",
    "#plt.legend(title= 'Perpendicular', fontsize= 8) \n",
    "custom_lines = [Line2D([0], [0], color='blue', lw=4),\n",
    "                Line2D([0], [0], color='purple', lw=4)]\n",
    "\n",
    "plt.legend(custom_lines, ['Vertical', 'Perpendicular'],loc = \"upper left\")\n",
    "\n",
    "plt.show()\n"
   ]
  },
  {
   "cell_type": "markdown",
   "metadata": {},
   "source": [
    "$\\underline{Dataset\\ 2}$"
   ]
  },
  {
   "cell_type": "code",
   "execution_count": 70,
   "metadata": {},
   "outputs": [
    {
     "name": "stdout",
     "output_type": "stream",
     "text": [
      "Stopping criterion is satisfied:  0.0009987561475952589\n",
      "Number of steps needed to converge: 298\n",
      "The minimum reached is:  [0.65283685 1.44008533]\n",
      "Error: 8.361728518452122\n",
      "Stopping criterion is satisfied:  0.000948652814864559\n",
      "The minimum reached is:  [-0.62264996  0.77981658 -0.06475433]\n",
      "Norm 1.0000000000000002\n",
      "Error:  7.378641198619376\n"
     ]
    },
    {
     "data": {
      "image/png": "[encoded data removed]",
      "text/plain": [
       "<Figure size 432x288 with 1 Axes>"
      ]
     },
     "metadata": {},
     "output_type": "display_data"
    }
   ],
   "source": [
    "#Vertical\n",
    "\n",
    "x = dataset2[0].values\n",
    "y = dataset2[1].values\n",
    "\n",
    "wk = [1,0]\n",
    "\n",
    "w_candidate = vertical_offset(wk,x,y)\n",
    "\n",
    "w0 = w_candidate[0]\n",
    "w1 = w_candidate[1]\n",
    "\n",
    "x_in = np.arange(np.min(x),np.max(x),0.01)\n",
    "\n",
    "Z = w0*x_in + w1\n",
    "plt.plot(x,y,'ro')\n",
    "plt.axis('equal')\n",
    "plt.plot(x_in,Z,'b', label = 'Vertical')\n",
    "#plt.legend()\n",
    "\n",
    "#Perpendicular\n",
    "pk = [0,1,0]\n",
    "\n",
    "p_candidate = perp_offset(pk,x,y)\n",
    "\n",
    "w0 = p_candidate[0]\n",
    "w1 = p_candidate[1]\n",
    "b = p_candidate[2]\n",
    "\n",
    "x_in = np.arange(np.min(x),np.max(x),0.01)\n",
    "y_in = np.arange(np.min(y),np.max(y),0.01)\n",
    "[X,Y] = np.meshgrid(x_in,y_in)\n",
    "Z = w0 * X + w1 * Y + b\n",
    "\n",
    "cntr_perp = plt.contour(X,Y,Z,[0])\n",
    "\n",
    "nm, lbl = cntr_perp.legend_elements()\n",
    "\n",
    "custom_lines = [Line2D([0], [0], color='blue', lw=4),\n",
    "                Line2D([0], [0], color='purple', lw=4)]\n",
    "\n",
    "plt.legend(custom_lines, ['Vertical', 'Perpendicular'],loc = \"upper left\")\n",
    "\n",
    "plt.show()\n"
   ]
  },
  {
   "cell_type": "markdown",
   "metadata": {},
   "source": [
    "$\\underline{Dataset\\ 3}$"
   ]
  },
  {
   "cell_type": "code",
   "execution_count": 71,
   "metadata": {},
   "outputs": [
    {
     "name": "stdout",
     "output_type": "stream",
     "text": [
      "Stopping criterion is satisfied:  9.040534041382386e-05\n",
      "Number of steps needed to converge: 151\n",
      "The minimum reached is:  [0.49876238 3.01527955]\n",
      "Error: 6.878241425888098\n",
      "Stopping criterion is satisfied:  0.0009500092255505521\n",
      "The minimum reached is:  [-0.62259003  0.77986419 -0.06475723]\n",
      "Norm 1.0\n",
      "Error:  7.376704876687373\n"
     ]
    },
    {
     "data": {
      "image/png": "[encoded data removed]",
      "text/plain": [
       "<Figure size 432x288 with 1 Axes>"
      ]
     },
     "metadata": {},
     "output_type": "display_data"
    }
   ],
   "source": [
    "#Vertical\n",
    "\n",
    "x = dataset3[0].values\n",
    "y = dataset3[1].values\n",
    "\n",
    "wk = [1,0]\n",
    "\n",
    "w_candidate = vertical_offset(wk,x,y)\n",
    "\n",
    "w0 = w_candidate[0]\n",
    "w1 = w_candidate[1]\n",
    "\n",
    "x_in = np.arange(np.min(x),np.max(x),0.01)\n",
    "\n",
    "Z = w0*x_in + w1\n",
    "plt.plot(x,y,'ro')\n",
    "plt.axis('equal')\n",
    "plt.plot(x_in,Z,'b', label = 'Vertical')\n",
    "#plt.legend()\n",
    "\n",
    "#Perpendicular\n",
    "pk = [0,1,0]\n",
    "\n",
    "p_candidate = perp_offset(pk,x,y)\n",
    "\n",
    "w0 = p_candidate[0]\n",
    "w1 = p_candidate[1]\n",
    "b = p_candidate[2]\n",
    "\n",
    "x_in = np.arange(np.min(x),np.max(x),0.01)\n",
    "y_in = np.arange(np.min(y),np.max(y),0.01)\n",
    "[X,Y] = np.meshgrid(x_in,y_in)\n",
    "Z = w0 * X + w1 * Y + b\n",
    "\n",
    "cntr_perp = plt.contour(X,Y,Z,[0])\n",
    "\n",
    "nm, lbl = cntr_perp.legend_elements()\n",
    "\n",
    "custom_lines = [Line2D([0], [0], color='blue', lw=4),\n",
    "                Line2D([0], [0], color='purple', lw=4)]\n",
    "\n",
    "plt.legend(custom_lines, ['Vertical', 'Perpendicular'],loc = \"upper left\")\n",
    "\n",
    "plt.show()\n"
   ]
  },
  {
   "cell_type": "markdown",
   "metadata": {},
   "source": [
    "$\\underline{Dataset\\ 4}$"
   ]
  },
  {
   "cell_type": "code",
   "execution_count": 72,
   "metadata": {},
   "outputs": [
    {
     "name": "stdout",
     "output_type": "stream",
     "text": [
      "Stopping criterion is satisfied:  0.000994620690969228\n",
      "Number of steps needed to converge: 516\n",
      "The minimum reached is:  [0.57421113 2.23136212]\n",
      "Error: 7.231715008399476\n",
      "Stopping criterion is satisfied:  0.0009493404042908438\n",
      "The minimum reached is:  [-0.62263821  0.77982552 -0.06475969]\n",
      "Norm 0.9999999999999999\n",
      "Error:  7.370162050045597\n"
     ]
    },
    {
     "data": {
      "image/png": "[encoded data removed]",
      "text/plain": [
       "<Figure size 432x288 with 1 Axes>"
      ]
     },
     "metadata": {},
     "output_type": "display_data"
    }
   ],
   "source": [
    "#Vertical\n",
    "\n",
    "x = dataset4[0].values\n",
    "y = dataset4[1].values\n",
    "\n",
    "wk = [1,0]\n",
    "\n",
    "w_candidate = vertical_offset(wk,x,y)\n",
    "\n",
    "w0 = w_candidate[0]\n",
    "w1 = w_candidate[1]\n",
    "\n",
    "x_in = np.arange(np.min(x),np.max(x),0.01)\n",
    "\n",
    "Z = w0*x_in + w1\n",
    "plt.plot(x,y,'ro')\n",
    "plt.axis('equal')\n",
    "plt.plot(x_in,Z,'b', label = 'Vertical')\n",
    "#plt.legend()\n",
    "\n",
    "#Perpendicular\n",
    "pk = [0,1,0]\n",
    "\n",
    "p_candidate = perp_offset(pk,x,y)\n",
    "\n",
    "w0 = p_candidate[0]\n",
    "w1 = p_candidate[1]\n",
    "b = p_candidate[2]\n",
    "\n",
    "x_in = np.arange(np.min(x),np.max(x),0.01)\n",
    "y_in = np.arange(np.min(y),np.max(y),0.01)\n",
    "[X,Y] = np.meshgrid(x_in,y_in)\n",
    "Z = w0 * X + w1 * Y + b\n",
    "\n",
    "cntr_perp = plt.contour(X,Y,Z,[0])\n",
    "\n",
    "nm, lbl = cntr_perp.legend_elements()\n",
    "\n",
    "custom_lines = [Line2D([0], [0], color='blue', lw=4),\n",
    "                Line2D([0], [0], color='purple', lw=4)]\n",
    "\n",
    "plt.legend(custom_lines, ['Vertical', 'Perpendicular'],loc = \"upper left\")\n",
    "\n",
    "plt.show()\n"
   ]
  },
  {
   "cell_type": "markdown",
   "metadata": {},
   "source": [
    "Due the presence of outliers, the last two prediction models does not seem to be good candidates to each scenario. The origin of the influence of the outliers over the final prediction model is because the function to be minimized (least square error) returns a large value for the outliers, and consequently the estimated parameters are influenced by this value."
   ]
  },
  {
   "cell_type": "markdown",
   "metadata": {},
   "source": [
    "## 2. Robust function"
   ]
  },
  {
   "cell_type": "markdown",
   "metadata": {},
   "source": [
    "#### Exercise 1\n",
    "\n",
    "Plot the least squares function, $\\rho(u) = \\frac{1}{2}u^2$, and compare it with the Cauchy function, Eq.\n",
    "(2), in order to see the “importance” that is given to each prediction error u. You may, for\n",
    "instance, plot the function $\\rho(u)$ for $|u| \\geq 10$."
   ]
  },
  {
   "cell_type": "code",
   "execution_count": 9,
   "metadata": {},
   "outputs": [],
   "source": [
    "def lse(e):\n",
    "    r = 0.5*e**2\n",
    "    return(r)\n",
    "\n",
    "def cauchy(e):\n",
    "    r = 0.5*np.log(1+(e)**2)\n",
    "    return(r)"
   ]
  },
  {
   "cell_type": "code",
   "execution_count": 10,
   "metadata": {},
   "outputs": [
    {
     "data": {
      "text/plain": [
       "<matplotlib.legend.Legend at 0x17f9e157390>"
      ]
     },
     "execution_count": 10,
     "metadata": {},
     "output_type": "execute_result"
    },
    {
     "data": {
      "image/png": "[encoded data removed]",
      "text/plain": [
       "<Figure size 432x288 with 1 Axes>"
      ]
     },
     "metadata": {},
     "output_type": "display_data"
    }
   ],
   "source": [
    "e = np.arange(-10,11,1)\n",
    "\n",
    "lse_error = lse(e)\n",
    "\n",
    "cauchy_error = cauchy(e)\n",
    "\n",
    "plt.plot(e,lse_error,label='Least Square Error')\n",
    "plt.plot(e,cauchy_error,label='Cauchy Error')\n",
    "plt.legend()"
   ]
  },
  {
   "cell_type": "markdown",
   "metadata": {},
   "source": [
    "Observing the previous plot we can conclude that least square method is very strict when a sample is not well predicted or when an outlier appears, and penalizes with a large error. For example, imagine that we have five samples, four are well predicted and one does not. The correct ones have a prediction error 1, which value with the least square error, $\\rho(u) = \\frac{1}{2}u^2$, is $0.5$. The mispredicted has a prediction error equal to $10$, which value using least square error is $50$. Then, the contribution to the total error of this set is not the same for each sample, the erratic prediction contributes more than the rest. This is the explanation why an outlier has a large square error.  \n",
    "On the contrary, Cauchy function tries not to give too much importance too single erratic prediction but it does to the global of them."
   ]
  },
  {
   "cell_type": "markdown",
   "metadata": {},
   "source": [
    "#### Exercise 2\n",
    "\n",
    "Compute the parameters for both models using the Cauchy function. Plot the results and and compare them with the results you obtained with the least squares\n",
    "method.\n"
   ]
  },
  {
   "cell_type": "code",
   "execution_count": 7,
   "metadata": {},
   "outputs": [],
   "source": [
    "def F_vert_Cauchy(w,x,y):\n",
    "    \n",
    "    r = 0\n",
    "    u = 0\n",
    "    N = len(x)\n",
    "    \n",
    "    for i in range(N):\n",
    "        u = (w[0]*x[i]+w[1] - y[i])\n",
    "        \n",
    "        r+= 0.5*np.log(1+(u)**2)\n",
    "        \n",
    "    return(r)\n",
    "    \n",
    "#calculate the gradient for the Cauchy    \n",
    "def gradient_vert_Cauchy(w,x,y):\n",
    "    \n",
    "    dQ = [0,0]\n",
    "    dQ_dw0 = 0\n",
    "    dQ_dw1 = 0\n",
    "    \n",
    "    N = len(x)\n",
    "    \n",
    "    for i in range(N):\n",
    "        dQ_dw0 += (w[0]*x[i]+w[1] - y[i])*x[i]/(1+(w0*x[i]+w[1]-y[i])**2)\n",
    "        \n",
    "    for j in range(N):\n",
    "        dQ_dw1 += (w[0]*x[j]+w[1] - y[j])/(1+(w0*x[j]+w[1]-y[j])**2)\n",
    "    \n",
    "    dQ[0] = dQ_dw0\n",
    "    dQ[1] = dQ_dw1\n",
    "    \n",
    "    return(dQ)"
   ]
  },
  {
   "cell_type": "code",
   "execution_count": 8,
   "metadata": {},
   "outputs": [],
   "source": [
    "def vertical_offset_Cauchy(wk,x,y):\n",
    "    \n",
    "    #x_augmented = np.c_[np.ones((x.shape[0],1)),x].T\n",
    "\n",
    "    wk_list = []\n",
    "    wk_list.append(wk)\n",
    "    alpha = 1/10000\n",
    "    w_candidate = np.subtract(wk,alpha*np.array(gradient_vert_Cauchy(wk,x,y)))\n",
    "\n",
    "    k = 0\n",
    "\n",
    "    while True:\n",
    "\n",
    "    \n",
    "        w_candidate = np.subtract(wk,alpha*np.array(gradient_vert_Cauchy(wk,x,y)))\n",
    "        \n",
    "    \n",
    "        wk_list.append(w_candidate.tolist())\n",
    "        wk = w_candidate\n",
    "        w_candidate = np.subtract(wk,alpha*np.array(gradient_vert_Cauchy(wk,x,y)))\n",
    "        k+=1\n",
    "    \n",
    "        if (abs((F_vert_Cauchy(w_candidate,x,y) - F_vert_Cauchy(wk,x,y)))<(10**-3)):\n",
    "            print('Stopping criterion is satisfied: ',abs((F_vert_Cauchy(w_candidate,x,y)-F_vert_Cauchy(wk,x,y))))\n",
    "            break\n",
    "        \n",
    "    print('Number of steps needed to converge:',k)\n",
    "    print('The minimum reached is: ',w_candidate)\n",
    "    print('Error:',F_vert_Cauchy(w_candidate,x,y))\n",
    "    return(w_candidate)"
   ]
  },
  {
   "cell_type": "markdown",
   "metadata": {},
   "source": [
    "#### Vertical offset method"
   ]
  },
  {
   "cell_type": "markdown",
   "metadata": {},
   "source": [
    "$\\underline{Dataset\\ 1}$"
   ]
  },
  {
   "cell_type": "code",
   "execution_count": 12,
   "metadata": {
    "scrolled": true
   },
   "outputs": [
    {
     "name": "stdout",
     "output_type": "stream",
     "text": [
      "Stopping criterion is satisfied:  0.0007231397421527674\n",
      "Number of steps needed to converge: 123\n",
      "The minimum reached is:  [0.56936988 2.46609862]\n",
      "Error: 7.189396186326675\n",
      "Stopping criterion is satisfied:  0.000512847239124703\n",
      "Number of steps needed to converge: 75\n",
      "The minimum reached is:  [ 0.82141566 -0.10122507]\n",
      "Error: 5.233242675804567\n"
     ]
    },
    {
     "data": {
      "text/plain": [
       "<matplotlib.legend.Legend at 0x200acb88b38>"
      ]
     },
     "execution_count": 12,
     "metadata": {},
     "output_type": "execute_result"
    },
    {
     "data": {
      "image/png": "[encoded data removed]",
      "text/plain": [
       "<Figure size 432x288 with 1 Axes>"
      ]
     },
     "metadata": {},
     "output_type": "display_data"
    }
   ],
   "source": [
    "#Vertical\n",
    "\n",
    "x = dataset1[0].values\n",
    "y = dataset1[1].values\n",
    "\n",
    "wk = [2,0]\n",
    "\n",
    "w_candidate = vertical_offset(wk,x,y)\n",
    "\n",
    "w0 = w_candidate[0]\n",
    "w1 = w_candidate[1]\n",
    "\n",
    "w_candidate_Cauchy = vertical_offset_Cauchy(wk,x,y)\n",
    "\n",
    "w0_C = w_candidate_Cauchy[0]\n",
    "w1_C = w_candidate_Cauchy[1]\n",
    "\n",
    "x_in = np.arange(np.min(x),np.max(x),0.01)\n",
    "\n",
    "Z = w0*x_in + w1\n",
    "Z_C = w0_C*x_in + w1_C\n",
    "plt.plot(x,y,'ro')\n",
    "plt.axis('equal')\n",
    "plt.plot(x_in,Z,'b', label = 'LSE')\n",
    "plt.plot(x_in,Z_C,'y', label = 'Cauchy')\n",
    "plt.legend()\n"
   ]
  },
  {
   "cell_type": "markdown",
   "metadata": {},
   "source": [
    "$\\underline{Dataset\\ 2}$"
   ]
  },
  {
   "cell_type": "code",
   "execution_count": 13,
   "metadata": {},
   "outputs": [
    {
     "name": "stdout",
     "output_type": "stream",
     "text": [
      "Stopping criterion is satisfied:  0.0009987561475952589\n",
      "Number of steps needed to converge: 298\n",
      "The minimum reached is:  [0.65283685 1.44008533]\n",
      "Error: 8.361728518452122\n",
      "Stopping criterion is satisfied:  0.0009596756322736155\n",
      "Number of steps needed to converge: 129\n",
      "The minimum reached is:  [ 0.71433564 -0.0123481 ]\n",
      "Error: 6.414197245527247\n"
     ]
    },
    {
     "data": {
      "text/plain": [
       "<matplotlib.legend.Legend at 0x200acb2cba8>"
      ]
     },
     "execution_count": 13,
     "metadata": {},
     "output_type": "execute_result"
    },
    {
     "data": {
      "image/png": "[encoded data removed]",
      "text/plain": [
       "<Figure size 432x288 with 1 Axes>"
      ]
     },
     "metadata": {},
     "output_type": "display_data"
    }
   ],
   "source": [
    "#Vertical\n",
    "\n",
    "x = dataset2[0].values\n",
    "y = dataset2[1].values\n",
    "\n",
    "wk = [1,0]\n",
    "\n",
    "w_candidate = vertical_offset(wk,x,y)\n",
    "\n",
    "w0 = w_candidate[0]\n",
    "w1 = w_candidate[1]\n",
    "\n",
    "w_candidate_Cauchy = vertical_offset_Cauchy(wk,x,y)\n",
    "\n",
    "w0_C = w_candidate_Cauchy[0]\n",
    "w1_C = w_candidate_Cauchy[1]\n",
    "\n",
    "x_in = np.arange(np.min(x),np.max(x),0.01)\n",
    "\n",
    "Z = w0*x_in + w1\n",
    "Z_C = w0_C*x_in + w1_C\n",
    "plt.plot(x,y,'ro')\n",
    "plt.axis('equal')\n",
    "plt.plot(x_in,Z,'b', label = 'LSE')\n",
    "plt.plot(x_in,Z_C,'y', label = 'Cauchy')\n",
    "plt.legend()\n"
   ]
  },
  {
   "cell_type": "markdown",
   "metadata": {},
   "source": [
    "$\\underline{Dataset\\ 3}$"
   ]
  },
  {
   "cell_type": "code",
   "execution_count": 14,
   "metadata": {},
   "outputs": [
    {
     "name": "stdout",
     "output_type": "stream",
     "text": [
      "Stopping criterion is satisfied:  0.0009201477884381859\n",
      "Number of steps needed to converge: 175\n",
      "The minimum reached is:  [0.45167858 3.52304317]\n",
      "Error: 7.047810845110713\n",
      "Stopping criterion is satisfied:  0.0009483004357899727\n",
      "Number of steps needed to converge: 138\n",
      "The minimum reached is:  [0.37986576 3.8174848 ]\n",
      "Error: 1.5235715798503506\n"
     ]
    },
    {
     "data": {
      "text/plain": [
       "<matplotlib.legend.Legend at 0x200ac86c1d0>"
      ]
     },
     "execution_count": 14,
     "metadata": {},
     "output_type": "execute_result"
    },
    {
     "data": {
      "image/png": "[encoded data removed]",
      "text/plain": [
       "<Figure size 432x288 with 1 Axes>"
      ]
     },
     "metadata": {},
     "output_type": "display_data"
    }
   ],
   "source": [
    "#Vertical\n",
    "\n",
    "x = dataset3[0].values\n",
    "y = dataset3[1].values\n",
    "\n",
    "wk = [2,4]\n",
    "\n",
    "w_candidate = vertical_offset(wk,x,y)\n",
    "\n",
    "w0 = w_candidate[0]\n",
    "w1 = w_candidate[1]\n",
    "\n",
    "w_candidate_Cauchy = vertical_offset_Cauchy(wk,x,y)\n",
    "\n",
    "w0_C = w_candidate_Cauchy[0]\n",
    "w1_C = w_candidate_Cauchy[1]\n",
    "\n",
    "x_in = np.arange(np.min(x),np.max(x),0.01)\n",
    "\n",
    "Z = w0*x_in + w1\n",
    "Z_C = w0_C*x_in + w1_C\n",
    "plt.plot(x,y,'ro')\n",
    "plt.axis('equal')\n",
    "plt.plot(x_in,Z,'b', label = 'LSE')\n",
    "plt.plot(x_in,Z_C,'y', label = 'Cauchy')\n",
    "plt.legend()\n"
   ]
  },
  {
   "cell_type": "markdown",
   "metadata": {},
   "source": [
    "$\\underline{Dataset\\ 4}$"
   ]
  },
  {
   "cell_type": "code",
   "execution_count": 16,
   "metadata": {},
   "outputs": [
    {
     "name": "stdout",
     "output_type": "stream",
     "text": [
      "Stopping criterion is satisfied:  0.000996001092767429\n",
      "Number of steps needed to converge: 520\n",
      "The minimum reached is:  [0.57584149 2.24200659]\n",
      "Error: 7.220403816908437\n",
      "Stopping criterion is satisfied:  0.0009749705131341102\n",
      "Number of steps needed to converge: 187\n",
      "The minimum reached is:  [0.70699135 0.07653931]\n",
      "Error: 5.587409356347556\n"
     ]
    },
    {
     "data": {
      "text/plain": [
       "<matplotlib.legend.Legend at 0x200ac83cc18>"
      ]
     },
     "execution_count": 16,
     "metadata": {},
     "output_type": "execute_result"
    },
    {
     "data": {
      "image/png": "[encoded data removed]",
      "text/plain": [
       "<Figure size 432x288 with 1 Axes>"
      ]
     },
     "metadata": {},
     "output_type": "display_data"
    }
   ],
   "source": [
    "#Vertical\n",
    "\n",
    "x = dataset4[0].values\n",
    "y = dataset4[1].values\n",
    "\n",
    "wk = [0,0]\n",
    "\n",
    "w_candidate = vertical_offset(wk,x,y)\n",
    "\n",
    "w0 = w_candidate[0]\n",
    "w1 = w_candidate[1]\n",
    "\n",
    "w_candidate_Cauchy = vertical_offset_Cauchy(wk,x,y)\n",
    "\n",
    "w0_C = w_candidate_Cauchy[0]\n",
    "w1_C = w_candidate_Cauchy[1]\n",
    "\n",
    "x_in = np.arange(np.min(x),np.max(x),0.01)\n",
    "\n",
    "Z = w0*x_in + w1\n",
    "Z_C = w0_C*x_in + w1_C\n",
    "plt.plot(x,y,'ro')\n",
    "plt.axis('equal')\n",
    "plt.plot(x_in,Z,'b', label = 'LSE')\n",
    "plt.plot(x_in,Z_C,'y', label = 'Cauchy')\n",
    "plt.legend()\n"
   ]
  },
  {
   "cell_type": "markdown",
   "metadata": {},
   "source": [
    "Comparing the results using both robust functions we see that the parameters obtained are different. So, in the vertical offset, the objective function used has an influence over the parameters computed. Previously, we have observed that the Cauchy function is not so sensitive to outliers as Least Square Error is. As a proof of that, it could be appreciatted in the plots that the line obtained using the Cauchy function is more far from the outliers than the one obtained using LSE. Concluding, we have achieved a model which is more robust to outliers than we previously did."
   ]
  },
  {
   "cell_type": "markdown",
   "metadata": {},
   "source": [
    "#### Perpendicular offset"
   ]
  },
  {
   "cell_type": "code",
   "execution_count": 9,
   "metadata": {},
   "outputs": [],
   "source": [
    "def F_perp_Cauchy(w,x,y):\n",
    "    \n",
    "    r = 0\n",
    "    u = 0\n",
    "    N = len(x)\n",
    "    \n",
    "    for i in range(N):\n",
    "        u = abs(w[0]*x[i]+w[1]*y[i]+w[2])/np.sqrt(w[0]**2 + w[1]**2)\n",
    "        \n",
    "        r+= 0.5*np.log(1+(u)**2)\n",
    "        \n",
    "    return(r)\n",
    "    \n",
    "#calculate the gradient for the Cauchy    \n",
    "def gradient_perp_Cauchy(w,x,y):\n",
    "    \n",
    "    dQ = [0,0,0]\n",
    "    dQ_dw0 = 0\n",
    "    dQ_dw1 = 0\n",
    "    dQ_db = 0\n",
    "    \n",
    "    N = len(x)\n",
    "    \n",
    "    for i in range(N):\n",
    "        \n",
    "        u = abs(w[0]*x[i]+w[1]*y[i]+w[2])/np.sqrt(w[0]**2 + w[1]**2)\n",
    "        \n",
    "        num = (w[0]*x[i]+w[1]*y[i]+w[2])\n",
    "        norm = (w[0]**2+w[1]**2)\n",
    "        \n",
    "        du_dw0 = (x[i]*norm *num - w[0]*num**2)/(abs(num)*norm**(3/2))\n",
    "        #du_dw0 = 2*w[0]*(abs(w[0]*x[i]+w[1]*y[i]+w[2])/np.sqrt((w[0]**2 + w[1]**2)**3)) + (w[0]*x[i]+w[1]*y[i]+w[2])*x[i]/((np.sqrt(w[0]**2 + w[1]**2)*abs(w[0]*x[i]+w[1]*y[i]+w[2])))\n",
    "        \n",
    "        dQ_dw0 += u*du_dw0/(1+u**2)\n",
    "        \n",
    "    for j in range(N):\n",
    "        u = abs(w[0]*x[j]+w[1]*y[j]+w[2])/np.sqrt(w[0]**2 + w[1]**2)\n",
    "        \n",
    "        num = (w[0]*x[j]+w[1]*y[j]+w[2])\n",
    "        norm = (w[0]**2+w[1]**2)\n",
    "        \n",
    "        du_dw1 = (y[j]*num)/(np.sqrt(norm)*abs(num))-(w[1]*abs(num)/norm**(3/2))\n",
    "        #du_dw1 = 2*w[1]*(abs(w[0]*x[j]+w[1]*y[j]+w[2])/np.sqrt((w[0]**2 + w[1]**2)**3)) + (w[0]*x[j]+w[1]*y[j]+w[2])*y[j]/((np.sqrt(w[0]**2 + w[1]**2)*abs(w[0]*x[j]+w[1]*y[j]+w[2])))\n",
    "        \n",
    "        dQ_dw1 += u*du_dw1/(1+u**2)\n",
    "        \n",
    "    for k in range(N):\n",
    "        u = abs(w[0]*x[k]+w[1]*y[k]+w[2])/np.sqrt(w[0]**2 + w[1]**2)\n",
    "        \n",
    "        num = (w[0]*x[k]+w[1]*y[k]+w[2])\n",
    "        norm = (w[0]**2+w[1]**2)\n",
    "        \n",
    "        du_db = num/(np.sqrt(norm)*abs(num))\n",
    "        \n",
    "        #du_db = (w[0]*x[k]+w[1]*y[k]+w[2])/((np.sqrt(w[0]**2 + w[1]**2)*abs(w[0]*x[k]+w[1]*y[k]+w[2])))\n",
    "        \n",
    "        dQ_db += u*du_db/(1+u**2)\n",
    "    \n",
    "    dQ[0] = dQ_dw0\n",
    "\n",
    "    dQ[1] = dQ_dw1\n",
    "    \n",
    "    dQ[2] = dQ_db\n",
    "    \n",
    "    return(dQ)"
   ]
  },
  {
   "cell_type": "code",
   "execution_count": 10,
   "metadata": {},
   "outputs": [],
   "source": [
    "def perp_offset_Cauchy(pk,x,y):\n",
    "\n",
    "    pk_list = []\n",
    "    pk_list.append(pk)\n",
    "\n",
    "    alpha = 0.0001\n",
    "    max_iter = 1000\n",
    "    k = 0\n",
    "    norm_ord = 2\n",
    "\n",
    "    p_candidate = np.subtract(pk,alpha*np.array(gradient_perp_Cauchy(pk,x,y)))\n",
    "    p_candidate = p_candidate/np.linalg.norm(p_candidate,norm_ord)\n",
    "\n",
    "    while True:\n",
    "\n",
    "   \n",
    "        p_candidate = np.subtract(pk,alpha*np.array(gradient_perp_Cauchy(pk,x,y)))\n",
    "        p_candidate = p_candidate/np.linalg.norm(p_candidate,norm_ord)\n",
    "        \n",
    "    \n",
    "        pk_list.append(p_candidate.tolist())\n",
    "    \n",
    "        k+=1\n",
    "    \n",
    "        if (abs(F_perp_Cauchy(p_candidate,x,y) - F_perp_Cauchy(pk,x,y))<(10**-3)):\n",
    "            print('Stopping criterion is satisfied: ',abs((F_perp_Cauchy(p_candidate,x,y)-F_perp_Cauchy(pk,x,y))))\n",
    "            break\n",
    "        \n",
    "        pk = p_candidate\n",
    "        p_candidate = np.subtract(pk,alpha*np.array(gradient_perp_Cauchy(pk,x,y)))\n",
    "        p_candidate = p_candidate/np.linalg.norm(p_candidate,norm_ord)\n",
    "        \n",
    "    print('The minimum reached is: ',p_candidate)\n",
    "    print('Norm',np.linalg.norm(p_candidate,norm_ord))\n",
    "    print('Error: ',F_perp_Cauchy(p_candidate,x,y))\n",
    "    return(p_candidate)\n"
   ]
  },
  {
   "cell_type": "markdown",
   "metadata": {},
   "source": [
    "$\\underline{Dataset\\ 1}$"
   ]
  },
  {
   "cell_type": "code",
   "execution_count": 37,
   "metadata": {},
   "outputs": [
    {
     "name": "stdout",
     "output_type": "stream",
     "text": [
      "Stopping criterion is satisfied:  0.0009485530936972353\n",
      "The minimum reached is:  [-0.62265034  0.77981635 -0.06475354]\n",
      "Norm 1.0\n",
      "Error:  7.372666722678271\n",
      "Stopping criterion is satisfied:  0.0009750940836412703\n",
      "The minimum reached is:  [-0.6265006   0.776294   -0.06974678]\n",
      "Norm 1.0\n",
      "Error:  3.76413784201727\n"
     ]
    },
    {
     "data": {
      "image/png": "[encoded data removed]",
      "text/plain": [
       "<Figure size 432x288 with 1 Axes>"
      ]
     },
     "metadata": {},
     "output_type": "display_data"
    }
   ],
   "source": [
    "#Vertical\n",
    "\n",
    "x = dataset1[0].values\n",
    "y = dataset1[1].values\n",
    "\n",
    "plt.plot(x,y,'ro')\n",
    "plt.axis('equal')\n",
    "\n",
    "#Perpendicular\n",
    "pk = [0,1,0]\n",
    "\n",
    "p_candidate = perp_offset(pk,x,y)\n",
    "p_candidate_Cauchy = perp_offset_Cauchy(pk,x,y)\n",
    "\n",
    "w0 = p_candidate[0]\n",
    "w1 = p_candidate[1]\n",
    "b = p_candidate[2]\n",
    "\n",
    "w0_C = p_candidate_Cauchy[0]\n",
    "w1_C = p_candidate_Cauchy[1]\n",
    "b_C = p_candidate_Cauchy[2]\n",
    "\n",
    "x = np.arange(np.min(x),np.max(x),0.01)\n",
    "y = np.arange(np.min(y),np.max(y),0.01)\n",
    "[X,Y] = np.meshgrid(x,y)\n",
    "Z = w0 * X + w1 * Y + b\n",
    "\n",
    "plt.contour(X,Y,Z,[0],colors = 'blue')\n",
    "\n",
    "Z_C = w0_C * X + w1_C * Y + b_C\n",
    "\n",
    "plt.contour(X,Y,Z_C,[0],colors = 'yellow')\n",
    "\n",
    "#plt.legend(title= 'Perpendicular', fontsize= 8) \n",
    "custom_lines = [Line2D([0], [0], color='blue', lw=4),\n",
    "                Line2D([0], [0], color='yellow', lw=4)]\n",
    "\n",
    "plt.legend(custom_lines, ['LSE', 'Cauchy'],loc = \"upper left\")\n",
    "\n",
    "plt.show()\n"
   ]
  },
  {
   "cell_type": "markdown",
   "metadata": {},
   "source": [
    "$\\underline{Dataset\\ 2}$"
   ]
  },
  {
   "cell_type": "code",
   "execution_count": 36,
   "metadata": {},
   "outputs": [
    {
     "name": "stdout",
     "output_type": "stream",
     "text": [
      "Stopping criterion is satisfied:  0.000948652814864559\n",
      "The minimum reached is:  [-0.62264996  0.77981658 -0.06475433]\n",
      "Norm 1.0000000000000002\n",
      "Error:  7.378641198619376\n",
      "Stopping criterion is satisfied:  0.0009773799608963074\n",
      "The minimum reached is:  [-0.65038873  0.755955   -0.07434068]\n",
      "Norm 1.0\n",
      "Error:  3.391476062103897\n"
     ]
    },
    {
     "data": {
      "image/png": "[encoded data removed]",
      "text/plain": [
       "<Figure size 432x288 with 1 Axes>"
      ]
     },
     "metadata": {},
     "output_type": "display_data"
    }
   ],
   "source": [
    "#Vertical\n",
    "\n",
    "x = dataset2[0].values\n",
    "y = dataset2[1].values\n",
    "\n",
    "plt.plot(x,y,'ro')\n",
    "plt.axis('equal')\n",
    "\n",
    "#Perpendicular\n",
    "pk = [0,1,0]\n",
    "\n",
    "p_candidate = perp_offset(pk,x,y)\n",
    "p_candidate_Cauchy = perp_offset_Cauchy(pk,x,y)\n",
    "\n",
    "w0 = p_candidate[0]\n",
    "w1 = p_candidate[1]\n",
    "b = p_candidate[2]\n",
    "\n",
    "w0_C = p_candidate_Cauchy[0]\n",
    "w1_C = p_candidate_Cauchy[1]\n",
    "b_C = p_candidate_Cauchy[2]\n",
    "\n",
    "x = np.arange(np.min(x),np.max(x),0.01)\n",
    "y = np.arange(np.min(y),np.max(y),0.01)\n",
    "[X,Y] = np.meshgrid(x,y)\n",
    "Z = w0 * X + w1 * Y + b\n",
    "\n",
    "plt.contour(X,Y,Z,[0],colors = 'blue')\n",
    "\n",
    "Z_C = w0_C * X + w1_C * Y + b_C\n",
    "\n",
    "plt.contour(X,Y,Z_C,[0],colors = 'yellow')\n",
    "\n",
    "#plt.legend(title= 'Perpendicular', fontsize= 8) \n",
    "custom_lines = [Line2D([0], [0], color='blue', lw=4),\n",
    "                Line2D([0], [0], color='yellow', lw=4)]\n",
    "\n",
    "plt.legend(custom_lines, ['LSE', 'Cauchy'],loc = \"upper left\")\n",
    "\n",
    "plt.show()\n"
   ]
  },
  {
   "cell_type": "markdown",
   "metadata": {},
   "source": [
    "$\\underline{Dataset\\ 3}$"
   ]
  },
  {
   "cell_type": "code",
   "execution_count": 23,
   "metadata": {},
   "outputs": [
    {
     "name": "stdout",
     "output_type": "stream",
     "text": [
      "Stopping criterion is satisfied:  0.0009500092255505521\n",
      "The minimum reached is:  [-0.62259003  0.77986419 -0.06475723]\n",
      "Norm 1.0\n",
      "Error:  7.376704876687373\n",
      "Stopping criterion is satisfied:  0.0009605010925848312\n",
      "The minimum reached is:  [-0.60926292  0.79004078 -0.0680754 ]\n",
      "Norm 0.9999999999999999\n",
      "Error:  3.92583845901806\n"
     ]
    },
    {
     "data": {
      "image/png": "[encoded data removed]",
      "text/plain": [
       "<Figure size 432x288 with 1 Axes>"
      ]
     },
     "metadata": {},
     "output_type": "display_data"
    }
   ],
   "source": [
    "#Vertical\n",
    "\n",
    "x = dataset3[0].values\n",
    "y = dataset3[1].values\n",
    "\n",
    "plt.plot(x,y,'ro')\n",
    "plt.axis('equal')\n",
    "\n",
    "#Perpendicular\n",
    "pk = [0,1,0]\n",
    "\n",
    "p_candidate = perp_offset(pk,x,y)\n",
    "p_candidate_Cauchy = perp_offset_Cauchy(pk,x,y)\n",
    "\n",
    "w0 = p_candidate[0]\n",
    "w1 = p_candidate[1]\n",
    "b = p_candidate[2]\n",
    "\n",
    "w0_C = p_candidate_Cauchy[0]\n",
    "w1_C = p_candidate_Cauchy[1]\n",
    "b_C = p_candidate_Cauchy[2]\n",
    "\n",
    "x = np.arange(np.min(x),np.max(x),0.01)\n",
    "y = np.arange(np.min(y),np.max(y),0.01)\n",
    "[X,Y] = np.meshgrid(x,y)\n",
    "Z = w0 * X + w1 * Y + b\n",
    "\n",
    "plt.contour(X,Y,Z,[0],colors = 'blue')\n",
    "\n",
    "Z_C = w0_C * X + w1_C * Y + b_C\n",
    "\n",
    "plt.contour(X,Y,Z_C,[0],colors = 'yellow')\n",
    "\n",
    "#plt.legend(title= 'Perpendicular', fontsize= 8) \n",
    "custom_lines = [Line2D([0], [0], color='blue', lw=4),\n",
    "                Line2D([0], [0], color='yellow', lw=4)]\n",
    "\n",
    "plt.legend(custom_lines, ['LSE', 'Cauchy'],loc = \"upper left\")\n",
    "\n",
    "plt.show()\n"
   ]
  },
  {
   "cell_type": "markdown",
   "metadata": {},
   "source": [
    "$\\underline{Dataset\\ 4}$"
   ]
  },
  {
   "cell_type": "code",
   "execution_count": 40,
   "metadata": {},
   "outputs": [
    {
     "name": "stdout",
     "output_type": "stream",
     "text": [
      "Stopping criterion is satisfied:  0.0008997578671134931\n",
      "The minimum reached is:  [ 0.63272966 -0.77072542 -0.07507003]\n",
      "Norm 1.0\n",
      "Error:  7.635760574754971\n",
      "Stopping criterion is satisfied:  0.0009471989307163753\n",
      "The minimum reached is:  [ 0.6622331  -0.74413927 -0.08777282]\n",
      "Norm 0.9999999999999999\n",
      "Error:  3.694364331885539\n"
     ]
    },
    {
     "data": {
      "image/png": "[encoded data removed]",
      "text/plain": [
       "<Figure size 432x288 with 1 Axes>"
      ]
     },
     "metadata": {},
     "output_type": "display_data"
    }
   ],
   "source": [
    "#Vertical\n",
    "\n",
    "x = dataset4[0].values\n",
    "y = dataset4[1].values\n",
    "\n",
    "plt.plot(x,y,'ro')\n",
    "plt.axis('equal')\n",
    "\n",
    "#Perpendicular\n",
    "pk = [1,0,0]\n",
    "\n",
    "p_candidate = perp_offset(pk,x,y)\n",
    "p_candidate_Cauchy = perp_offset_Cauchy(pk,x,y)\n",
    "\n",
    "w0 = p_candidate[0]\n",
    "w1 = p_candidate[1]\n",
    "b = p_candidate[2]\n",
    "\n",
    "w0_C = p_candidate_Cauchy[0]\n",
    "w1_C = p_candidate_Cauchy[1]\n",
    "b_C = p_candidate_Cauchy[2]\n",
    "\n",
    "x = np.arange(np.min(x),np.max(x),0.01)\n",
    "y = np.arange(np.min(y),np.max(y),0.01)\n",
    "[X,Y] = np.meshgrid(x,y)\n",
    "Z = w0 * X + w1 * Y + b\n",
    "\n",
    "plt.contour(X,Y,Z,[0],colors = 'blue')\n",
    "\n",
    "Z_C = w0_C * X + w1_C * Y + b_C\n",
    "\n",
    "plt.contour(X,Y,Z_C,[0],colors = 'yellow')\n",
    "\n",
    "#plt.legend(title= 'Perpendicular', fontsize= 8) \n",
    "custom_lines = [Line2D([0], [0], color='blue', lw=4),\n",
    "                Line2D([0], [0], color='yellow', lw=4)]\n",
    "\n",
    "plt.legend(custom_lines, ['LSE', 'Cauchy'],loc = \"upper left\")\n",
    "\n",
    "plt.show()\n"
   ]
  },
  {
   "cell_type": "markdown",
   "metadata": {},
   "source": [
    "As we did before for the vertical offset method, we have plotted the regression lines obtained using both functions, Least Square Error and Cauchy, and once again we proved the influence of the used function over the parameters. The values obtained are different depending on the function used, and as a consequence, the regression line is distinct. For those set of samples which clearly contains outliers, the regression line when using Cauchy function is less afected by the value of this odd sample."
   ]
  }
 ],
 "metadata": {
  "kernelspec": {
   "display_name": "Python 3",
   "language": "python",
   "name": "python3"
  },
  "language_info": {
   "codemirror_mode": {
    "name": "ipython",
    "version": 3
   },
   "file_extension": ".py",
   "mimetype": "text/x-python",
   "name": "python",
   "nbconvert_exporter": "python",
   "pygments_lexer": "ipython3",
   "version": "3.6.5"
  }
 },
 "nbformat": 4,
 "nbformat_minor": 2
}
